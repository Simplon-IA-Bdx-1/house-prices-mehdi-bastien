{
 "cells": [
  {
   "cell_type": "code",
   "execution_count": 1,
   "metadata": {},
   "outputs": [],
   "source": [
    "import pandas as pd\n",
    "import numpy as np\n",
    "import seaborn as sns\n",
    "import matplotlib.pyplot as plt\n",
    "import matplotlib\n",
    "import xgboost as xgb\n",
    "import warnings\n",
    "warnings.filterwarnings('ignore')\n",
    "\n",
    "from sklearn.model_selection import cross_val_score\n",
    "from sklearn.ensemble import IsolationForest\n",
    "from sklearn.model_selection import train_test_split\n",
    "from scipy.stats.stats import pearsonr\n",
    "from sklearn.metrics import mean_squared_error, mean_squared_log_error, mean_absolute_error\n",
    "from scipy.stats import skew\n",
    "\n",
    "\n",
    "%config InlineBackend.figure_format = 'retina'\n",
    "%matplotlib notebook"
   ]
  },
  {
   "cell_type": "code",
   "execution_count": 2,
   "metadata": {},
   "outputs": [],
   "source": [
    "train = pd.read_csv('train.csv')\n",
    "test = pd.read_csv('test.csv')"
   ]
  },
  {
   "cell_type": "code",
   "execution_count": 3,
   "metadata": {},
   "outputs": [
    {
     "name": "stdout",
     "output_type": "stream",
     "text": [
      "1460\n"
     ]
    }
   ],
   "source": [
    "# Save column Id\n",
    "train_id = train['Id']\n",
    "test_id = test['Id']\n",
    "\n",
    "# Drop column Id because it's useless for the process\n",
    "train.drop(\"Id\", axis = 1, inplace = True)\n",
    "test.drop(\"Id\", axis = 1, inplace = True)\n",
    "\n",
    "train_num = train.select_dtypes(exclude=['object'])\n",
    "train_num.fillna(0,inplace=True)\n",
    "print(len(train_num))\n",
    "\n",
    "test.fillna(0,inplace=True)"
   ]
  },
  {
   "cell_type": "code",
   "execution_count": 4,
   "metadata": {},
   "outputs": [
    {
     "name": "stdout",
     "output_type": "stream",
     "text": [
      "1460\n"
     ]
    },
    {
     "data": {
      "text/html": [
       "<div>\n",
       "<style scoped>\n",
       "    .dataframe tbody tr th:only-of-type {\n",
       "        vertical-align: middle;\n",
       "    }\n",
       "\n",
       "    .dataframe tbody tr th {\n",
       "        vertical-align: top;\n",
       "    }\n",
       "\n",
       "    .dataframe thead th {\n",
       "        text-align: right;\n",
       "    }\n",
       "</style>\n",
       "<table border=\"1\" class=\"dataframe\">\n",
       "  <thead>\n",
       "    <tr style=\"text-align: right;\">\n",
       "      <th></th>\n",
       "      <th>MSZoning</th>\n",
       "      <th>Street</th>\n",
       "      <th>Alley</th>\n",
       "      <th>LotShape</th>\n",
       "      <th>LandContour</th>\n",
       "      <th>Utilities</th>\n",
       "      <th>LotConfig</th>\n",
       "      <th>LandSlope</th>\n",
       "      <th>Neighborhood</th>\n",
       "      <th>Condition1</th>\n",
       "      <th>...</th>\n",
       "      <th>GarageType</th>\n",
       "      <th>GarageFinish</th>\n",
       "      <th>GarageQual</th>\n",
       "      <th>GarageCond</th>\n",
       "      <th>PavedDrive</th>\n",
       "      <th>PoolQC</th>\n",
       "      <th>Fence</th>\n",
       "      <th>MiscFeature</th>\n",
       "      <th>SaleType</th>\n",
       "      <th>SaleCondition</th>\n",
       "    </tr>\n",
       "  </thead>\n",
       "  <tbody>\n",
       "    <tr>\n",
       "      <th>0</th>\n",
       "      <td>RL</td>\n",
       "      <td>Pave</td>\n",
       "      <td>NaN</td>\n",
       "      <td>Reg</td>\n",
       "      <td>Lvl</td>\n",
       "      <td>AllPub</td>\n",
       "      <td>Inside</td>\n",
       "      <td>Gtl</td>\n",
       "      <td>CollgCr</td>\n",
       "      <td>Norm</td>\n",
       "      <td>...</td>\n",
       "      <td>Attchd</td>\n",
       "      <td>RFn</td>\n",
       "      <td>TA</td>\n",
       "      <td>TA</td>\n",
       "      <td>Y</td>\n",
       "      <td>NaN</td>\n",
       "      <td>NaN</td>\n",
       "      <td>NaN</td>\n",
       "      <td>WD</td>\n",
       "      <td>Normal</td>\n",
       "    </tr>\n",
       "    <tr>\n",
       "      <th>1</th>\n",
       "      <td>RL</td>\n",
       "      <td>Pave</td>\n",
       "      <td>NaN</td>\n",
       "      <td>Reg</td>\n",
       "      <td>Lvl</td>\n",
       "      <td>AllPub</td>\n",
       "      <td>FR2</td>\n",
       "      <td>Gtl</td>\n",
       "      <td>Veenker</td>\n",
       "      <td>Feedr</td>\n",
       "      <td>...</td>\n",
       "      <td>Attchd</td>\n",
       "      <td>RFn</td>\n",
       "      <td>TA</td>\n",
       "      <td>TA</td>\n",
       "      <td>Y</td>\n",
       "      <td>NaN</td>\n",
       "      <td>NaN</td>\n",
       "      <td>NaN</td>\n",
       "      <td>WD</td>\n",
       "      <td>Normal</td>\n",
       "    </tr>\n",
       "    <tr>\n",
       "      <th>2</th>\n",
       "      <td>RL</td>\n",
       "      <td>Pave</td>\n",
       "      <td>NaN</td>\n",
       "      <td>IR1</td>\n",
       "      <td>Lvl</td>\n",
       "      <td>AllPub</td>\n",
       "      <td>Inside</td>\n",
       "      <td>Gtl</td>\n",
       "      <td>CollgCr</td>\n",
       "      <td>Norm</td>\n",
       "      <td>...</td>\n",
       "      <td>Attchd</td>\n",
       "      <td>RFn</td>\n",
       "      <td>TA</td>\n",
       "      <td>TA</td>\n",
       "      <td>Y</td>\n",
       "      <td>NaN</td>\n",
       "      <td>NaN</td>\n",
       "      <td>NaN</td>\n",
       "      <td>WD</td>\n",
       "      <td>Normal</td>\n",
       "    </tr>\n",
       "    <tr>\n",
       "      <th>3</th>\n",
       "      <td>RL</td>\n",
       "      <td>Pave</td>\n",
       "      <td>NaN</td>\n",
       "      <td>IR1</td>\n",
       "      <td>Lvl</td>\n",
       "      <td>AllPub</td>\n",
       "      <td>Corner</td>\n",
       "      <td>Gtl</td>\n",
       "      <td>Crawfor</td>\n",
       "      <td>Norm</td>\n",
       "      <td>...</td>\n",
       "      <td>Detchd</td>\n",
       "      <td>Unf</td>\n",
       "      <td>TA</td>\n",
       "      <td>TA</td>\n",
       "      <td>Y</td>\n",
       "      <td>NaN</td>\n",
       "      <td>NaN</td>\n",
       "      <td>NaN</td>\n",
       "      <td>WD</td>\n",
       "      <td>Abnorml</td>\n",
       "    </tr>\n",
       "    <tr>\n",
       "      <th>4</th>\n",
       "      <td>RL</td>\n",
       "      <td>Pave</td>\n",
       "      <td>NaN</td>\n",
       "      <td>IR1</td>\n",
       "      <td>Lvl</td>\n",
       "      <td>AllPub</td>\n",
       "      <td>FR2</td>\n",
       "      <td>Gtl</td>\n",
       "      <td>NoRidge</td>\n",
       "      <td>Norm</td>\n",
       "      <td>...</td>\n",
       "      <td>Attchd</td>\n",
       "      <td>RFn</td>\n",
       "      <td>TA</td>\n",
       "      <td>TA</td>\n",
       "      <td>Y</td>\n",
       "      <td>NaN</td>\n",
       "      <td>NaN</td>\n",
       "      <td>NaN</td>\n",
       "      <td>WD</td>\n",
       "      <td>Normal</td>\n",
       "    </tr>\n",
       "    <tr>\n",
       "      <th>5</th>\n",
       "      <td>RL</td>\n",
       "      <td>Pave</td>\n",
       "      <td>NaN</td>\n",
       "      <td>IR1</td>\n",
       "      <td>Lvl</td>\n",
       "      <td>AllPub</td>\n",
       "      <td>Inside</td>\n",
       "      <td>Gtl</td>\n",
       "      <td>Mitchel</td>\n",
       "      <td>Norm</td>\n",
       "      <td>...</td>\n",
       "      <td>Attchd</td>\n",
       "      <td>Unf</td>\n",
       "      <td>TA</td>\n",
       "      <td>TA</td>\n",
       "      <td>Y</td>\n",
       "      <td>NaN</td>\n",
       "      <td>MnPrv</td>\n",
       "      <td>Shed</td>\n",
       "      <td>WD</td>\n",
       "      <td>Normal</td>\n",
       "    </tr>\n",
       "    <tr>\n",
       "      <th>6</th>\n",
       "      <td>RL</td>\n",
       "      <td>Pave</td>\n",
       "      <td>NaN</td>\n",
       "      <td>Reg</td>\n",
       "      <td>Lvl</td>\n",
       "      <td>AllPub</td>\n",
       "      <td>Inside</td>\n",
       "      <td>Gtl</td>\n",
       "      <td>Somerst</td>\n",
       "      <td>Norm</td>\n",
       "      <td>...</td>\n",
       "      <td>Attchd</td>\n",
       "      <td>RFn</td>\n",
       "      <td>TA</td>\n",
       "      <td>TA</td>\n",
       "      <td>Y</td>\n",
       "      <td>NaN</td>\n",
       "      <td>NaN</td>\n",
       "      <td>NaN</td>\n",
       "      <td>WD</td>\n",
       "      <td>Normal</td>\n",
       "    </tr>\n",
       "    <tr>\n",
       "      <th>7</th>\n",
       "      <td>RL</td>\n",
       "      <td>Pave</td>\n",
       "      <td>NaN</td>\n",
       "      <td>IR1</td>\n",
       "      <td>Lvl</td>\n",
       "      <td>AllPub</td>\n",
       "      <td>Corner</td>\n",
       "      <td>Gtl</td>\n",
       "      <td>NWAmes</td>\n",
       "      <td>PosN</td>\n",
       "      <td>...</td>\n",
       "      <td>Attchd</td>\n",
       "      <td>RFn</td>\n",
       "      <td>TA</td>\n",
       "      <td>TA</td>\n",
       "      <td>Y</td>\n",
       "      <td>NaN</td>\n",
       "      <td>NaN</td>\n",
       "      <td>Shed</td>\n",
       "      <td>WD</td>\n",
       "      <td>Normal</td>\n",
       "    </tr>\n",
       "    <tr>\n",
       "      <th>8</th>\n",
       "      <td>RM</td>\n",
       "      <td>Pave</td>\n",
       "      <td>NaN</td>\n",
       "      <td>Reg</td>\n",
       "      <td>Lvl</td>\n",
       "      <td>AllPub</td>\n",
       "      <td>Inside</td>\n",
       "      <td>Gtl</td>\n",
       "      <td>OldTown</td>\n",
       "      <td>Artery</td>\n",
       "      <td>...</td>\n",
       "      <td>Detchd</td>\n",
       "      <td>Unf</td>\n",
       "      <td>Fa</td>\n",
       "      <td>TA</td>\n",
       "      <td>Y</td>\n",
       "      <td>NaN</td>\n",
       "      <td>NaN</td>\n",
       "      <td>NaN</td>\n",
       "      <td>WD</td>\n",
       "      <td>Abnorml</td>\n",
       "    </tr>\n",
       "    <tr>\n",
       "      <th>9</th>\n",
       "      <td>RL</td>\n",
       "      <td>Pave</td>\n",
       "      <td>NaN</td>\n",
       "      <td>Reg</td>\n",
       "      <td>Lvl</td>\n",
       "      <td>AllPub</td>\n",
       "      <td>Corner</td>\n",
       "      <td>Gtl</td>\n",
       "      <td>BrkSide</td>\n",
       "      <td>Artery</td>\n",
       "      <td>...</td>\n",
       "      <td>Attchd</td>\n",
       "      <td>RFn</td>\n",
       "      <td>Gd</td>\n",
       "      <td>TA</td>\n",
       "      <td>Y</td>\n",
       "      <td>NaN</td>\n",
       "      <td>NaN</td>\n",
       "      <td>NaN</td>\n",
       "      <td>WD</td>\n",
       "      <td>Normal</td>\n",
       "    </tr>\n",
       "  </tbody>\n",
       "</table>\n",
       "<p>10 rows × 43 columns</p>\n",
       "</div>"
      ],
      "text/plain": [
       "  MSZoning Street Alley LotShape LandContour Utilities LotConfig LandSlope  \\\n",
       "0       RL   Pave   NaN      Reg         Lvl    AllPub    Inside       Gtl   \n",
       "1       RL   Pave   NaN      Reg         Lvl    AllPub       FR2       Gtl   \n",
       "2       RL   Pave   NaN      IR1         Lvl    AllPub    Inside       Gtl   \n",
       "3       RL   Pave   NaN      IR1         Lvl    AllPub    Corner       Gtl   \n",
       "4       RL   Pave   NaN      IR1         Lvl    AllPub       FR2       Gtl   \n",
       "5       RL   Pave   NaN      IR1         Lvl    AllPub    Inside       Gtl   \n",
       "6       RL   Pave   NaN      Reg         Lvl    AllPub    Inside       Gtl   \n",
       "7       RL   Pave   NaN      IR1         Lvl    AllPub    Corner       Gtl   \n",
       "8       RM   Pave   NaN      Reg         Lvl    AllPub    Inside       Gtl   \n",
       "9       RL   Pave   NaN      Reg         Lvl    AllPub    Corner       Gtl   \n",
       "\n",
       "  Neighborhood Condition1  ... GarageType GarageFinish GarageQual GarageCond  \\\n",
       "0      CollgCr       Norm  ...     Attchd          RFn         TA         TA   \n",
       "1      Veenker      Feedr  ...     Attchd          RFn         TA         TA   \n",
       "2      CollgCr       Norm  ...     Attchd          RFn         TA         TA   \n",
       "3      Crawfor       Norm  ...     Detchd          Unf         TA         TA   \n",
       "4      NoRidge       Norm  ...     Attchd          RFn         TA         TA   \n",
       "5      Mitchel       Norm  ...     Attchd          Unf         TA         TA   \n",
       "6      Somerst       Norm  ...     Attchd          RFn         TA         TA   \n",
       "7       NWAmes       PosN  ...     Attchd          RFn         TA         TA   \n",
       "8      OldTown     Artery  ...     Detchd          Unf         Fa         TA   \n",
       "9      BrkSide     Artery  ...     Attchd          RFn         Gd         TA   \n",
       "\n",
       "  PavedDrive PoolQC  Fence MiscFeature SaleType SaleCondition  \n",
       "0          Y    NaN    NaN         NaN       WD        Normal  \n",
       "1          Y    NaN    NaN         NaN       WD        Normal  \n",
       "2          Y    NaN    NaN         NaN       WD        Normal  \n",
       "3          Y    NaN    NaN         NaN       WD       Abnorml  \n",
       "4          Y    NaN    NaN         NaN       WD        Normal  \n",
       "5          Y    NaN  MnPrv        Shed       WD        Normal  \n",
       "6          Y    NaN    NaN         NaN       WD        Normal  \n",
       "7          Y    NaN    NaN        Shed       WD        Normal  \n",
       "8          Y    NaN    NaN         NaN       WD       Abnorml  \n",
       "9          Y    NaN    NaN         NaN       WD        Normal  \n",
       "\n",
       "[10 rows x 43 columns]"
      ]
     },
     "execution_count": 4,
     "metadata": {},
     "output_type": "execute_result"
    }
   ],
   "source": [
    "train_cat = train.select_dtypes(exclude=['int64', 'float64'])\n",
    "train_num.fillna('None',inplace=True)\n",
    "print(len(train_num))\n",
    "train_cat.head(10)\n"
   ]
  },
  {
   "cell_type": "code",
   "execution_count": 5,
   "metadata": {},
   "outputs": [],
   "source": [
    "for dataset in train_num, test:\n",
    "    dataset['Surface'] = dataset['GrLivArea'] + dataset['TotalBsmtSF']"
   ]
  },
  {
   "cell_type": "code",
   "execution_count": 6,
   "metadata": {
    "scrolled": true
   },
   "outputs": [
    {
     "data": {
      "text/plain": [
       "<seaborn.axisgrid.JointGrid at 0x7f3e1081e0f0>"
      ]
     },
     "execution_count": 6,
     "metadata": {},
     "output_type": "execute_result"
    },
    {
     "data": {
      "image/png": "[encoded data removed]",
      "text/plain": [
       "<Figure size 432x432 with 3 Axes>"
      ]
     },
     "metadata": {
      "image/png": {
       "height": 423,
       "width": 452
      },
      "needs_background": "light"
     },
     "output_type": "display_data"
    }
   ],
   "source": [
    "sns.jointplot(x=train_num['Surface'], y = train_num['SalePrice'], kind='reg').annotate(pearsonr)"
   ]
  },
  {
   "cell_type": "markdown",
   "metadata": {},
   "source": [
    "Remove outliers"
   ]
  },
  {
   "cell_type": "code",
   "execution_count": 7,
   "metadata": {},
   "outputs": [
    {
     "name": "stdout",
     "output_type": "stream",
     "text": [
      "1460\n"
     ]
    }
   ],
   "source": [
    "clf = IsolationForest(max_samples = 100, random_state=42)\n",
    "clf.fit(train_num)\n",
    "y_not_outlier = clf.predict(train_num)\n",
    "y_not_outlier = pd.DataFrame(y_not_outlier, columns = ['Outlier'])\n",
    "\n",
    "y_not_outlier[y_not_outlier['Outlier'] == 1].index.values\n",
    "y_not_outlier.head(10)\n",
    "\n",
    "print(len(train))\n",
    "\n",
    "#train.head(10)"
   ]
  },
  {
   "cell_type": "code",
   "execution_count": 8,
   "metadata": {},
   "outputs": [],
   "source": [
    "train_num = train_num.iloc[y_not_outlier[y_not_outlier['Outlier'] == 1].index.values]\n",
    "train_num.reset_index(drop = True, inplace = True)"
   ]
  },
  {
   "cell_type": "code",
   "execution_count": 9,
   "metadata": {},
   "outputs": [
    {
     "name": "stdout",
     "output_type": "stream",
     "text": [
      "1314\n"
     ]
    }
   ],
   "source": [
    "print(len(train_num))"
   ]
  },
  {
   "cell_type": "code",
   "execution_count": 10,
   "metadata": {
    "scrolled": true
   },
   "outputs": [
    {
     "data": {
      "text/plain": [
       "<seaborn.axisgrid.JointGrid at 0x7f3e0c619400>"
      ]
     },
     "execution_count": 10,
     "metadata": {},
     "output_type": "execute_result"
    },
    {
     "data": {
      "image/png": "[encoded data removed]",
      "text/plain": [
       "<Figure size 432x432 with 3 Axes>"
      ]
     },
     "metadata": {
      "image/png": {
       "height": 423,
       "width": 446
      },
      "needs_background": "light"
     },
     "output_type": "display_data"
    }
   ],
   "source": [
    "sns.jointplot(x=train_num['Surface'], y = train_num['SalePrice'], kind='reg').annotate(pearsonr)"
   ]
  },
  {
   "cell_type": "code",
   "execution_count": 11,
   "metadata": {
    "scrolled": true
   },
   "outputs": [
    {
     "data": {
      "text/html": [
       "<div>\n",
       "<style scoped>\n",
       "    .dataframe tbody tr th:only-of-type {\n",
       "        vertical-align: middle;\n",
       "    }\n",
       "\n",
       "    .dataframe tbody tr th {\n",
       "        vertical-align: top;\n",
       "    }\n",
       "\n",
       "    .dataframe thead th {\n",
       "        text-align: right;\n",
       "    }\n",
       "</style>\n",
       "<table border=\"1\" class=\"dataframe\">\n",
       "  <thead>\n",
       "    <tr style=\"text-align: right;\">\n",
       "      <th></th>\n",
       "      <th>MSSubClass</th>\n",
       "      <th>LotFrontage</th>\n",
       "      <th>LotArea</th>\n",
       "      <th>OverallQual</th>\n",
       "      <th>OverallCond</th>\n",
       "      <th>YearBuilt</th>\n",
       "      <th>YearRemodAdd</th>\n",
       "      <th>MasVnrArea</th>\n",
       "      <th>BsmtFinSF1</th>\n",
       "      <th>BsmtFinSF2</th>\n",
       "      <th>...</th>\n",
       "      <th>GarageType</th>\n",
       "      <th>GarageFinish</th>\n",
       "      <th>GarageQual</th>\n",
       "      <th>GarageCond</th>\n",
       "      <th>PavedDrive</th>\n",
       "      <th>PoolQC</th>\n",
       "      <th>Fence</th>\n",
       "      <th>MiscFeature</th>\n",
       "      <th>SaleType</th>\n",
       "      <th>SaleCondition</th>\n",
       "    </tr>\n",
       "  </thead>\n",
       "  <tbody>\n",
       "    <tr>\n",
       "      <th>0</th>\n",
       "      <td>60</td>\n",
       "      <td>65.0</td>\n",
       "      <td>8450</td>\n",
       "      <td>7</td>\n",
       "      <td>5</td>\n",
       "      <td>2003</td>\n",
       "      <td>2003</td>\n",
       "      <td>196.0</td>\n",
       "      <td>706</td>\n",
       "      <td>0</td>\n",
       "      <td>...</td>\n",
       "      <td>Attchd</td>\n",
       "      <td>RFn</td>\n",
       "      <td>TA</td>\n",
       "      <td>TA</td>\n",
       "      <td>Y</td>\n",
       "      <td>NaN</td>\n",
       "      <td>NaN</td>\n",
       "      <td>NaN</td>\n",
       "      <td>WD</td>\n",
       "      <td>Normal</td>\n",
       "    </tr>\n",
       "    <tr>\n",
       "      <th>1</th>\n",
       "      <td>20</td>\n",
       "      <td>80.0</td>\n",
       "      <td>9600</td>\n",
       "      <td>6</td>\n",
       "      <td>8</td>\n",
       "      <td>1976</td>\n",
       "      <td>1976</td>\n",
       "      <td>0.0</td>\n",
       "      <td>978</td>\n",
       "      <td>0</td>\n",
       "      <td>...</td>\n",
       "      <td>Attchd</td>\n",
       "      <td>RFn</td>\n",
       "      <td>TA</td>\n",
       "      <td>TA</td>\n",
       "      <td>Y</td>\n",
       "      <td>NaN</td>\n",
       "      <td>NaN</td>\n",
       "      <td>NaN</td>\n",
       "      <td>WD</td>\n",
       "      <td>Normal</td>\n",
       "    </tr>\n",
       "    <tr>\n",
       "      <th>2</th>\n",
       "      <td>60</td>\n",
       "      <td>68.0</td>\n",
       "      <td>11250</td>\n",
       "      <td>7</td>\n",
       "      <td>5</td>\n",
       "      <td>2001</td>\n",
       "      <td>2002</td>\n",
       "      <td>162.0</td>\n",
       "      <td>486</td>\n",
       "      <td>0</td>\n",
       "      <td>...</td>\n",
       "      <td>Attchd</td>\n",
       "      <td>RFn</td>\n",
       "      <td>TA</td>\n",
       "      <td>TA</td>\n",
       "      <td>Y</td>\n",
       "      <td>NaN</td>\n",
       "      <td>NaN</td>\n",
       "      <td>NaN</td>\n",
       "      <td>WD</td>\n",
       "      <td>Normal</td>\n",
       "    </tr>\n",
       "    <tr>\n",
       "      <th>3</th>\n",
       "      <td>70</td>\n",
       "      <td>60.0</td>\n",
       "      <td>9550</td>\n",
       "      <td>7</td>\n",
       "      <td>5</td>\n",
       "      <td>1915</td>\n",
       "      <td>1970</td>\n",
       "      <td>0.0</td>\n",
       "      <td>216</td>\n",
       "      <td>0</td>\n",
       "      <td>...</td>\n",
       "      <td>Detchd</td>\n",
       "      <td>Unf</td>\n",
       "      <td>TA</td>\n",
       "      <td>TA</td>\n",
       "      <td>Y</td>\n",
       "      <td>NaN</td>\n",
       "      <td>NaN</td>\n",
       "      <td>NaN</td>\n",
       "      <td>WD</td>\n",
       "      <td>Abnorml</td>\n",
       "    </tr>\n",
       "    <tr>\n",
       "      <th>4</th>\n",
       "      <td>60</td>\n",
       "      <td>84.0</td>\n",
       "      <td>14260</td>\n",
       "      <td>8</td>\n",
       "      <td>5</td>\n",
       "      <td>2000</td>\n",
       "      <td>2000</td>\n",
       "      <td>350.0</td>\n",
       "      <td>655</td>\n",
       "      <td>0</td>\n",
       "      <td>...</td>\n",
       "      <td>Attchd</td>\n",
       "      <td>RFn</td>\n",
       "      <td>TA</td>\n",
       "      <td>TA</td>\n",
       "      <td>Y</td>\n",
       "      <td>NaN</td>\n",
       "      <td>NaN</td>\n",
       "      <td>NaN</td>\n",
       "      <td>WD</td>\n",
       "      <td>Normal</td>\n",
       "    </tr>\n",
       "  </tbody>\n",
       "</table>\n",
       "<p>5 rows × 81 columns</p>\n",
       "</div>"
      ],
      "text/plain": [
       "   MSSubClass  LotFrontage  LotArea  OverallQual  OverallCond  YearBuilt  \\\n",
       "0          60         65.0     8450            7            5       2003   \n",
       "1          20         80.0     9600            6            8       1976   \n",
       "2          60         68.0    11250            7            5       2001   \n",
       "3          70         60.0     9550            7            5       1915   \n",
       "4          60         84.0    14260            8            5       2000   \n",
       "\n",
       "   YearRemodAdd  MasVnrArea  BsmtFinSF1  BsmtFinSF2  ...  GarageType  \\\n",
       "0          2003       196.0         706           0  ...      Attchd   \n",
       "1          1976         0.0         978           0  ...      Attchd   \n",
       "2          2002       162.0         486           0  ...      Attchd   \n",
       "3          1970         0.0         216           0  ...      Detchd   \n",
       "4          2000       350.0         655           0  ...      Attchd   \n",
       "\n",
       "   GarageFinish  GarageQual  GarageCond  PavedDrive  PoolQC  Fence  \\\n",
       "0           RFn          TA          TA           Y     NaN    NaN   \n",
       "1           RFn          TA          TA           Y     NaN    NaN   \n",
       "2           RFn          TA          TA           Y     NaN    NaN   \n",
       "3           Unf          TA          TA           Y     NaN    NaN   \n",
       "4           RFn          TA          TA           Y     NaN    NaN   \n",
       "\n",
       "   MiscFeature  SaleType  SaleCondition  \n",
       "0          NaN        WD         Normal  \n",
       "1          NaN        WD         Normal  \n",
       "2          NaN        WD         Normal  \n",
       "3          NaN        WD        Abnorml  \n",
       "4          NaN        WD         Normal  \n",
       "\n",
       "[5 rows x 81 columns]"
      ]
     },
     "execution_count": 11,
     "metadata": {},
     "output_type": "execute_result"
    }
   ],
   "source": [
    "train = train_num.join(train_cat)\n",
    "train.head()\n"
   ]
  },
  {
   "cell_type": "code",
   "execution_count": 12,
   "metadata": {},
   "outputs": [
    {
     "data": {
      "text/plain": [
       "(1314, 81)"
      ]
     },
     "execution_count": 12,
     "metadata": {},
     "output_type": "execute_result"
    }
   ],
   "source": [
    "train.shape"
   ]
  },
  {
   "cell_type": "code",
   "execution_count": 13,
   "metadata": {},
   "outputs": [
    {
     "name": "stdout",
     "output_type": "stream",
     "text": [
      "Train dataset size: (1314, 81)\n",
      "Test dataset size: (1459, 80)\n",
      "Combined dataset(train + test) size: (2773, 80)\n"
     ]
    }
   ],
   "source": [
    "\n",
    "# Combining Datasets\n",
    "rows_train = train.shape[0]\n",
    "rows_test = test.shape[0]\n",
    "\n",
    "y_train = train.SalePrice.values\n",
    "\n",
    "combined = pd.concat((train, test)).reset_index(drop = True)\n",
    "combined.drop(['SalePrice'], axis=1, inplace=True)\n",
    "combined.shape\n",
    "\n",
    "print(f\"Train dataset size: {train.shape}\")\n",
    "print(f\"Test dataset size: {test.shape}\")\n",
    "print(f\"Combined dataset(train + test) size: {combined.shape}\")"
   ]
  },
  {
   "cell_type": "code",
   "execution_count": 14,
   "metadata": {},
   "outputs": [
    {
     "data": {
      "text/html": [
       "<div>\n",
       "<style scoped>\n",
       "    .dataframe tbody tr th:only-of-type {\n",
       "        vertical-align: middle;\n",
       "    }\n",
       "\n",
       "    .dataframe tbody tr th {\n",
       "        vertical-align: top;\n",
       "    }\n",
       "\n",
       "    .dataframe thead th {\n",
       "        text-align: right;\n",
       "    }\n",
       "</style>\n",
       "<table border=\"1\" class=\"dataframe\">\n",
       "  <thead>\n",
       "    <tr style=\"text-align: right;\">\n",
       "      <th></th>\n",
       "      <th>Skewness</th>\n",
       "    </tr>\n",
       "  </thead>\n",
       "  <tbody>\n",
       "    <tr>\n",
       "      <th>MiscVal</th>\n",
       "      <td>23.652164</td>\n",
       "    </tr>\n",
       "    <tr>\n",
       "      <th>PoolArea</th>\n",
       "      <td>20.677791</td>\n",
       "    </tr>\n",
       "    <tr>\n",
       "      <th>LowQualFinSF</th>\n",
       "      <td>14.880653</td>\n",
       "    </tr>\n",
       "    <tr>\n",
       "      <th>3SsnPorch</th>\n",
       "      <td>11.241921</td>\n",
       "    </tr>\n",
       "    <tr>\n",
       "      <th>LotArea</th>\n",
       "      <td>5.721671</td>\n",
       "    </tr>\n",
       "    <tr>\n",
       "      <th>KitchenAbvGr</th>\n",
       "      <td>4.716559</td>\n",
       "    </tr>\n",
       "    <tr>\n",
       "      <th>BsmtFinSF2</th>\n",
       "      <td>4.236703</td>\n",
       "    </tr>\n",
       "    <tr>\n",
       "      <th>EnclosedPorch</th>\n",
       "      <td>4.097652</td>\n",
       "    </tr>\n",
       "    <tr>\n",
       "      <th>BsmtHalfBath</th>\n",
       "      <td>4.056239</td>\n",
       "    </tr>\n",
       "    <tr>\n",
       "      <th>ScreenPorch</th>\n",
       "      <td>3.971352</td>\n",
       "    </tr>\n",
       "  </tbody>\n",
       "</table>\n",
       "</div>"
      ],
      "text/plain": [
       "                Skewness\n",
       "MiscVal        23.652164\n",
       "PoolArea       20.677791\n",
       "LowQualFinSF   14.880653\n",
       "3SsnPorch      11.241921\n",
       "LotArea         5.721671\n",
       "KitchenAbvGr    4.716559\n",
       "BsmtFinSF2      4.236703\n",
       "EnclosedPorch   4.097652\n",
       "BsmtHalfBath    4.056239\n",
       "ScreenPorch     3.971352"
      ]
     },
     "execution_count": 14,
     "metadata": {},
     "output_type": "execute_result"
    }
   ],
   "source": [
    "num_features = combined.dtypes[combined.dtypes != \"object\"].index\n",
    "\n",
    "# Check the skew of all numerical features\n",
    "skewed_features = combined[num_features].apply(lambda x: skew(x.dropna())).sort_values(ascending=False)\n",
    "skewness = pd.DataFrame({'Skewness' :skewed_features})\n",
    "skewness.head(10)"
   ]
  },
  {
   "cell_type": "code",
   "execution_count": 15,
   "metadata": {},
   "outputs": [],
   "source": [
    "#skewness = skewness[abs(skewness) > 0.5]\n",
    "#print(f\"There are {skewness.shape[0]} skewed numerical features\")"
   ]
  },
  {
   "cell_type": "code",
   "execution_count": 16,
   "metadata": {},
   "outputs": [
    {
     "name": "stdout",
     "output_type": "stream",
     "text": [
      "(2773, 80)\n"
     ]
    }
   ],
   "source": [
    "print(combined.shape)"
   ]
  },
  {
   "cell_type": "code",
   "execution_count": 17,
   "metadata": {},
   "outputs": [
    {
     "name": "stdout",
     "output_type": "stream",
     "text": [
      "(2773, 309)\n"
     ]
    }
   ],
   "source": [
    "combined = pd.get_dummies(combined)\n",
    "print(combined.shape)"
   ]
  },
  {
   "cell_type": "code",
   "execution_count": 18,
   "metadata": {},
   "outputs": [],
   "source": [
    "train = combined[:rows_train]\n",
    "test = combined[rows_train:]"
   ]
  },
  {
   "cell_type": "markdown",
   "metadata": {},
   "source": [
    "One hot Encoding"
   ]
  },
  {
   "cell_type": "code",
   "execution_count": 19,
   "metadata": {},
   "outputs": [],
   "source": [
    "train['SalePrice'] = y_train\n",
    "Y = train['SalePrice']"
   ]
  },
  {
   "cell_type": "code",
   "execution_count": 20,
   "metadata": {},
   "outputs": [],
   "source": [
    "target = 'SalePrice'\n",
    "\n",
    "X_train, X_val, y_train, y_val = train_test_split(train, Y, test_size=0.3, random_state=42)\n",
    "X_train = X_train.drop(target, axis=1)\n",
    "X_val = X_val.drop(target, axis=1)"
   ]
  },
  {
   "cell_type": "code",
   "execution_count": 21,
   "metadata": {},
   "outputs": [],
   "source": [
    "xgbr = xgb.XGBRegressor()"
   ]
  },
  {
   "cell_type": "code",
   "execution_count": 22,
   "metadata": {},
   "outputs": [
    {
     "data": {
      "text/plain": [
       "(919, 309)"
      ]
     },
     "execution_count": 22,
     "metadata": {},
     "output_type": "execute_result"
    }
   ],
   "source": [
    "X_train.shape"
   ]
  },
  {
   "cell_type": "code",
   "execution_count": 23,
   "metadata": {},
   "outputs": [
    {
     "data": {
      "text/plain": [
       "(919,)"
      ]
     },
     "execution_count": 23,
     "metadata": {},
     "output_type": "execute_result"
    }
   ],
   "source": [
    "y_train.shape"
   ]
  },
  {
   "cell_type": "code",
   "execution_count": 24,
   "metadata": {
    "scrolled": true
   },
   "outputs": [
    {
     "name": "stdout",
     "output_type": "stream",
     "text": [
      "[14:21:53] WARNING: /workspace/src/objective/regression_obj.cu:152: reg:linear is now deprecated in favor of reg:squarederror.\n"
     ]
    },
    {
     "data": {
      "text/plain": [
       "XGBRegressor(base_score=0.5, booster='gbtree', colsample_bylevel=1,\n",
       "             colsample_bynode=1, colsample_bytree=1, gamma=0,\n",
       "             importance_type='gain', learning_rate=0.1, max_delta_step=0,\n",
       "             max_depth=3, min_child_weight=1, missing=None, n_estimators=100,\n",
       "             n_jobs=1, nthread=None, objective='reg:linear', random_state=0,\n",
       "             reg_alpha=0, reg_lambda=1, scale_pos_weight=1, seed=None,\n",
       "             silent=None, subsample=1, verbosity=1)"
      ]
     },
     "execution_count": 24,
     "metadata": {},
     "output_type": "execute_result"
    }
   ],
   "source": [
    "xgbr.fit(X_train, y_train)"
   ]
  },
  {
   "cell_type": "code",
   "execution_count": 25,
   "metadata": {},
   "outputs": [
    {
     "name": "stdout",
     "output_type": "stream",
     "text": [
      "[14:21:53] WARNING: /workspace/src/objective/regression_obj.cu:152: reg:linear is now deprecated in favor of reg:squarederror.\n",
      "[14:21:54] WARNING: /workspace/src/objective/regression_obj.cu:152: reg:linear is now deprecated in favor of reg:squarederror.\n",
      "[14:21:54] WARNING: /workspace/src/objective/regression_obj.cu:152: reg:linear is now deprecated in favor of reg:squarederror.\n",
      "[14:21:55] WARNING: /workspace/src/objective/regression_obj.cu:152: reg:linear is now deprecated in favor of reg:squarederror.\n",
      "[14:21:55] WARNING: /workspace/src/objective/regression_obj.cu:152: reg:linear is now deprecated in favor of reg:squarederror.\n",
      "Mean cross-validation score XGBoost: 0.89\n"
     ]
    }
   ],
   "source": [
    "scores_xgbr = cross_val_score(xgbr, X_train, y_train, cv=5)\n",
    "print(\"Mean cross-validation score XGBoost: %.2f\" % scores_xgbr.mean())"
   ]
  },
  {
   "cell_type": "code",
   "execution_count": 26,
   "metadata": {},
   "outputs": [
    {
     "name": "stdout",
     "output_type": "stream",
     "text": [
      "MSE XGBR: 430935080.7247\n",
      "RMSE XGBR: 20758.9759\n"
     ]
    }
   ],
   "source": [
    "y_pred_xgbr = xgbr.predict(X_val)\n",
    "mse_xgbr = mean_squared_error(y_val, y_pred_xgbr)\n",
    "print(\"MSE XGBR: %.4f\" % mse_xgbr)\n",
    "print(\"RMSE XGBR: %.4f\" % np.sqrt(mse_xgbr))"
   ]
  },
  {
   "cell_type": "code",
   "execution_count": 27,
   "metadata": {},
   "outputs": [
    {
     "name": "stdout",
     "output_type": "stream",
     "text": [
      "MAE XGBR: 14298.7714\n"
     ]
    }
   ],
   "source": [
    "mae_xgbr = mean_absolute_error(y_val, y_pred_xgbr)\n",
    "print(\"MAE XGBR: %.4f\" % mae_xgbr)\n"
   ]
  },
  {
   "cell_type": "code",
   "execution_count": 28,
   "metadata": {},
   "outputs": [
    {
     "name": "stdout",
     "output_type": "stream",
     "text": [
      "MSLE XGBR: 0.0143\n"
     ]
    }
   ],
   "source": [
    "msle_xgbr = mean_squared_log_error(y_val, y_pred_xgbr)\n",
    "print(\"MSLE XGBR: %.4f\" % msle_xgbr)"
   ]
  },
  {
   "cell_type": "code",
   "execution_count": null,
   "metadata": {},
   "outputs": [],
   "source": []
  },
  {
   "cell_type": "code",
   "execution_count": 29,
   "metadata": {},
   "outputs": [
    {
     "name": "stderr",
     "output_type": "stream",
     "text": [
      "100%|██████████| 21.2k/21.2k [00:04<00:00, 4.64kB/s]\n"
     ]
    },
    {
     "data": {
      "text/plain": [
       "Successfully submitted to House Prices: Advanced Regression Techniques"
      ]
     },
     "execution_count": 29,
     "metadata": {},
     "output_type": "execute_result"
    }
   ],
   "source": [
    "y_kaggle_xgbr = xgbr.predict(test)\n",
    "\n",
    "import kaggle\n",
    "\n",
    "kaggle_feats = {'Id':test_id, 'SalePrice':y_kaggle_xgbr}\n",
    "sub = pd.DataFrame(data=kaggle_feats)\n",
    "sub.to_csv('submission_xgbr.csv', index=False)\n",
    "\n",
    "submission_file = 'submission_xgbr.csv'\n",
    "kaggle.api.competition_submit(submission_file, \"Submission XGBR)\", \"house-prices-advanced-regression-techniques\")"
   ]
  },
  {
   "cell_type": "code",
   "execution_count": 30,
   "metadata": {},
   "outputs": [
    {
     "data": {
      "text/plain": [
       "[{'ref': 13585547,\n",
       "  'totalBytes': 21673,\n",
       "  'date': '2019-12-02T14:18:03.64Z',\n",
       "  'description': 'Submission KRR)',\n",
       "  'errorDescription': None,\n",
       "  'fileName': 'submission_krr.csv',\n",
       "  'publicScore': None,\n",
       "  'privateScore': None,\n",
       "  'status': 'pending',\n",
       "  'submittedBy': 'Bastien Roques',\n",
       "  'submittedByRef': 'broques',\n",
       "  'teamName': 'Bastien Roques',\n",
       "  'type': 'standard',\n",
       "  'url': 'https://www.kaggle.com/submissions/13585547/13585547.raw'},\n",
       " {'ref': 13567695,\n",
       "  'totalBytes': 21723,\n",
       "  'date': '2019-12-01T08:32:59.577Z',\n",
       "  'description': 'Submission Keras',\n",
       "  'errorDescription': None,\n",
       "  'fileName': 'submission_keras.csv',\n",
       "  'publicScore': '0.17190',\n",
       "  'privateScore': None,\n",
       "  'status': 'complete',\n",
       "  'submittedBy': 'Bastien Roques',\n",
       "  'submittedByRef': 'broques',\n",
       "  'teamName': 'Bastien Roques',\n",
       "  'type': 'standard',\n",
       "  'url': 'https://www.kaggle.com/submissions/13567695/13567695.raw'},\n",
       " {'ref': 13561788,\n",
       "  'totalBytes': 21624,\n",
       "  'date': '2019-11-30T20:29:17.343Z',\n",
       "  'description': 'Submission Keras',\n",
       "  'errorDescription': None,\n",
       "  'fileName': 'submission_keras.csv',\n",
       "  'publicScore': '0.20203',\n",
       "  'privateScore': None,\n",
       "  'status': 'complete',\n",
       "  'submittedBy': 'Bastien Roques',\n",
       "  'submittedByRef': 'broques',\n",
       "  'teamName': 'Bastien Roques',\n",
       "  'type': 'standard',\n",
       "  'url': 'https://www.kaggle.com/submissions/13561788/13561788.raw'},\n",
       " {'ref': 13561571,\n",
       "  'totalBytes': 21634,\n",
       "  'date': '2019-11-30T20:07:31.28Z',\n",
       "  'description': 'Submission Keras',\n",
       "  'errorDescription': None,\n",
       "  'fileName': 'submission_keras.csv',\n",
       "  'publicScore': '0.16883',\n",
       "  'privateScore': None,\n",
       "  'status': 'complete',\n",
       "  'submittedBy': 'Bastien Roques',\n",
       "  'submittedByRef': 'broques',\n",
       "  'teamName': 'Bastien Roques',\n",
       "  'type': 'standard',\n",
       "  'url': 'https://www.kaggle.com/submissions/13561571/13561571.raw'},\n",
       " {'ref': 13561510,\n",
       "  'totalBytes': 21673,\n",
       "  'date': '2019-11-30T20:02:00.767Z',\n",
       "  'description': 'Submission Keras',\n",
       "  'errorDescription': None,\n",
       "  'fileName': 'submission_keras.csv',\n",
       "  'publicScore': '0.47699',\n",
       "  'privateScore': None,\n",
       "  'status': 'complete',\n",
       "  'submittedBy': 'Bastien Roques',\n",
       "  'submittedByRef': 'broques',\n",
       "  'teamName': 'Bastien Roques',\n",
       "  'type': 'standard',\n",
       "  'url': 'https://www.kaggle.com/submissions/13561510/13561510.raw'},\n",
       " {'ref': 13518242,\n",
       "  'totalBytes': 34441,\n",
       "  'date': '2019-11-27T15:46:33.67Z',\n",
       "  'description': 'Submission KRR)',\n",
       "  'errorDescription': None,\n",
       "  'fileName': 'submission_krr.csv',\n",
       "  'publicScore': '0.12495',\n",
       "  'privateScore': None,\n",
       "  'status': 'complete',\n",
       "  'submittedBy': 'Bastien Roques',\n",
       "  'submittedByRef': 'broques',\n",
       "  'teamName': 'Bastien Roques',\n",
       "  'type': 'standard',\n",
       "  'url': 'https://www.kaggle.com/submissions/13518242/13518242.raw'},\n",
       " {'ref': 13518080,\n",
       "  'totalBytes': 34441,\n",
       "  'date': '2019-11-27T15:31:27.983Z',\n",
       "  'description': 'Submission KRR)',\n",
       "  'errorDescription': None,\n",
       "  'fileName': 'submission_krr.csv',\n",
       "  'publicScore': '0.12495',\n",
       "  'privateScore': None,\n",
       "  'status': 'complete',\n",
       "  'submittedBy': 'Bastien Roques',\n",
       "  'submittedByRef': 'broques',\n",
       "  'teamName': 'Bastien Roques',\n",
       "  'type': 'standard',\n",
       "  'url': 'https://www.kaggle.com/submissions/13518080/13518080.raw'},\n",
       " {'ref': 13517854,\n",
       "  'totalBytes': 34441,\n",
       "  'date': '2019-11-27T15:13:51.827Z',\n",
       "  'description': 'Submission KRR)',\n",
       "  'errorDescription': None,\n",
       "  'fileName': 'submission_krr.csv',\n",
       "  'publicScore': '0.12495',\n",
       "  'privateScore': None,\n",
       "  'status': 'complete',\n",
       "  'submittedBy': 'Bastien Roques',\n",
       "  'submittedByRef': 'broques',\n",
       "  'teamName': 'Bastien Roques',\n",
       "  'type': 'standard',\n",
       "  'url': 'https://www.kaggle.com/submissions/13517854/13517854.raw'},\n",
       " {'ref': 13517739,\n",
       "  'totalBytes': 34403,\n",
       "  'date': '2019-11-27T15:04:23.123Z',\n",
       "  'description': 'Submission KernelRidge without tuning hyper params)',\n",
       "  'errorDescription': None,\n",
       "  'fileName': 'submission_krr.csv',\n",
       "  'publicScore': '0.12416',\n",
       "  'privateScore': None,\n",
       "  'status': 'complete',\n",
       "  'submittedBy': 'Bastien Roques',\n",
       "  'submittedByRef': 'broques',\n",
       "  'teamName': 'Bastien Roques',\n",
       "  'type': 'standard',\n",
       "  'url': 'https://www.kaggle.com/submissions/13517739/13517739.raw'},\n",
       " {'ref': 13517587,\n",
       "  'totalBytes': 34444,\n",
       "  'date': '2019-11-27T14:51:22.373Z',\n",
       "  'description': 'Submission Ridge Regressor)',\n",
       "  'errorDescription': None,\n",
       "  'fileName': 'submission_ridge.csv',\n",
       "  'publicScore': '0.12806',\n",
       "  'privateScore': None,\n",
       "  'status': 'complete',\n",
       "  'submittedBy': 'Bastien Roques',\n",
       "  'submittedByRef': 'broques',\n",
       "  'teamName': 'Bastien Roques',\n",
       "  'type': 'standard',\n",
       "  'url': 'https://www.kaggle.com/submissions/13517587/13517587.raw'},\n",
       " {'ref': 13517505,\n",
       "  'totalBytes': 34463,\n",
       "  'date': '2019-11-27T14:45:37.327Z',\n",
       "  'description': 'Submission KernelRidge without tuning hyper params)',\n",
       "  'errorDescription': None,\n",
       "  'fileName': 'submission_krr.csv',\n",
       "  'publicScore': '0.12795',\n",
       "  'privateScore': None,\n",
       "  'status': 'complete',\n",
       "  'submittedBy': 'Bastien Roques',\n",
       "  'submittedByRef': 'broques',\n",
       "  'teamName': 'Bastien Roques',\n",
       "  'type': 'standard',\n",
       "  'url': 'https://www.kaggle.com/submissions/13517505/13517505.raw'},\n",
       " {'ref': 13517442,\n",
       "  'totalBytes': 34463,\n",
       "  'date': '2019-11-27T14:40:50.187Z',\n",
       "  'description': 'Submission KernelRidge without tuning hyper params)',\n",
       "  'errorDescription': None,\n",
       "  'fileName': 'submission_krr.csv',\n",
       "  'publicScore': '0.12795',\n",
       "  'privateScore': None,\n",
       "  'status': 'complete',\n",
       "  'submittedBy': 'Bastien Roques',\n",
       "  'submittedByRef': 'broques',\n",
       "  'teamName': 'Bastien Roques',\n",
       "  'type': 'standard',\n",
       "  'url': 'https://www.kaggle.com/submissions/13517442/13517442.raw'},\n",
       " {'ref': 13517060,\n",
       "  'totalBytes': 34459,\n",
       "  'date': '2019-11-27T14:02:54.95Z',\n",
       "  'description': 'Submission KernelRidge)',\n",
       "  'errorDescription': None,\n",
       "  'fileName': 'submission_krr.csv',\n",
       "  'publicScore': '0.12438',\n",
       "  'privateScore': None,\n",
       "  'status': 'complete',\n",
       "  'submittedBy': 'Bastien Roques',\n",
       "  'submittedByRef': 'broques',\n",
       "  'teamName': 'Bastien Roques',\n",
       "  'type': 'standard',\n",
       "  'url': 'https://www.kaggle.com/submissions/13517060/13517060.raw'},\n",
       " {'ref': 13514970,\n",
       "  'totalBytes': 21615,\n",
       "  'date': '2019-11-27T10:31:04.843Z',\n",
       "  'description': 'Submission XGBoost)',\n",
       "  'errorDescription': None,\n",
       "  'fileName': 'submission_xgb.csv',\n",
       "  'publicScore': '0.13111',\n",
       "  'privateScore': None,\n",
       "  'status': 'complete',\n",
       "  'submittedBy': 'Bastien Roques',\n",
       "  'submittedByRef': 'broques',\n",
       "  'teamName': 'Bastien Roques',\n",
       "  'type': 'standard',\n",
       "  'url': 'https://www.kaggle.com/submissions/13514970/13514970.raw'},\n",
       " {'ref': 13514759,\n",
       "  'totalBytes': 21662,\n",
       "  'date': '2019-11-27T10:07:04.25Z',\n",
       "  'description': 'Submission XGBoost)',\n",
       "  'errorDescription': None,\n",
       "  'fileName': 'submission_xgb.csv',\n",
       "  'publicScore': '0.12836',\n",
       "  'privateScore': None,\n",
       "  'status': 'complete',\n",
       "  'submittedBy': 'Bastien Roques',\n",
       "  'submittedByRef': 'broques',\n",
       "  'teamName': 'Bastien Roques',\n",
       "  'type': 'standard',\n",
       "  'url': 'https://www.kaggle.com/submissions/13514759/13514759.raw'},\n",
       " {'ref': 13497357,\n",
       "  'totalBytes': 21629,\n",
       "  'date': '2019-11-26T10:19:54.607Z',\n",
       "  'description': 'Submission XGBoost)',\n",
       "  'errorDescription': None,\n",
       "  'fileName': 'submission_xgb.csv',\n",
       "  'publicScore': '0.12818',\n",
       "  'privateScore': None,\n",
       "  'status': 'complete',\n",
       "  'submittedBy': 'Bastien Roques',\n",
       "  'submittedByRef': 'broques',\n",
       "  'teamName': 'Bastien Roques',\n",
       "  'type': 'standard',\n",
       "  'url': 'https://www.kaggle.com/submissions/13497357/13497357.raw'},\n",
       " {'ref': 13497289,\n",
       "  'totalBytes': 21659,\n",
       "  'date': '2019-11-26T10:13:45.14Z',\n",
       "  'description': 'Submission XGBoost)',\n",
       "  'errorDescription': None,\n",
       "  'fileName': 'submission_xgb.csv',\n",
       "  'publicScore': '0.13409',\n",
       "  'privateScore': None,\n",
       "  'status': 'complete',\n",
       "  'submittedBy': 'Bastien Roques',\n",
       "  'submittedByRef': 'broques',\n",
       "  'teamName': 'Bastien Roques',\n",
       "  'type': 'standard',\n",
       "  'url': 'https://www.kaggle.com/submissions/13497289/13497289.raw'},\n",
       " {'ref': 13479131,\n",
       "  'totalBytes': 34454,\n",
       "  'date': '2019-11-25T08:34:44.623Z',\n",
       "  'description': None,\n",
       "  'errorDescription': None,\n",
       "  'fileName': 'submission.csv',\n",
       "  'publicScore': '0.11660',\n",
       "  'privateScore': None,\n",
       "  'status': 'complete',\n",
       "  'submittedBy': 'Bastien Roques',\n",
       "  'submittedByRef': 'broques',\n",
       "  'teamName': 'Bastien Roques',\n",
       "  'type': 'standard',\n",
       "  'url': 'https://www.kaggle.com/submissions/13479131/13479131.raw'},\n",
       " {'ref': 12619281,\n",
       "  'totalBytes': 23013,\n",
       "  'date': '2019-09-27T09:18:21.7Z',\n",
       "  'description': 'Prediction with Model',\n",
       "  'errorDescription': None,\n",
       "  'fileName': 'Prediction with Model.csv',\n",
       "  'publicScore': '0.18580',\n",
       "  'privateScore': None,\n",
       "  'status': 'complete',\n",
       "  'submittedBy': 'Bastien Roques',\n",
       "  'submittedByRef': 'broques',\n",
       "  'teamName': 'Bastien Roques',\n",
       "  'type': 'standard',\n",
       "  'url': 'https://www.kaggle.com/submissions/12619281/12619281.raw'},\n",
       " {'ref': 12619143,\n",
       "  'totalBytes': 23963,\n",
       "  'date': '2019-09-27T09:02:50.797Z',\n",
       "  'description': 'First prediction',\n",
       "  'errorDescription': None,\n",
       "  'fileName': 'Predictions BigML.csv',\n",
       "  'publicScore': '1.92100',\n",
       "  'privateScore': None,\n",
       "  'status': 'complete',\n",
       "  'submittedBy': 'Bastien Roques',\n",
       "  'submittedByRef': 'broques',\n",
       "  'teamName': 'Bastien Roques',\n",
       "  'type': 'standard',\n",
       "  'url': 'https://www.kaggle.com/submissions/12619143/12619143.raw'}]"
      ]
     },
     "execution_count": 30,
     "metadata": {},
     "output_type": "execute_result"
    }
   ],
   "source": [
    "kaggle.api.competitions_submissions_list(\"house-prices-advanced-regression-techniques\")"
   ]
  }
 ],
 "metadata": {
  "kernelspec": {
   "display_name": "Python 3",
   "language": "python",
   "name": "python3"
  },
  "language_info": {
   "codemirror_mode": {
    "name": "ipython",
    "version": 3
   },
   "file_extension": ".py",
   "mimetype": "text/x-python",
   "name": "python",
   "nbconvert_exporter": "python",
   "pygments_lexer": "ipython3",
   "version": "3.7.3"
  }
 },
 "nbformat": 4,
 "nbformat_minor": 2
}
