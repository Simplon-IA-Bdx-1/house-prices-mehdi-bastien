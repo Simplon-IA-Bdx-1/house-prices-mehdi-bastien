{
 "cells": [
  {
   "cell_type": "markdown",
   "metadata": {
    "slideshow": {
     "slide_type": "slide"
    }
   },
   "source": [
    "# MLP on House Prices with Keras\n",
    "\n",
    "All Rights Reserved © <a href=\"http://www.louisdorard.com\">Louis Dorard</a>\n",
    "\n",
    "<img src=\"http://s3.louisdorard.com.s3.amazonaws.com/DL_icon.png\">"
   ]
  },
  {
   "cell_type": "markdown",
   "metadata": {
    "slideshow": {
     "slide_type": "slide"
    }
   },
   "source": [
    "## Define `X_train` and `y_train`"
   ]
  },
  {
   "cell_type": "code",
   "execution_count": 1,
   "metadata": {},
   "outputs": [],
   "source": [
    "%run House-Prices-1D.ipynb"
   ]
  },
  {
   "cell_type": "markdown",
   "metadata": {
    "slideshow": {
     "slide_type": "fragment"
    }
   },
   "source": [
    "List of numerical features that don't have missing values:"
   ]
  },
  {
   "cell_type": "code",
   "execution_count": 2,
   "metadata": {
    "slideshow": {
     "slide_type": "fragment"
    }
   },
   "outputs": [],
   "source": [
    "features = [\n",
    "#    'MSSubClass',\n",
    "#    'LotFrontage',\n",
    "    'LotArea',\n",
    "#    'OverallQual',\n",
    "#    'OverallCond',\n",
    "    'YearBuilt',\n",
    "    'YearRemodAdd',\n",
    "    '1stFlrSF',\n",
    "    '2ndFlrSF',\n",
    "#    'LowQualFinSF',\n",
    "#    'GrLivArea',\n",
    "    'FullBath',\n",
    "    'HalfBath',\n",
    "#    'BedroomAbvGr',\n",
    "#    'KitchenAbvGr',\n",
    "#    'TotRmsAbvGrd',\n",
    "#    'Fireplaces',\n",
    "#    'WoodDeckSF',\n",
    "#    'OpenPorchSF',\n",
    "#    'EnclosedPorch',\n",
    "#    '3SsnPorch',\n",
    "#    'ScreenPorch',\n",
    "    'PoolArea',\n",
    "#    'MiscVal',\n",
    "#    'MoSold',\n",
    "    'YrSold']"
   ]
  },
  {
   "cell_type": "code",
   "execution_count": 3,
   "metadata": {
    "slideshow": {
     "slide_type": "slide"
    }
   },
   "outputs": [],
   "source": [
    "X_train_full = data[features].values.astype(float)\n",
    "y_train_full = data[['SalePrice']].values.astype(float)"
   ]
  },
  {
   "cell_type": "markdown",
   "metadata": {
    "slideshow": {
     "slide_type": "slide"
    }
   },
   "source": [
    "Split into an actual training set and a validation set.\n",
    "\n",
    "(Note: make split reproducible -> fix seed of numpy's random number generator, before using scikit)"
   ]
  },
  {
   "cell_type": "code",
   "execution_count": 4,
   "metadata": {
    "slideshow": {
     "slide_type": "fragment"
    }
   },
   "outputs": [],
   "source": [
    "from numpy import random as np_random\n",
    "SEED = 42\n",
    "np_random.seed(SEED)"
   ]
  },
  {
   "cell_type": "code",
   "execution_count": 5,
   "metadata": {
    "slideshow": {
     "slide_type": "fragment"
    }
   },
   "outputs": [],
   "source": [
    "from sklearn.model_selection import train_test_split\n",
    "X_train, X_val, y_train, y_val = train_test_split(X_train_full, y_train_full)"
   ]
  },
  {
   "cell_type": "markdown",
   "metadata": {
    "slideshow": {
     "slide_type": "slide"
    }
   },
   "source": [
    "Normalize inputs:"
   ]
  },
  {
   "cell_type": "code",
   "execution_count": 6,
   "metadata": {
    "slideshow": {
     "slide_type": "fragment"
    }
   },
   "outputs": [
    {
     "data": {
      "text/plain": [
       "StandardScaler(copy=True, with_mean=True, with_std=True)"
      ]
     },
     "execution_count": 6,
     "metadata": {},
     "output_type": "execute_result"
    }
   ],
   "source": [
    "from sklearn.preprocessing import StandardScaler\n",
    "scaler_X = StandardScaler()\n",
    "scaler_X.fit(X_train)"
   ]
  },
  {
   "cell_type": "code",
   "execution_count": 7,
   "metadata": {
    "slideshow": {
     "slide_type": "fragment"
    }
   },
   "outputs": [],
   "source": [
    "X_train_scaled = scaler_X.transform(X_train)\n",
    "X_val_scaled = scaler_X.transform(X_val)"
   ]
  },
  {
   "cell_type": "markdown",
   "metadata": {
    "slideshow": {
     "slide_type": "slide"
    }
   },
   "source": [
    "Log-transform outputs:"
   ]
  },
  {
   "cell_type": "code",
   "execution_count": 8,
   "metadata": {
    "slideshow": {
     "slide_type": "fragment"
    }
   },
   "outputs": [],
   "source": [
    "from numpy import log\n",
    "y_train_log = log(y_train)\n",
    "y_val_log = log(y_val)"
   ]
  },
  {
   "cell_type": "markdown",
   "metadata": {
    "slideshow": {
     "slide_type": "slide"
    }
   },
   "source": [
    "Normalize outputs? Could be useful if training an MLP...\n",
    "\n",
    "_\"Reducing the scale of the target variable will, in turn, reduce the size of the gradient used to update the weights and result in a more stable model and training process.\"_ ([Source](https://machinelearningmastery.com/how-to-improve-neural-network-stability-and-modeling-performance-with-data-scaling/))"
   ]
  },
  {
   "cell_type": "code",
   "execution_count": 9,
   "metadata": {
    "slideshow": {
     "slide_type": "fragment"
    }
   },
   "outputs": [],
   "source": [
    "scaler_Y_log = StandardScaler()\n",
    "scaler_Y_log.fit(y_train_log)\n",
    "y_train_log_scaled = scaler_Y_log.transform(y_train_log)\n",
    "y_val_log_scaled = scaler_Y_log.transform(y_val_log)"
   ]
  },
  {
   "cell_type": "markdown",
   "metadata": {
    "slideshow": {
     "slide_type": "slide"
    }
   },
   "source": [
    "## Model relationship between `x` and  `y`"
   ]
  },
  {
   "cell_type": "markdown",
   "metadata": {
    "slideshow": {
     "slide_type": "fragment"
    }
   },
   "source": [
    "Make results reproducible -> fix seed of TensorFlow's random number generator"
   ]
  },
  {
   "cell_type": "code",
   "execution_count": 10,
   "metadata": {
    "slideshow": {
     "slide_type": "fragment"
    }
   },
   "outputs": [],
   "source": [
    "from tensorflow import random as tf_random\n",
    "tf_random.set_seed(SEED)"
   ]
  },
  {
   "cell_type": "markdown",
   "metadata": {
    "slideshow": {
     "slide_type": "slide"
    }
   },
   "source": [
    "Define model:"
   ]
  },
  {
   "cell_type": "code",
   "execution_count": 11,
   "metadata": {
    "slideshow": {
     "slide_type": "fragment"
    }
   },
   "outputs": [],
   "source": [
    "from tensorflow.keras.models import Sequential\n",
    "from tensorflow.keras.layers import Input, Dense\n",
    "n_input = X_train.shape[1]\n",
    "model = Sequential([\n",
    "    Input(shape=n_input),\n",
    "    Dense(n_input, activation='relu'),\n",
    "    Dense(1)\n",
    "])"
   ]
  },
  {
   "cell_type": "markdown",
   "metadata": {
    "slideshow": {
     "slide_type": "slide"
    }
   },
   "source": [
    "Check model is defined as expected:"
   ]
  },
  {
   "cell_type": "code",
   "execution_count": 12,
   "metadata": {
    "slideshow": {
     "slide_type": "fragment"
    }
   },
   "outputs": [
    {
     "name": "stdout",
     "output_type": "stream",
     "text": [
      "Model: \"sequential\"\n",
      "_________________________________________________________________\n",
      "Layer (type)                 Output Shape              Param #   \n",
      "=================================================================\n",
      "dense (Dense)                (None, 9)                 90        \n",
      "_________________________________________________________________\n",
      "dense_1 (Dense)              (None, 1)                 10        \n",
      "=================================================================\n",
      "Total params: 100\n",
      "Trainable params: 100\n",
      "Non-trainable params: 0\n",
      "_________________________________________________________________\n"
     ]
    }
   ],
   "source": [
    "model.summary()"
   ]
  },
  {
   "cell_type": "markdown",
   "metadata": {
    "slideshow": {
     "slide_type": "slide"
    }
   },
   "source": [
    "## Set up optimizer\n",
    "\n",
    "Using Adam instead of SGD"
   ]
  },
  {
   "cell_type": "code",
   "execution_count": 13,
   "metadata": {
    "slideshow": {
     "slide_type": "fragment"
    }
   },
   "outputs": [],
   "source": [
    "from tensorflow.keras.optimizers import Adam\n",
    "\n",
    "LEARNING_RATE = 0.01\n",
    "model.compile(loss='mse', optimizer=Adam(lr=LEARNING_RATE))"
   ]
  },
  {
   "cell_type": "markdown",
   "metadata": {
    "slideshow": {
     "slide_type": "slide"
    }
   },
   "source": [
    "## Fit model"
   ]
  },
  {
   "cell_type": "code",
   "execution_count": 14,
   "metadata": {
    "slideshow": {
     "slide_type": "fragment"
    }
   },
   "outputs": [
    {
     "name": "stdout",
     "output_type": "stream",
     "text": [
      "Train on 1095 samples, validate on 365 samples\n",
      "Epoch 1/200\n",
      "1095/1095 - 1s - loss: 1.9335 - val_loss: 1.7104\n",
      "Epoch 2/200\n",
      "1095/1095 - 0s - loss: 1.7247 - val_loss: 1.5479\n",
      "Epoch 3/200\n",
      "1095/1095 - 0s - loss: 1.5400 - val_loss: 1.4020\n",
      "Epoch 4/200\n",
      "1095/1095 - 0s - loss: 1.3776 - val_loss: 1.2698\n",
      "Epoch 5/200\n",
      "1095/1095 - 0s - loss: 1.2348 - val_loss: 1.1493\n",
      "Epoch 6/200\n",
      "1095/1095 - 0s - loss: 1.1082 - val_loss: 1.0395\n",
      "Epoch 7/200\n",
      "1095/1095 - 0s - loss: 0.9965 - val_loss: 0.9386\n",
      "Epoch 8/200\n",
      "1095/1095 - 0s - loss: 0.8984 - val_loss: 0.8473\n",
      "Epoch 9/200\n",
      "1095/1095 - 0s - loss: 0.8128 - val_loss: 0.7665\n",
      "Epoch 10/200\n",
      "1095/1095 - 0s - loss: 0.7387 - val_loss: 0.6959\n",
      "Epoch 11/200\n",
      "1095/1095 - 0s - loss: 0.6757 - val_loss: 0.6350\n",
      "Epoch 12/200\n",
      "1095/1095 - 0s - loss: 0.6225 - val_loss: 0.5827\n",
      "Epoch 13/200\n",
      "1095/1095 - 0s - loss: 0.5770 - val_loss: 0.5380\n",
      "Epoch 14/200\n",
      "1095/1095 - 0s - loss: 0.5388 - val_loss: 0.5001\n",
      "Epoch 15/200\n",
      "1095/1095 - 0s - loss: 0.5066 - val_loss: 0.4675\n",
      "Epoch 16/200\n",
      "1095/1095 - 0s - loss: 0.4799 - val_loss: 0.4395\n",
      "Epoch 17/200\n",
      "1095/1095 - 0s - loss: 0.4575 - val_loss: 0.4156\n",
      "Epoch 18/200\n",
      "1095/1095 - 0s - loss: 0.4384 - val_loss: 0.3955\n",
      "Epoch 19/200\n",
      "1095/1095 - 0s - loss: 0.4217 - val_loss: 0.3779\n",
      "Epoch 20/200\n",
      "1095/1095 - 0s - loss: 0.4066 - val_loss: 0.3623\n",
      "Epoch 21/200\n",
      "1095/1095 - 0s - loss: 0.3925 - val_loss: 0.3485\n",
      "Epoch 22/200\n",
      "1095/1095 - 0s - loss: 0.3794 - val_loss: 0.3361\n",
      "Epoch 23/200\n",
      "1095/1095 - 0s - loss: 0.3669 - val_loss: 0.3249\n",
      "Epoch 24/200\n",
      "1095/1095 - 0s - loss: 0.3548 - val_loss: 0.3148\n",
      "Epoch 25/200\n",
      "1095/1095 - 0s - loss: 0.3434 - val_loss: 0.3057\n",
      "Epoch 26/200\n",
      "1095/1095 - 0s - loss: 0.3329 - val_loss: 0.2978\n",
      "Epoch 27/200\n",
      "1095/1095 - 0s - loss: 0.3233 - val_loss: 0.2909\n",
      "Epoch 28/200\n",
      "1095/1095 - 0s - loss: 0.3145 - val_loss: 0.2852\n",
      "Epoch 29/200\n",
      "1095/1095 - 0s - loss: 0.3067 - val_loss: 0.2804\n",
      "Epoch 30/200\n",
      "1095/1095 - 0s - loss: 0.2999 - val_loss: 0.2766\n",
      "Epoch 31/200\n",
      "1095/1095 - 0s - loss: 0.2942 - val_loss: 0.2737\n",
      "Epoch 32/200\n",
      "1095/1095 - 0s - loss: 0.2893 - val_loss: 0.2714\n",
      "Epoch 33/200\n",
      "1095/1095 - 0s - loss: 0.2849 - val_loss: 0.2696\n",
      "Epoch 34/200\n",
      "1095/1095 - 0s - loss: 0.2813 - val_loss: 0.2681\n",
      "Epoch 35/200\n",
      "1095/1095 - 0s - loss: 0.2780 - val_loss: 0.2668\n",
      "Epoch 36/200\n",
      "1095/1095 - 0s - loss: 0.2751 - val_loss: 0.2656\n",
      "Epoch 37/200\n",
      "1095/1095 - 0s - loss: 0.2723 - val_loss: 0.2644\n",
      "Epoch 38/200\n",
      "1095/1095 - 0s - loss: 0.2696 - val_loss: 0.2631\n",
      "Epoch 39/200\n",
      "1095/1095 - 0s - loss: 0.2670 - val_loss: 0.2619\n",
      "Epoch 40/200\n",
      "1095/1095 - 0s - loss: 0.2643 - val_loss: 0.2606\n",
      "Epoch 41/200\n",
      "1095/1095 - 0s - loss: 0.2617 - val_loss: 0.2593\n",
      "Epoch 42/200\n",
      "1095/1095 - 0s - loss: 0.2591 - val_loss: 0.2580\n",
      "Epoch 43/200\n",
      "1095/1095 - 0s - loss: 0.2566 - val_loss: 0.2567\n",
      "Epoch 44/200\n",
      "1095/1095 - 0s - loss: 0.2542 - val_loss: 0.2554\n",
      "Epoch 45/200\n",
      "1095/1095 - 0s - loss: 0.2519 - val_loss: 0.2543\n",
      "Epoch 46/200\n",
      "1095/1095 - 0s - loss: 0.2498 - val_loss: 0.2533\n",
      "Epoch 47/200\n",
      "1095/1095 - 0s - loss: 0.2478 - val_loss: 0.2524\n",
      "Epoch 48/200\n",
      "1095/1095 - 0s - loss: 0.2460 - val_loss: 0.2516\n",
      "Epoch 49/200\n",
      "1095/1095 - 0s - loss: 0.2443 - val_loss: 0.2509\n",
      "Epoch 50/200\n",
      "1095/1095 - 0s - loss: 0.2428 - val_loss: 0.2502\n",
      "Epoch 51/200\n",
      "1095/1095 - 0s - loss: 0.2413 - val_loss: 0.2496\n",
      "Epoch 52/200\n",
      "1095/1095 - 0s - loss: 0.2400 - val_loss: 0.2490\n",
      "Epoch 53/200\n",
      "1095/1095 - 0s - loss: 0.2387 - val_loss: 0.2484\n",
      "Epoch 54/200\n",
      "1095/1095 - 0s - loss: 0.2374 - val_loss: 0.2479\n",
      "Epoch 55/200\n",
      "1095/1095 - 0s - loss: 0.2361 - val_loss: 0.2473\n",
      "Epoch 56/200\n",
      "1095/1095 - 0s - loss: 0.2348 - val_loss: 0.2466\n",
      "Epoch 57/200\n",
      "1095/1095 - 0s - loss: 0.2336 - val_loss: 0.2459\n",
      "Epoch 58/200\n",
      "1095/1095 - 0s - loss: 0.2324 - val_loss: 0.2452\n",
      "Epoch 59/200\n",
      "1095/1095 - 0s - loss: 0.2312 - val_loss: 0.2446\n",
      "Epoch 60/200\n",
      "1095/1095 - 0s - loss: 0.2301 - val_loss: 0.2440\n",
      "Epoch 61/200\n",
      "1095/1095 - 0s - loss: 0.2290 - val_loss: 0.2434\n",
      "Epoch 62/200\n",
      "1095/1095 - 0s - loss: 0.2279 - val_loss: 0.2429\n",
      "Epoch 63/200\n",
      "1095/1095 - 0s - loss: 0.2270 - val_loss: 0.2423\n",
      "Epoch 64/200\n",
      "1095/1095 - 0s - loss: 0.2261 - val_loss: 0.2418\n",
      "Epoch 65/200\n",
      "1095/1095 - 0s - loss: 0.2252 - val_loss: 0.2413\n",
      "Epoch 66/200\n",
      "1095/1095 - 0s - loss: 0.2243 - val_loss: 0.2408\n",
      "Epoch 67/200\n",
      "1095/1095 - 0s - loss: 0.2235 - val_loss: 0.2403\n",
      "Epoch 68/200\n",
      "1095/1095 - 0s - loss: 0.2227 - val_loss: 0.2397\n",
      "Epoch 69/200\n",
      "1095/1095 - 0s - loss: 0.2220 - val_loss: 0.2392\n",
      "Epoch 70/200\n",
      "1095/1095 - 0s - loss: 0.2212 - val_loss: 0.2387\n",
      "Epoch 71/200\n",
      "1095/1095 - 0s - loss: 0.2205 - val_loss: 0.2382\n",
      "Epoch 72/200\n",
      "1095/1095 - 0s - loss: 0.2198 - val_loss: 0.2377\n",
      "Epoch 73/200\n",
      "1095/1095 - 0s - loss: 0.2191 - val_loss: 0.2373\n",
      "Epoch 74/200\n",
      "1095/1095 - 0s - loss: 0.2184 - val_loss: 0.2369\n",
      "Epoch 75/200\n",
      "1095/1095 - 0s - loss: 0.2178 - val_loss: 0.2365\n",
      "Epoch 76/200\n",
      "1095/1095 - 0s - loss: 0.2171 - val_loss: 0.2362\n",
      "Epoch 77/200\n",
      "1095/1095 - 0s - loss: 0.2165 - val_loss: 0.2359\n",
      "Epoch 78/200\n",
      "1095/1095 - 0s - loss: 0.2159 - val_loss: 0.2357\n",
      "Epoch 79/200\n",
      "1095/1095 - 0s - loss: 0.2153 - val_loss: 0.2355\n",
      "Epoch 80/200\n",
      "1095/1095 - 0s - loss: 0.2147 - val_loss: 0.2354\n",
      "Epoch 81/200\n",
      "1095/1095 - 0s - loss: 0.2141 - val_loss: 0.2353\n",
      "Epoch 82/200\n",
      "1095/1095 - 0s - loss: 0.2135 - val_loss: 0.2353\n",
      "Epoch 83/200\n",
      "1095/1095 - 0s - loss: 0.2129 - val_loss: 0.2353\n",
      "Epoch 84/200\n",
      "1095/1095 - 0s - loss: 0.2123 - val_loss: 0.2352\n",
      "Epoch 85/200\n",
      "1095/1095 - 0s - loss: 0.2118 - val_loss: 0.2352\n",
      "Epoch 86/200\n",
      "1095/1095 - 0s - loss: 0.2113 - val_loss: 0.2352\n",
      "Epoch 87/200\n",
      "1095/1095 - 0s - loss: 0.2108 - val_loss: 0.2351\n",
      "Epoch 88/200\n",
      "1095/1095 - 0s - loss: 0.2103 - val_loss: 0.2350\n",
      "Epoch 89/200\n",
      "1095/1095 - 0s - loss: 0.2098 - val_loss: 0.2349\n",
      "Epoch 90/200\n",
      "1095/1095 - 0s - loss: 0.2093 - val_loss: 0.2348\n",
      "Epoch 91/200\n",
      "1095/1095 - 0s - loss: 0.2088 - val_loss: 0.2346\n",
      "Epoch 92/200\n",
      "1095/1095 - 0s - loss: 0.2083 - val_loss: 0.2344\n",
      "Epoch 93/200\n",
      "1095/1095 - 0s - loss: 0.2079 - val_loss: 0.2342\n",
      "Epoch 94/200\n",
      "1095/1095 - 0s - loss: 0.2074 - val_loss: 0.2340\n",
      "Epoch 95/200\n",
      "1095/1095 - 0s - loss: 0.2069 - val_loss: 0.2338\n",
      "Epoch 96/200\n",
      "1095/1095 - 0s - loss: 0.2065 - val_loss: 0.2336\n",
      "Epoch 97/200\n",
      "1095/1095 - 0s - loss: 0.2060 - val_loss: 0.2334\n",
      "Epoch 98/200\n",
      "1095/1095 - 0s - loss: 0.2056 - val_loss: 0.2331\n",
      "Epoch 99/200\n",
      "1095/1095 - 0s - loss: 0.2052 - val_loss: 0.2329\n",
      "Epoch 100/200\n",
      "1095/1095 - 0s - loss: 0.2048 - val_loss: 0.2326\n",
      "Epoch 101/200\n",
      "1095/1095 - 0s - loss: 0.2044 - val_loss: 0.2324\n",
      "Epoch 102/200\n",
      "1095/1095 - 0s - loss: 0.2040 - val_loss: 0.2321\n",
      "Epoch 103/200\n",
      "1095/1095 - 0s - loss: 0.2036 - val_loss: 0.2319\n",
      "Epoch 104/200\n",
      "1095/1095 - 0s - loss: 0.2032 - val_loss: 0.2316\n",
      "Epoch 105/200\n",
      "1095/1095 - 0s - loss: 0.2028 - val_loss: 0.2314\n",
      "Epoch 106/200\n",
      "1095/1095 - 0s - loss: 0.2025 - val_loss: 0.2312\n",
      "Epoch 107/200\n",
      "1095/1095 - 0s - loss: 0.2021 - val_loss: 0.2310\n",
      "Epoch 108/200\n",
      "1095/1095 - 0s - loss: 0.2018 - val_loss: 0.2308\n",
      "Epoch 109/200\n",
      "1095/1095 - 0s - loss: 0.2015 - val_loss: 0.2305\n",
      "Epoch 110/200\n",
      "1095/1095 - 0s - loss: 0.2012 - val_loss: 0.2303\n",
      "Epoch 111/200\n",
      "1095/1095 - 0s - loss: 0.2008 - val_loss: 0.2301\n",
      "Epoch 112/200\n",
      "1095/1095 - 0s - loss: 0.2005 - val_loss: 0.2298\n",
      "Epoch 113/200\n",
      "1095/1095 - 0s - loss: 0.2003 - val_loss: 0.2296\n",
      "Epoch 114/200\n",
      "1095/1095 - 0s - loss: 0.2000 - val_loss: 0.2294\n",
      "Epoch 115/200\n",
      "1095/1095 - 0s - loss: 0.1997 - val_loss: 0.2292\n",
      "Epoch 116/200\n",
      "1095/1095 - 0s - loss: 0.1995 - val_loss: 0.2290\n",
      "Epoch 117/200\n",
      "1095/1095 - 0s - loss: 0.1993 - val_loss: 0.2288\n",
      "Epoch 118/200\n",
      "1095/1095 - 0s - loss: 0.1990 - val_loss: 0.2285\n",
      "Epoch 119/200\n",
      "1095/1095 - 0s - loss: 0.1988 - val_loss: 0.2283\n",
      "Epoch 120/200\n",
      "1095/1095 - 0s - loss: 0.1986 - val_loss: 0.2281\n",
      "Epoch 121/200\n",
      "1095/1095 - 0s - loss: 0.1984 - val_loss: 0.2279\n",
      "Epoch 122/200\n",
      "1095/1095 - 0s - loss: 0.1982 - val_loss: 0.2276\n",
      "Epoch 123/200\n",
      "1095/1095 - 0s - loss: 0.1979 - val_loss: 0.2274\n",
      "Epoch 124/200\n",
      "1095/1095 - 0s - loss: 0.1978 - val_loss: 0.2272\n",
      "Epoch 125/200\n",
      "1095/1095 - 0s - loss: 0.1976 - val_loss: 0.2270\n",
      "Epoch 126/200\n",
      "1095/1095 - 0s - loss: 0.1974 - val_loss: 0.2269\n",
      "Epoch 127/200\n",
      "1095/1095 - 0s - loss: 0.1972 - val_loss: 0.2267\n",
      "Epoch 128/200\n",
      "1095/1095 - 0s - loss: 0.1970 - val_loss: 0.2266\n",
      "Epoch 129/200\n",
      "1095/1095 - 0s - loss: 0.1969 - val_loss: 0.2264\n",
      "Epoch 130/200\n",
      "1095/1095 - 0s - loss: 0.1967 - val_loss: 0.2263\n",
      "Epoch 131/200\n",
      "1095/1095 - 0s - loss: 0.1965 - val_loss: 0.2262\n",
      "Epoch 132/200\n"
     ]
    },
    {
     "name": "stdout",
     "output_type": "stream",
     "text": [
      "1095/1095 - 0s - loss: 0.1964 - val_loss: 0.2261\n",
      "Epoch 133/200\n",
      "1095/1095 - 0s - loss: 0.1962 - val_loss: 0.2260\n",
      "Epoch 134/200\n",
      "1095/1095 - 0s - loss: 0.1961 - val_loss: 0.2259\n",
      "Epoch 135/200\n",
      "1095/1095 - 0s - loss: 0.1959 - val_loss: 0.2258\n",
      "Epoch 136/200\n",
      "1095/1095 - 0s - loss: 0.1958 - val_loss: 0.2257\n",
      "Epoch 137/200\n",
      "1095/1095 - 0s - loss: 0.1956 - val_loss: 0.2256\n",
      "Epoch 138/200\n",
      "1095/1095 - 0s - loss: 0.1955 - val_loss: 0.2255\n",
      "Epoch 139/200\n",
      "1095/1095 - 0s - loss: 0.1953 - val_loss: 0.2254\n",
      "Epoch 140/200\n",
      "1095/1095 - 0s - loss: 0.1952 - val_loss: 0.2252\n",
      "Epoch 141/200\n",
      "1095/1095 - 0s - loss: 0.1951 - val_loss: 0.2251\n",
      "Epoch 142/200\n",
      "1095/1095 - 0s - loss: 0.1949 - val_loss: 0.2249\n",
      "Epoch 143/200\n",
      "1095/1095 - 0s - loss: 0.1948 - val_loss: 0.2248\n",
      "Epoch 144/200\n",
      "1095/1095 - 0s - loss: 0.1946 - val_loss: 0.2247\n",
      "Epoch 145/200\n",
      "1095/1095 - 0s - loss: 0.1945 - val_loss: 0.2246\n",
      "Epoch 146/200\n",
      "1095/1095 - 0s - loss: 0.1943 - val_loss: 0.2246\n",
      "Epoch 147/200\n",
      "1095/1095 - 0s - loss: 0.1942 - val_loss: 0.2246\n",
      "Epoch 148/200\n",
      "1095/1095 - 0s - loss: 0.1941 - val_loss: 0.2246\n",
      "Epoch 149/200\n",
      "1095/1095 - 0s - loss: 0.1940 - val_loss: 0.2246\n",
      "Epoch 150/200\n",
      "1095/1095 - 0s - loss: 0.1938 - val_loss: 0.2246\n",
      "Epoch 151/200\n",
      "1095/1095 - 0s - loss: 0.1937 - val_loss: 0.2246\n",
      "Epoch 152/200\n",
      "1095/1095 - 0s - loss: 0.1936 - val_loss: 0.2245\n",
      "Epoch 153/200\n",
      "1095/1095 - 0s - loss: 0.1935 - val_loss: 0.2244\n",
      "Epoch 154/200\n",
      "1095/1095 - 0s - loss: 0.1934 - val_loss: 0.2242\n",
      "Epoch 155/200\n",
      "1095/1095 - 0s - loss: 0.1933 - val_loss: 0.2241\n",
      "Epoch 156/200\n",
      "1095/1095 - 0s - loss: 0.1932 - val_loss: 0.2239\n",
      "Epoch 157/200\n",
      "1095/1095 - 0s - loss: 0.1931 - val_loss: 0.2237\n",
      "Epoch 158/200\n",
      "1095/1095 - 0s - loss: 0.1930 - val_loss: 0.2235\n",
      "Epoch 159/200\n",
      "1095/1095 - 0s - loss: 0.1929 - val_loss: 0.2233\n",
      "Epoch 160/200\n",
      "1095/1095 - 0s - loss: 0.1928 - val_loss: 0.2231\n",
      "Epoch 161/200\n",
      "1095/1095 - 0s - loss: 0.1927 - val_loss: 0.2230\n",
      "Epoch 162/200\n",
      "1095/1095 - 0s - loss: 0.1926 - val_loss: 0.2230\n",
      "Epoch 163/200\n",
      "1095/1095 - 0s - loss: 0.1924 - val_loss: 0.2229\n",
      "Epoch 164/200\n",
      "1095/1095 - 0s - loss: 0.1923 - val_loss: 0.2229\n",
      "Epoch 165/200\n",
      "1095/1095 - 0s - loss: 0.1922 - val_loss: 0.2228\n",
      "Epoch 166/200\n",
      "1095/1095 - 0s - loss: 0.1921 - val_loss: 0.2227\n",
      "Epoch 167/200\n",
      "1095/1095 - 0s - loss: 0.1920 - val_loss: 0.2226\n",
      "Epoch 168/200\n",
      "1095/1095 - 0s - loss: 0.1919 - val_loss: 0.2225\n",
      "Epoch 169/200\n",
      "1095/1095 - 0s - loss: 0.1918 - val_loss: 0.2224\n",
      "Epoch 170/200\n",
      "1095/1095 - 0s - loss: 0.1917 - val_loss: 0.2223\n",
      "Epoch 171/200\n",
      "1095/1095 - 0s - loss: 0.1916 - val_loss: 0.2222\n",
      "Epoch 172/200\n",
      "1095/1095 - 0s - loss: 0.1915 - val_loss: 0.2221\n",
      "Epoch 173/200\n",
      "1095/1095 - 0s - loss: 0.1914 - val_loss: 0.2220\n",
      "Epoch 174/200\n",
      "1095/1095 - 0s - loss: 0.1913 - val_loss: 0.2218\n",
      "Epoch 175/200\n",
      "1095/1095 - 0s - loss: 0.1912 - val_loss: 0.2217\n",
      "Epoch 176/200\n",
      "1095/1095 - 0s - loss: 0.1911 - val_loss: 0.2216\n",
      "Epoch 177/200\n",
      "1095/1095 - 0s - loss: 0.1910 - val_loss: 0.2215\n",
      "Epoch 178/200\n",
      "1095/1095 - 0s - loss: 0.1909 - val_loss: 0.2214\n",
      "Epoch 179/200\n",
      "1095/1095 - 0s - loss: 0.1908 - val_loss: 0.2213\n",
      "Epoch 180/200\n",
      "1095/1095 - 0s - loss: 0.1907 - val_loss: 0.2212\n",
      "Epoch 181/200\n",
      "1095/1095 - 0s - loss: 0.1906 - val_loss: 0.2211\n",
      "Epoch 182/200\n",
      "1095/1095 - 0s - loss: 0.1905 - val_loss: 0.2210\n",
      "Epoch 183/200\n",
      "1095/1095 - 0s - loss: 0.1904 - val_loss: 0.2209\n",
      "Epoch 184/200\n",
      "1095/1095 - 0s - loss: 0.1903 - val_loss: 0.2208\n",
      "Epoch 185/200\n",
      "1095/1095 - 0s - loss: 0.1902 - val_loss: 0.2207\n",
      "Epoch 186/200\n",
      "1095/1095 - 0s - loss: 0.1901 - val_loss: 0.2206\n",
      "Epoch 187/200\n",
      "1095/1095 - 0s - loss: 0.1900 - val_loss: 0.2205\n",
      "Epoch 188/200\n",
      "1095/1095 - 0s - loss: 0.1899 - val_loss: 0.2203\n",
      "Epoch 189/200\n",
      "1095/1095 - 0s - loss: 0.1898 - val_loss: 0.2202\n",
      "Epoch 190/200\n",
      "1095/1095 - 0s - loss: 0.1897 - val_loss: 0.2201\n",
      "Epoch 191/200\n",
      "1095/1095 - 0s - loss: 0.1896 - val_loss: 0.2200\n",
      "Epoch 192/200\n",
      "1095/1095 - 0s - loss: 0.1895 - val_loss: 0.2199\n",
      "Epoch 193/200\n",
      "1095/1095 - 0s - loss: 0.1894 - val_loss: 0.2198\n",
      "Epoch 194/200\n",
      "1095/1095 - 0s - loss: 0.1893 - val_loss: 0.2198\n",
      "Epoch 195/200\n",
      "1095/1095 - 0s - loss: 0.1892 - val_loss: 0.2197\n",
      "Epoch 196/200\n",
      "1095/1095 - 0s - loss: 0.1891 - val_loss: 0.2197\n",
      "Epoch 197/200\n",
      "1095/1095 - 0s - loss: 0.1890 - val_loss: 0.2197\n",
      "Epoch 198/200\n",
      "1095/1095 - 0s - loss: 0.1889 - val_loss: 0.2197\n",
      "Epoch 199/200\n",
      "1095/1095 - 0s - loss: 0.1888 - val_loss: 0.2196\n",
      "Epoch 200/200\n",
      "1095/1095 - 0s - loss: 0.1887 - val_loss: 0.2195\n"
     ]
    }
   ],
   "source": [
    "BATCH_SIZE = X_train.shape[0]\n",
    "EPOCHS = 200\n",
    "history = model.fit(X_train_scaled, \\\n",
    "                    y_train_log_scaled, \\\n",
    "                    validation_data=(X_val_scaled, y_val_log_scaled), \\\n",
    "                    epochs=EPOCHS, \\\n",
    "                    batch_size=BATCH_SIZE, \\\n",
    "                    verbose=2)"
   ]
  },
  {
   "cell_type": "markdown",
   "metadata": {
    "slideshow": {
     "slide_type": "slide"
    }
   },
   "source": [
    "## Review learning curve"
   ]
  },
  {
   "cell_type": "code",
   "execution_count": 15,
   "metadata": {
    "slideshow": {
     "slide_type": "fragment"
    }
   },
   "outputs": [],
   "source": [
    "import matplotlib.pyplot as plt\n",
    "%matplotlib notebook\n",
    "plt.style.use('dark_background')"
   ]
  },
  {
   "cell_type": "code",
   "execution_count": 16,
   "metadata": {
    "slideshow": {
     "slide_type": "fragment"
    }
   },
   "outputs": [
    {
     "data": {
      "application/javascript": [
       "/* Put everything inside the global mpl namespace */\n",
       "window.mpl = {};\n",
       "\n",
       "\n",
       "mpl.get_websocket_type = function() {\n",
       "    if (typeof(WebSocket) !== 'undefined') {\n",
       "        return WebSocket;\n",
       "    } else if (typeof(MozWebSocket) !== 'undefined') {\n",
       "        return MozWebSocket;\n",
       "    } else {\n",
       "        alert('Your browser does not have WebSocket support. ' +\n",
       "              'Please try Chrome, Safari or Firefox ≥ 6. ' +\n",
       "              'Firefox 4 and 5 are also supported but you ' +\n",
       "              'have to enable WebSockets in about:config.');\n",
       "    };\n",
       "}\n",
       "\n",
       "mpl.figure = function(figure_id, websocket, ondownload, parent_element) {\n",
       "    this.id = figure_id;\n",
       "\n",
       "    this.ws = websocket;\n",
       "\n",
       "    this.supports_binary = (this.ws.binaryType != undefined);\n",
       "\n",
       "    if (!this.supports_binary) {\n",
       "        var warnings = document.getElementById(\"mpl-warnings\");\n",
       "        if (warnings) {\n",
       "            warnings.style.display = 'block';\n",
       "            warnings.textContent = (\n",
       "                \"This browser does not support binary websocket messages. \" +\n",
       "                    \"Performance may be slow.\");\n",
       "        }\n",
       "    }\n",
       "\n",
       "    this.imageObj = new Image();\n",
       "\n",
       "    this.context = undefined;\n",
       "    this.message = undefined;\n",
       "    this.canvas = undefined;\n",
       "    this.rubberband_canvas = undefined;\n",
       "    this.rubberband_context = undefined;\n",
       "    this.format_dropdown = undefined;\n",
       "\n",
       "    this.image_mode = 'full';\n",
       "\n",
       "    this.root = $('<div/>');\n",
       "    this._root_extra_style(this.root)\n",
       "    this.root.attr('style', 'display: inline-block');\n",
       "\n",
       "    $(parent_element).append(this.root);\n",
       "\n",
       "    this._init_header(this);\n",
       "    this._init_canvas(this);\n",
       "    this._init_toolbar(this);\n",
       "\n",
       "    var fig = this;\n",
       "\n",
       "    this.waiting = false;\n",
       "\n",
       "    this.ws.onopen =  function () {\n",
       "            fig.send_message(\"supports_binary\", {value: fig.supports_binary});\n",
       "            fig.send_message(\"send_image_mode\", {});\n",
       "            if (mpl.ratio != 1) {\n",
       "                fig.send_message(\"set_dpi_ratio\", {'dpi_ratio': mpl.ratio});\n",
       "            }\n",
       "            fig.send_message(\"refresh\", {});\n",
       "        }\n",
       "\n",
       "    this.imageObj.onload = function() {\n",
       "            if (fig.image_mode == 'full') {\n",
       "                // Full images could contain transparency (where diff images\n",
       "                // almost always do), so we need to clear the canvas so that\n",
       "                // there is no ghosting.\n",
       "                fig.context.clearRect(0, 0, fig.canvas.width, fig.canvas.height);\n",
       "            }\n",
       "            fig.context.drawImage(fig.imageObj, 0, 0);\n",
       "        };\n",
       "\n",
       "    this.imageObj.onunload = function() {\n",
       "        fig.ws.close();\n",
       "    }\n",
       "\n",
       "    this.ws.onmessage = this._make_on_message_function(this);\n",
       "\n",
       "    this.ondownload = ondownload;\n",
       "}\n",
       "\n",
       "mpl.figure.prototype._init_header = function() {\n",
       "    var titlebar = $(\n",
       "        '<div class=\"ui-dialog-titlebar ui-widget-header ui-corner-all ' +\n",
       "        'ui-helper-clearfix\"/>');\n",
       "    var titletext = $(\n",
       "        '<div class=\"ui-dialog-title\" style=\"width: 100%; ' +\n",
       "        'text-align: center; padding: 3px;\"/>');\n",
       "    titlebar.append(titletext)\n",
       "    this.root.append(titlebar);\n",
       "    this.header = titletext[0];\n",
       "}\n",
       "\n",
       "\n",
       "\n",
       "mpl.figure.prototype._canvas_extra_style = function(canvas_div) {\n",
       "\n",
       "}\n",
       "\n",
       "\n",
       "mpl.figure.prototype._root_extra_style = function(canvas_div) {\n",
       "\n",
       "}\n",
       "\n",
       "mpl.figure.prototype._init_canvas = function() {\n",
       "    var fig = this;\n",
       "\n",
       "    var canvas_div = $('<div/>');\n",
       "\n",
       "    canvas_div.attr('style', 'position: relative; clear: both; outline: 0');\n",
       "\n",
       "    function canvas_keyboard_event(event) {\n",
       "        return fig.key_event(event, event['data']);\n",
       "    }\n",
       "\n",
       "    canvas_div.keydown('key_press', canvas_keyboard_event);\n",
       "    canvas_div.keyup('key_release', canvas_keyboard_event);\n",
       "    this.canvas_div = canvas_div\n",
       "    this._canvas_extra_style(canvas_div)\n",
       "    this.root.append(canvas_div);\n",
       "\n",
       "    var canvas = $('<canvas/>');\n",
       "    canvas.addClass('mpl-canvas');\n",
       "    canvas.attr('style', \"left: 0; top: 0; z-index: 0; outline: 0\")\n",
       "\n",
       "    this.canvas = canvas[0];\n",
       "    this.context = canvas[0].getContext(\"2d\");\n",
       "\n",
       "    var backingStore = this.context.backingStorePixelRatio ||\n",
       "\tthis.context.webkitBackingStorePixelRatio ||\n",
       "\tthis.context.mozBackingStorePixelRatio ||\n",
       "\tthis.context.msBackingStorePixelRatio ||\n",
       "\tthis.context.oBackingStorePixelRatio ||\n",
       "\tthis.context.backingStorePixelRatio || 1;\n",
       "\n",
       "    mpl.ratio = (window.devicePixelRatio || 1) / backingStore;\n",
       "\n",
       "    var rubberband = $('<canvas/>');\n",
       "    rubberband.attr('style', \"position: absolute; left: 0; top: 0; z-index: 1;\")\n",
       "\n",
       "    var pass_mouse_events = true;\n",
       "\n",
       "    canvas_div.resizable({\n",
       "        start: function(event, ui) {\n",
       "            pass_mouse_events = false;\n",
       "        },\n",
       "        resize: function(event, ui) {\n",
       "            fig.request_resize(ui.size.width, ui.size.height);\n",
       "        },\n",
       "        stop: function(event, ui) {\n",
       "            pass_mouse_events = true;\n",
       "            fig.request_resize(ui.size.width, ui.size.height);\n",
       "        },\n",
       "    });\n",
       "\n",
       "    function mouse_event_fn(event) {\n",
       "        if (pass_mouse_events)\n",
       "            return fig.mouse_event(event, event['data']);\n",
       "    }\n",
       "\n",
       "    rubberband.mousedown('button_press', mouse_event_fn);\n",
       "    rubberband.mouseup('button_release', mouse_event_fn);\n",
       "    // Throttle sequential mouse events to 1 every 20ms.\n",
       "    rubberband.mousemove('motion_notify', mouse_event_fn);\n",
       "\n",
       "    rubberband.mouseenter('figure_enter', mouse_event_fn);\n",
       "    rubberband.mouseleave('figure_leave', mouse_event_fn);\n",
       "\n",
       "    canvas_div.on(\"wheel\", function (event) {\n",
       "        event = event.originalEvent;\n",
       "        event['data'] = 'scroll'\n",
       "        if (event.deltaY < 0) {\n",
       "            event.step = 1;\n",
       "        } else {\n",
       "            event.step = -1;\n",
       "        }\n",
       "        mouse_event_fn(event);\n",
       "    });\n",
       "\n",
       "    canvas_div.append(canvas);\n",
       "    canvas_div.append(rubberband);\n",
       "\n",
       "    this.rubberband = rubberband;\n",
       "    this.rubberband_canvas = rubberband[0];\n",
       "    this.rubberband_context = rubberband[0].getContext(\"2d\");\n",
       "    this.rubberband_context.strokeStyle = \"#000000\";\n",
       "\n",
       "    this._resize_canvas = function(width, height) {\n",
       "        // Keep the size of the canvas, canvas container, and rubber band\n",
       "        // canvas in synch.\n",
       "        canvas_div.css('width', width)\n",
       "        canvas_div.css('height', height)\n",
       "\n",
       "        canvas.attr('width', width * mpl.ratio);\n",
       "        canvas.attr('height', height * mpl.ratio);\n",
       "        canvas.attr('style', 'width: ' + width + 'px; height: ' + height + 'px;');\n",
       "\n",
       "        rubberband.attr('width', width);\n",
       "        rubberband.attr('height', height);\n",
       "    }\n",
       "\n",
       "    // Set the figure to an initial 600x600px, this will subsequently be updated\n",
       "    // upon first draw.\n",
       "    this._resize_canvas(600, 600);\n",
       "\n",
       "    // Disable right mouse context menu.\n",
       "    $(this.rubberband_canvas).bind(\"contextmenu\",function(e){\n",
       "        return false;\n",
       "    });\n",
       "\n",
       "    function set_focus () {\n",
       "        canvas.focus();\n",
       "        canvas_div.focus();\n",
       "    }\n",
       "\n",
       "    window.setTimeout(set_focus, 100);\n",
       "}\n",
       "\n",
       "mpl.figure.prototype._init_toolbar = function() {\n",
       "    var fig = this;\n",
       "\n",
       "    var nav_element = $('<div/>');\n",
       "    nav_element.attr('style', 'width: 100%');\n",
       "    this.root.append(nav_element);\n",
       "\n",
       "    // Define a callback function for later on.\n",
       "    function toolbar_event(event) {\n",
       "        return fig.toolbar_button_onclick(event['data']);\n",
       "    }\n",
       "    function toolbar_mouse_event(event) {\n",
       "        return fig.toolbar_button_onmouseover(event['data']);\n",
       "    }\n",
       "\n",
       "    for(var toolbar_ind in mpl.toolbar_items) {\n",
       "        var name = mpl.toolbar_items[toolbar_ind][0];\n",
       "        var tooltip = mpl.toolbar_items[toolbar_ind][1];\n",
       "        var image = mpl.toolbar_items[toolbar_ind][2];\n",
       "        var method_name = mpl.toolbar_items[toolbar_ind][3];\n",
       "\n",
       "        if (!name) {\n",
       "            // put a spacer in here.\n",
       "            continue;\n",
       "        }\n",
       "        var button = $('<button/>');\n",
       "        button.addClass('ui-button ui-widget ui-state-default ui-corner-all ' +\n",
       "                        'ui-button-icon-only');\n",
       "        button.attr('role', 'button');\n",
       "        button.attr('aria-disabled', 'false');\n",
       "        button.click(method_name, toolbar_event);\n",
       "        button.mouseover(tooltip, toolbar_mouse_event);\n",
       "\n",
       "        var icon_img = $('<span/>');\n",
       "        icon_img.addClass('ui-button-icon-primary ui-icon');\n",
       "        icon_img.addClass(image);\n",
       "        icon_img.addClass('ui-corner-all');\n",
       "\n",
       "        var tooltip_span = $('<span/>');\n",
       "        tooltip_span.addClass('ui-button-text');\n",
       "        tooltip_span.html(tooltip);\n",
       "\n",
       "        button.append(icon_img);\n",
       "        button.append(tooltip_span);\n",
       "\n",
       "        nav_element.append(button);\n",
       "    }\n",
       "\n",
       "    var fmt_picker_span = $('<span/>');\n",
       "\n",
       "    var fmt_picker = $('<select/>');\n",
       "    fmt_picker.addClass('mpl-toolbar-option ui-widget ui-widget-content');\n",
       "    fmt_picker_span.append(fmt_picker);\n",
       "    nav_element.append(fmt_picker_span);\n",
       "    this.format_dropdown = fmt_picker[0];\n",
       "\n",
       "    for (var ind in mpl.extensions) {\n",
       "        var fmt = mpl.extensions[ind];\n",
       "        var option = $(\n",
       "            '<option/>', {selected: fmt === mpl.default_extension}).html(fmt);\n",
       "        fmt_picker.append(option);\n",
       "    }\n",
       "\n",
       "    // Add hover states to the ui-buttons\n",
       "    $( \".ui-button\" ).hover(\n",
       "        function() { $(this).addClass(\"ui-state-hover\");},\n",
       "        function() { $(this).removeClass(\"ui-state-hover\");}\n",
       "    );\n",
       "\n",
       "    var status_bar = $('<span class=\"mpl-message\"/>');\n",
       "    nav_element.append(status_bar);\n",
       "    this.message = status_bar[0];\n",
       "}\n",
       "\n",
       "mpl.figure.prototype.request_resize = function(x_pixels, y_pixels) {\n",
       "    // Request matplotlib to resize the figure. Matplotlib will then trigger a resize in the client,\n",
       "    // which will in turn request a refresh of the image.\n",
       "    this.send_message('resize', {'width': x_pixels, 'height': y_pixels});\n",
       "}\n",
       "\n",
       "mpl.figure.prototype.send_message = function(type, properties) {\n",
       "    properties['type'] = type;\n",
       "    properties['figure_id'] = this.id;\n",
       "    this.ws.send(JSON.stringify(properties));\n",
       "}\n",
       "\n",
       "mpl.figure.prototype.send_draw_message = function() {\n",
       "    if (!this.waiting) {\n",
       "        this.waiting = true;\n",
       "        this.ws.send(JSON.stringify({type: \"draw\", figure_id: this.id}));\n",
       "    }\n",
       "}\n",
       "\n",
       "\n",
       "mpl.figure.prototype.handle_save = function(fig, msg) {\n",
       "    var format_dropdown = fig.format_dropdown;\n",
       "    var format = format_dropdown.options[format_dropdown.selectedIndex].value;\n",
       "    fig.ondownload(fig, format);\n",
       "}\n",
       "\n",
       "\n",
       "mpl.figure.prototype.handle_resize = function(fig, msg) {\n",
       "    var size = msg['size'];\n",
       "    if (size[0] != fig.canvas.width || size[1] != fig.canvas.height) {\n",
       "        fig._resize_canvas(size[0], size[1]);\n",
       "        fig.send_message(\"refresh\", {});\n",
       "    };\n",
       "}\n",
       "\n",
       "mpl.figure.prototype.handle_rubberband = function(fig, msg) {\n",
       "    var x0 = msg['x0'] / mpl.ratio;\n",
       "    var y0 = (fig.canvas.height - msg['y0']) / mpl.ratio;\n",
       "    var x1 = msg['x1'] / mpl.ratio;\n",
       "    var y1 = (fig.canvas.height - msg['y1']) / mpl.ratio;\n",
       "    x0 = Math.floor(x0) + 0.5;\n",
       "    y0 = Math.floor(y0) + 0.5;\n",
       "    x1 = Math.floor(x1) + 0.5;\n",
       "    y1 = Math.floor(y1) + 0.5;\n",
       "    var min_x = Math.min(x0, x1);\n",
       "    var min_y = Math.min(y0, y1);\n",
       "    var width = Math.abs(x1 - x0);\n",
       "    var height = Math.abs(y1 - y0);\n",
       "\n",
       "    fig.rubberband_context.clearRect(\n",
       "        0, 0, fig.canvas.width / mpl.ratio, fig.canvas.height / mpl.ratio);\n",
       "\n",
       "    fig.rubberband_context.strokeRect(min_x, min_y, width, height);\n",
       "}\n",
       "\n",
       "mpl.figure.prototype.handle_figure_label = function(fig, msg) {\n",
       "    // Updates the figure title.\n",
       "    fig.header.textContent = msg['label'];\n",
       "}\n",
       "\n",
       "mpl.figure.prototype.handle_cursor = function(fig, msg) {\n",
       "    var cursor = msg['cursor'];\n",
       "    switch(cursor)\n",
       "    {\n",
       "    case 0:\n",
       "        cursor = 'pointer';\n",
       "        break;\n",
       "    case 1:\n",
       "        cursor = 'default';\n",
       "        break;\n",
       "    case 2:\n",
       "        cursor = 'crosshair';\n",
       "        break;\n",
       "    case 3:\n",
       "        cursor = 'move';\n",
       "        break;\n",
       "    }\n",
       "    fig.rubberband_canvas.style.cursor = cursor;\n",
       "}\n",
       "\n",
       "mpl.figure.prototype.handle_message = function(fig, msg) {\n",
       "    fig.message.textContent = msg['message'];\n",
       "}\n",
       "\n",
       "mpl.figure.prototype.handle_draw = function(fig, msg) {\n",
       "    // Request the server to send over a new figure.\n",
       "    fig.send_draw_message();\n",
       "}\n",
       "\n",
       "mpl.figure.prototype.handle_image_mode = function(fig, msg) {\n",
       "    fig.image_mode = msg['mode'];\n",
       "}\n",
       "\n",
       "mpl.figure.prototype.updated_canvas_event = function() {\n",
       "    // Called whenever the canvas gets updated.\n",
       "    this.send_message(\"ack\", {});\n",
       "}\n",
       "\n",
       "// A function to construct a web socket function for onmessage handling.\n",
       "// Called in the figure constructor.\n",
       "mpl.figure.prototype._make_on_message_function = function(fig) {\n",
       "    return function socket_on_message(evt) {\n",
       "        if (evt.data instanceof Blob) {\n",
       "            /* FIXME: We get \"Resource interpreted as Image but\n",
       "             * transferred with MIME type text/plain:\" errors on\n",
       "             * Chrome.  But how to set the MIME type?  It doesn't seem\n",
       "             * to be part of the websocket stream */\n",
       "            evt.data.type = \"image/png\";\n",
       "\n",
       "            /* Free the memory for the previous frames */\n",
       "            if (fig.imageObj.src) {\n",
       "                (window.URL || window.webkitURL).revokeObjectURL(\n",
       "                    fig.imageObj.src);\n",
       "            }\n",
       "\n",
       "            fig.imageObj.src = (window.URL || window.webkitURL).createObjectURL(\n",
       "                evt.data);\n",
       "            fig.updated_canvas_event();\n",
       "            fig.waiting = false;\n",
       "            return;\n",
       "        }\n",
       "        else if (typeof evt.data === 'string' && evt.data.slice(0, 21) == \"data:image/png;base64\") {\n",
       "            fig.imageObj.src = evt.data;\n",
       "            fig.updated_canvas_event();\n",
       "            fig.waiting = false;\n",
       "            return;\n",
       "        }\n",
       "\n",
       "        var msg = JSON.parse(evt.data);\n",
       "        var msg_type = msg['type'];\n",
       "\n",
       "        // Call the  \"handle_{type}\" callback, which takes\n",
       "        // the figure and JSON message as its only arguments.\n",
       "        try {\n",
       "            var callback = fig[\"handle_\" + msg_type];\n",
       "        } catch (e) {\n",
       "            console.log(\"No handler for the '\" + msg_type + \"' message type: \", msg);\n",
       "            return;\n",
       "        }\n",
       "\n",
       "        if (callback) {\n",
       "            try {\n",
       "                // console.log(\"Handling '\" + msg_type + \"' message: \", msg);\n",
       "                callback(fig, msg);\n",
       "            } catch (e) {\n",
       "                console.log(\"Exception inside the 'handler_\" + msg_type + \"' callback:\", e, e.stack, msg);\n",
       "            }\n",
       "        }\n",
       "    };\n",
       "}\n",
       "\n",
       "// from http://stackoverflow.com/questions/1114465/getting-mouse-location-in-canvas\n",
       "mpl.findpos = function(e) {\n",
       "    //this section is from http://www.quirksmode.org/js/events_properties.html\n",
       "    var targ;\n",
       "    if (!e)\n",
       "        e = window.event;\n",
       "    if (e.target)\n",
       "        targ = e.target;\n",
       "    else if (e.srcElement)\n",
       "        targ = e.srcElement;\n",
       "    if (targ.nodeType == 3) // defeat Safari bug\n",
       "        targ = targ.parentNode;\n",
       "\n",
       "    // jQuery normalizes the pageX and pageY\n",
       "    // pageX,Y are the mouse positions relative to the document\n",
       "    // offset() returns the position of the element relative to the document\n",
       "    var x = e.pageX - $(targ).offset().left;\n",
       "    var y = e.pageY - $(targ).offset().top;\n",
       "\n",
       "    return {\"x\": x, \"y\": y};\n",
       "};\n",
       "\n",
       "/*\n",
       " * return a copy of an object with only non-object keys\n",
       " * we need this to avoid circular references\n",
       " * http://stackoverflow.com/a/24161582/3208463\n",
       " */\n",
       "function simpleKeys (original) {\n",
       "  return Object.keys(original).reduce(function (obj, key) {\n",
       "    if (typeof original[key] !== 'object')\n",
       "        obj[key] = original[key]\n",
       "    return obj;\n",
       "  }, {});\n",
       "}\n",
       "\n",
       "mpl.figure.prototype.mouse_event = function(event, name) {\n",
       "    var canvas_pos = mpl.findpos(event)\n",
       "\n",
       "    if (name === 'button_press')\n",
       "    {\n",
       "        this.canvas.focus();\n",
       "        this.canvas_div.focus();\n",
       "    }\n",
       "\n",
       "    var x = canvas_pos.x * mpl.ratio;\n",
       "    var y = canvas_pos.y * mpl.ratio;\n",
       "\n",
       "    this.send_message(name, {x: x, y: y, button: event.button,\n",
       "                             step: event.step,\n",
       "                             guiEvent: simpleKeys(event)});\n",
       "\n",
       "    /* This prevents the web browser from automatically changing to\n",
       "     * the text insertion cursor when the button is pressed.  We want\n",
       "     * to control all of the cursor setting manually through the\n",
       "     * 'cursor' event from matplotlib */\n",
       "    event.preventDefault();\n",
       "    return false;\n",
       "}\n",
       "\n",
       "mpl.figure.prototype._key_event_extra = function(event, name) {\n",
       "    // Handle any extra behaviour associated with a key event\n",
       "}\n",
       "\n",
       "mpl.figure.prototype.key_event = function(event, name) {\n",
       "\n",
       "    // Prevent repeat events\n",
       "    if (name == 'key_press')\n",
       "    {\n",
       "        if (event.which === this._key)\n",
       "            return;\n",
       "        else\n",
       "            this._key = event.which;\n",
       "    }\n",
       "    if (name == 'key_release')\n",
       "        this._key = null;\n",
       "\n",
       "    var value = '';\n",
       "    if (event.ctrlKey && event.which != 17)\n",
       "        value += \"ctrl+\";\n",
       "    if (event.altKey && event.which != 18)\n",
       "        value += \"alt+\";\n",
       "    if (event.shiftKey && event.which != 16)\n",
       "        value += \"shift+\";\n",
       "\n",
       "    value += 'k';\n",
       "    value += event.which.toString();\n",
       "\n",
       "    this._key_event_extra(event, name);\n",
       "\n",
       "    this.send_message(name, {key: value,\n",
       "                             guiEvent: simpleKeys(event)});\n",
       "    return false;\n",
       "}\n",
       "\n",
       "mpl.figure.prototype.toolbar_button_onclick = function(name) {\n",
       "    if (name == 'download') {\n",
       "        this.handle_save(this, null);\n",
       "    } else {\n",
       "        this.send_message(\"toolbar_button\", {name: name});\n",
       "    }\n",
       "};\n",
       "\n",
       "mpl.figure.prototype.toolbar_button_onmouseover = function(tooltip) {\n",
       "    this.message.textContent = tooltip;\n",
       "};\n",
       "mpl.toolbar_items = [[\"Home\", \"Reset original view\", \"fa fa-home icon-home\", \"home\"], [\"Back\", \"Back to previous view\", \"fa fa-arrow-left icon-arrow-left\", \"back\"], [\"Forward\", \"Forward to next view\", \"fa fa-arrow-right icon-arrow-right\", \"forward\"], [\"\", \"\", \"\", \"\"], [\"Pan\", \"Pan axes with left mouse, zoom with right\", \"fa fa-arrows icon-move\", \"pan\"], [\"Zoom\", \"Zoom to rectangle\", \"fa fa-square-o icon-check-empty\", \"zoom\"], [\"\", \"\", \"\", \"\"], [\"Download\", \"Download plot\", \"fa fa-floppy-o icon-save\", \"download\"]];\n",
       "\n",
       "mpl.extensions = [\"eps\", \"jpeg\", \"pdf\", \"png\", \"ps\", \"raw\", \"svg\", \"tif\"];\n",
       "\n",
       "mpl.default_extension = \"png\";var comm_websocket_adapter = function(comm) {\n",
       "    // Create a \"websocket\"-like object which calls the given IPython comm\n",
       "    // object with the appropriate methods. Currently this is a non binary\n",
       "    // socket, so there is still some room for performance tuning.\n",
       "    var ws = {};\n",
       "\n",
       "    ws.close = function() {\n",
       "        comm.close()\n",
       "    };\n",
       "    ws.send = function(m) {\n",
       "        //console.log('sending', m);\n",
       "        comm.send(m);\n",
       "    };\n",
       "    // Register the callback with on_msg.\n",
       "    comm.on_msg(function(msg) {\n",
       "        //console.log('receiving', msg['content']['data'], msg);\n",
       "        // Pass the mpl event to the overridden (by mpl) onmessage function.\n",
       "        ws.onmessage(msg['content']['data'])\n",
       "    });\n",
       "    return ws;\n",
       "}\n",
       "\n",
       "mpl.mpl_figure_comm = function(comm, msg) {\n",
       "    // This is the function which gets called when the mpl process\n",
       "    // starts-up an IPython Comm through the \"matplotlib\" channel.\n",
       "\n",
       "    var id = msg.content.data.id;\n",
       "    // Get hold of the div created by the display call when the Comm\n",
       "    // socket was opened in Python.\n",
       "    var element = $(\"#\" + id);\n",
       "    var ws_proxy = comm_websocket_adapter(comm)\n",
       "\n",
       "    function ondownload(figure, format) {\n",
       "        window.open(figure.imageObj.src);\n",
       "    }\n",
       "\n",
       "    var fig = new mpl.figure(id, ws_proxy,\n",
       "                           ondownload,\n",
       "                           element.get(0));\n",
       "\n",
       "    // Call onopen now - mpl needs it, as it is assuming we've passed it a real\n",
       "    // web socket which is closed, not our websocket->open comm proxy.\n",
       "    ws_proxy.onopen();\n",
       "\n",
       "    fig.parent_element = element.get(0);\n",
       "    fig.cell_info = mpl.find_output_cell(\"<div id='\" + id + \"'></div>\");\n",
       "    if (!fig.cell_info) {\n",
       "        console.error(\"Failed to find cell for figure\", id, fig);\n",
       "        return;\n",
       "    }\n",
       "\n",
       "    var output_index = fig.cell_info[2]\n",
       "    var cell = fig.cell_info[0];\n",
       "\n",
       "};\n",
       "\n",
       "mpl.figure.prototype.handle_close = function(fig, msg) {\n",
       "    var width = fig.canvas.width/mpl.ratio\n",
       "    fig.root.unbind('remove')\n",
       "\n",
       "    // Update the output cell to use the data from the current canvas.\n",
       "    fig.push_to_output();\n",
       "    var dataURL = fig.canvas.toDataURL();\n",
       "    // Re-enable the keyboard manager in IPython - without this line, in FF,\n",
       "    // the notebook keyboard shortcuts fail.\n",
       "    IPython.keyboard_manager.enable()\n",
       "    $(fig.parent_element).html('<img src=\"' + dataURL + '\" width=\"' + width + '\">');\n",
       "    fig.close_ws(fig, msg);\n",
       "}\n",
       "\n",
       "mpl.figure.prototype.close_ws = function(fig, msg){\n",
       "    fig.send_message('closing', msg);\n",
       "    // fig.ws.close()\n",
       "}\n",
       "\n",
       "mpl.figure.prototype.push_to_output = function(remove_interactive) {\n",
       "    // Turn the data on the canvas into data in the output cell.\n",
       "    var width = this.canvas.width/mpl.ratio\n",
       "    var dataURL = this.canvas.toDataURL();\n",
       "    this.cell_info[1]['text/html'] = '<img src=\"' + dataURL + '\" width=\"' + width + '\">';\n",
       "}\n",
       "\n",
       "mpl.figure.prototype.updated_canvas_event = function() {\n",
       "    // Tell IPython that the notebook contents must change.\n",
       "    IPython.notebook.set_dirty(true);\n",
       "    this.send_message(\"ack\", {});\n",
       "    var fig = this;\n",
       "    // Wait a second, then push the new image to the DOM so\n",
       "    // that it is saved nicely (might be nice to debounce this).\n",
       "    setTimeout(function () { fig.push_to_output() }, 1000);\n",
       "}\n",
       "\n",
       "mpl.figure.prototype._init_toolbar = function() {\n",
       "    var fig = this;\n",
       "\n",
       "    var nav_element = $('<div/>');\n",
       "    nav_element.attr('style', 'width: 100%');\n",
       "    this.root.append(nav_element);\n",
       "\n",
       "    // Define a callback function for later on.\n",
       "    function toolbar_event(event) {\n",
       "        return fig.toolbar_button_onclick(event['data']);\n",
       "    }\n",
       "    function toolbar_mouse_event(event) {\n",
       "        return fig.toolbar_button_onmouseover(event['data']);\n",
       "    }\n",
       "\n",
       "    for(var toolbar_ind in mpl.toolbar_items){\n",
       "        var name = mpl.toolbar_items[toolbar_ind][0];\n",
       "        var tooltip = mpl.toolbar_items[toolbar_ind][1];\n",
       "        var image = mpl.toolbar_items[toolbar_ind][2];\n",
       "        var method_name = mpl.toolbar_items[toolbar_ind][3];\n",
       "\n",
       "        if (!name) { continue; };\n",
       "\n",
       "        var button = $('<button class=\"btn btn-default\" href=\"#\" title=\"' + name + '\"><i class=\"fa ' + image + ' fa-lg\"></i></button>');\n",
       "        button.click(method_name, toolbar_event);\n",
       "        button.mouseover(tooltip, toolbar_mouse_event);\n",
       "        nav_element.append(button);\n",
       "    }\n",
       "\n",
       "    // Add the status bar.\n",
       "    var status_bar = $('<span class=\"mpl-message\" style=\"text-align:right; float: right;\"/>');\n",
       "    nav_element.append(status_bar);\n",
       "    this.message = status_bar[0];\n",
       "\n",
       "    // Add the close button to the window.\n",
       "    var buttongrp = $('<div class=\"btn-group inline pull-right\"></div>');\n",
       "    var button = $('<button class=\"btn btn-mini btn-primary\" href=\"#\" title=\"Stop Interaction\"><i class=\"fa fa-power-off icon-remove icon-large\"></i></button>');\n",
       "    button.click(function (evt) { fig.handle_close(fig, {}); } );\n",
       "    button.mouseover('Stop Interaction', toolbar_mouse_event);\n",
       "    buttongrp.append(button);\n",
       "    var titlebar = this.root.find($('.ui-dialog-titlebar'));\n",
       "    titlebar.prepend(buttongrp);\n",
       "}\n",
       "\n",
       "mpl.figure.prototype._root_extra_style = function(el){\n",
       "    var fig = this\n",
       "    el.on(\"remove\", function(){\n",
       "\tfig.close_ws(fig, {});\n",
       "    });\n",
       "}\n",
       "\n",
       "mpl.figure.prototype._canvas_extra_style = function(el){\n",
       "    // this is important to make the div 'focusable\n",
       "    el.attr('tabindex', 0)\n",
       "    // reach out to IPython and tell the keyboard manager to turn it's self\n",
       "    // off when our div gets focus\n",
       "\n",
       "    // location in version 3\n",
       "    if (IPython.notebook.keyboard_manager) {\n",
       "        IPython.notebook.keyboard_manager.register_events(el);\n",
       "    }\n",
       "    else {\n",
       "        // location in version 2\n",
       "        IPython.keyboard_manager.register_events(el);\n",
       "    }\n",
       "\n",
       "}\n",
       "\n",
       "mpl.figure.prototype._key_event_extra = function(event, name) {\n",
       "    var manager = IPython.notebook.keyboard_manager;\n",
       "    if (!manager)\n",
       "        manager = IPython.keyboard_manager;\n",
       "\n",
       "    // Check for shift+enter\n",
       "    if (event.shiftKey && event.which == 13) {\n",
       "        this.canvas_div.blur();\n",
       "        event.shiftKey = false;\n",
       "        // Send a \"J\" for go to next cell\n",
       "        event.which = 74;\n",
       "        event.keyCode = 74;\n",
       "        manager.command_mode();\n",
       "        manager.handle_keydown(event);\n",
       "    }\n",
       "}\n",
       "\n",
       "mpl.figure.prototype.handle_save = function(fig, msg) {\n",
       "    fig.ondownload(fig, null);\n",
       "}\n",
       "\n",
       "\n",
       "mpl.find_output_cell = function(html_output) {\n",
       "    // Return the cell and output element which can be found *uniquely* in the notebook.\n",
       "    // Note - this is a bit hacky, but it is done because the \"notebook_saving.Notebook\"\n",
       "    // IPython event is triggered only after the cells have been serialised, which for\n",
       "    // our purposes (turning an active figure into a static one), is too late.\n",
       "    var cells = IPython.notebook.get_cells();\n",
       "    var ncells = cells.length;\n",
       "    for (var i=0; i<ncells; i++) {\n",
       "        var cell = cells[i];\n",
       "        if (cell.cell_type === 'code'){\n",
       "            for (var j=0; j<cell.output_area.outputs.length; j++) {\n",
       "                var data = cell.output_area.outputs[j];\n",
       "                if (data.data) {\n",
       "                    // IPython >= 3 moved mimebundle to data attribute of output\n",
       "                    data = data.data;\n",
       "                }\n",
       "                if (data['text/html'] == html_output) {\n",
       "                    return [cell, data, j];\n",
       "                }\n",
       "            }\n",
       "        }\n",
       "    }\n",
       "}\n",
       "\n",
       "// Register the function which deals with the matplotlib target/channel.\n",
       "// The kernel may be null if the page has been refreshed.\n",
       "if (IPython.notebook.kernel != null) {\n",
       "    IPython.notebook.kernel.comm_manager.register_target('matplotlib', mpl.mpl_figure_comm);\n",
       "}\n"
      ],
      "text/plain": [
       "<IPython.core.display.Javascript object>"
      ]
     },
     "metadata": {},
     "output_type": "display_data"
    },
    {
     "data": {
      "text/html": [
       "<img src=\"data:image/png;base64,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\" width=\"800\">"
      ],
      "text/plain": [
       "<IPython.core.display.HTML object>"
      ]
     },
     "metadata": {},
     "output_type": "display_data"
    }
   ],
   "source": [
    "import pandas as pd\n",
    "\n",
    "pd.DataFrame(history.history).plot()\n",
    "plt.grid(True)\n",
    "plt.title('Model performance throughout training')\n",
    "plt.ylabel('Loss')\n",
    "plt.xlabel('epoch')\n",
    "plt.legend(['train', 'val'], loc='upper right')\n",
    "plt.show()"
   ]
  },
  {
   "cell_type": "markdown",
   "metadata": {
    "slideshow": {
     "slide_type": "slide"
    }
   },
   "source": [
    "## Evaluate model\n",
    "\n",
    "Predict on val set:"
   ]
  },
  {
   "cell_type": "code",
   "execution_count": 17,
   "metadata": {
    "slideshow": {
     "slide_type": "fragment"
    }
   },
   "outputs": [],
   "source": [
    "pred = model.predict(X_val_scaled)"
   ]
  },
  {
   "cell_type": "markdown",
   "metadata": {
    "slideshow": {
     "slide_type": "fragment"
    }
   },
   "source": [
    "Wait... what are we predicting again?"
   ]
  },
  {
   "cell_type": "code",
   "execution_count": 18,
   "metadata": {
    "slideshow": {
     "slide_type": "fragment"
    }
   },
   "outputs": [],
   "source": [
    "y_pred_log_scaled = pred"
   ]
  },
  {
   "cell_type": "markdown",
   "metadata": {
    "slideshow": {
     "slide_type": "slide"
    }
   },
   "source": [
    "De-normalize predictions:"
   ]
  },
  {
   "cell_type": "code",
   "execution_count": 19,
   "metadata": {
    "slideshow": {
     "slide_type": "fragment"
    }
   },
   "outputs": [],
   "source": [
    "y_pred_log = scaler_Y_log.inverse_transform(y_pred_log_scaled)"
   ]
  },
  {
   "cell_type": "markdown",
   "metadata": {
    "slideshow": {
     "slide_type": "fragment"
    }
   },
   "source": [
    "Go back from log-dollars to dollars:"
   ]
  },
  {
   "cell_type": "code",
   "execution_count": 20,
   "metadata": {
    "slideshow": {
     "slide_type": "fragment"
    }
   },
   "outputs": [],
   "source": [
    "from numpy import exp\n",
    "y_pred = exp(y_pred_log)"
   ]
  },
  {
   "cell_type": "markdown",
   "metadata": {
    "slideshow": {
     "slide_type": "slide"
    }
   },
   "source": [
    "Compute performance metrics:"
   ]
  },
  {
   "cell_type": "code",
   "execution_count": 21,
   "metadata": {
    "slideshow": {
     "slide_type": "fragment"
    }
   },
   "outputs": [
    {
     "name": "stdout",
     "output_type": "stream",
     "text": [
      "0.8182452557550961\n"
     ]
    }
   ],
   "source": [
    "from sklearn import metrics\n",
    "print(metrics.r2_score(y_val, y_pred))"
   ]
  },
  {
   "cell_type": "code",
   "execution_count": 22,
   "metadata": {
    "slideshow": {
     "slide_type": "fragment"
    }
   },
   "outputs": [
    {
     "name": "stdout",
     "output_type": "stream",
     "text": [
      "0.8039196111751556\n"
     ]
    }
   ],
   "source": [
    "from sklearn import metrics\n",
    "print(metrics.r2_score(y_val_log, y_pred_log))"
   ]
  },
  {
   "cell_type": "code",
   "execution_count": 23,
   "metadata": {
    "slideshow": {
     "slide_type": "fragment"
    }
   },
   "outputs": [
    {
     "data": {
      "text/plain": [
       "0.1842638437381086"
      ]
     },
     "execution_count": 23,
     "metadata": {},
     "output_type": "execute_result"
    }
   ],
   "source": [
    "from math import sqrt\n",
    "sqrt(metrics.mean_squared_error(y_val_log, y_pred_log))"
   ]
  }
 ],
 "metadata": {
  "kernelspec": {
   "display_name": "Python 3",
   "language": "python",
   "name": "python3"
  },
  "language_info": {
   "codemirror_mode": {
    "name": "ipython",
    "version": 3
   },
   "file_extension": ".py",
   "mimetype": "text/x-python",
   "name": "python",
   "nbconvert_exporter": "python",
   "pygments_lexer": "ipython3",
   "version": "3.7.3"
  },
  "livereveal": {
   "scroll": true
  },
  "toc": {
   "base_numbering": 1,
   "nav_menu": {},
   "number_sections": false,
   "sideBar": true,
   "skip_h1_title": true,
   "title_cell": "Table of Contents",
   "title_sidebar": "Contents",
   "toc_cell": false,
   "toc_position": {},
   "toc_section_display": true,
   "toc_window_display": false
  }
 },
 "nbformat": 4,
 "nbformat_minor": 2
}
