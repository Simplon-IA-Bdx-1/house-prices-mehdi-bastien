{
 "cells": [
  {
   "cell_type": "markdown",
   "metadata": {
    "slideshow": {
     "slide_type": "slide"
    }
   },
   "source": [
    "# MLP on House Prices with Keras\n",
    "\n",
    "All Rights Reserved © <a href=\"http://www.louisdorard.com\">Louis Dorard</a>\n",
    "\n",
    "<img src=\"http://s3.louisdorard.com.s3.amazonaws.com/DL_icon.png\">"
   ]
  },
  {
   "cell_type": "markdown",
   "metadata": {
    "slideshow": {
     "slide_type": "slide"
    }
   },
   "source": [
    "## Define `X_train` and `y_train`"
   ]
  },
  {
   "cell_type": "code",
   "execution_count": 1,
   "metadata": {},
   "outputs": [
    {
     "name": "stderr",
     "output_type": "stream",
     "text": [
      "Using TensorFlow backend.\n"
     ]
    }
   ],
   "source": [
    "%run HousePrices_1D.ipynb"
   ]
  },
  {
   "cell_type": "markdown",
   "metadata": {
    "slideshow": {
     "slide_type": "fragment"
    }
   },
   "source": [
    "List of numerical features that don't have missing values:"
   ]
  },
  {
   "cell_type": "code",
   "execution_count": 2,
   "metadata": {
    "slideshow": {
     "slide_type": "fragment"
    }
   },
   "outputs": [],
   "source": [
    "features = [\n",
    "#    'MSSubClass',\n",
    "#    'LotFrontage',\n",
    "    'LotArea',\n",
    "#    'OverallQual',\n",
    "#    'OverallCond',\n",
    "    'YearBuilt',\n",
    "    'YearRemodAdd',\n",
    "    '1stFlrSF',\n",
    "    '2ndFlrSF',\n",
    "#    'LowQualFinSF',\n",
    "#    'GrLivArea',\n",
    "    'FullBath',\n",
    "    'HalfBath',\n",
    "#    'BedroomAbvGr',\n",
    "#    'KitchenAbvGr',\n",
    "#    'TotRmsAbvGrd',\n",
    "#    'Fireplaces',\n",
    "#    'WoodDeckSF',\n",
    "#    'OpenPorchSF',\n",
    "#    'EnclosedPorch',\n",
    "#    '3SsnPorch',\n",
    "#    'ScreenPorch',\n",
    "    'PoolArea',\n",
    "#    'MiscVal',\n",
    "#    'MoSold',\n",
    "    'YrSold']"
   ]
  },
  {
   "cell_type": "code",
   "execution_count": 3,
   "metadata": {
    "slideshow": {
     "slide_type": "slide"
    }
   },
   "outputs": [],
   "source": [
    "X_train_full = data[features].values.astype(float)\n",
    "y_train_full = data[['SalePrice']].values.astype(float)"
   ]
  },
  {
   "cell_type": "markdown",
   "metadata": {
    "slideshow": {
     "slide_type": "slide"
    }
   },
   "source": [
    "Split into an actual training set and a validation set.\n",
    "\n",
    "(Note: make split reproducible -> fix seed of numpy's random number generator, before using scikit)"
   ]
  },
  {
   "cell_type": "code",
   "execution_count": 4,
   "metadata": {
    "slideshow": {
     "slide_type": "fragment"
    }
   },
   "outputs": [],
   "source": [
    "from numpy import random as np_random\n",
    "SEED = 42\n",
    "np_random.seed(SEED)"
   ]
  },
  {
   "cell_type": "code",
   "execution_count": 5,
   "metadata": {
    "slideshow": {
     "slide_type": "fragment"
    }
   },
   "outputs": [],
   "source": [
    "from sklearn.model_selection import train_test_split\n",
    "X_train, X_val, y_train, y_val = train_test_split(X_train_full, y_train_full)"
   ]
  },
  {
   "cell_type": "markdown",
   "metadata": {
    "slideshow": {
     "slide_type": "slide"
    }
   },
   "source": [
    "Normalize inputs:"
   ]
  },
  {
   "cell_type": "code",
   "execution_count": 6,
   "metadata": {
    "slideshow": {
     "slide_type": "fragment"
    }
   },
   "outputs": [
    {
     "data": {
      "text/plain": [
       "StandardScaler(copy=True, with_mean=True, with_std=True)"
      ]
     },
     "execution_count": 6,
     "metadata": {},
     "output_type": "execute_result"
    }
   ],
   "source": [
    "from sklearn.preprocessing import StandardScaler\n",
    "scaler_X = StandardScaler()\n",
    "scaler_X.fit(X_train)"
   ]
  },
  {
   "cell_type": "code",
   "execution_count": 7,
   "metadata": {
    "slideshow": {
     "slide_type": "fragment"
    }
   },
   "outputs": [],
   "source": [
    "X_train_scaled = scaler_X.transform(X_train)\n",
    "X_val_scaled = scaler_X.transform(X_val)"
   ]
  },
  {
   "cell_type": "markdown",
   "metadata": {
    "slideshow": {
     "slide_type": "slide"
    }
   },
   "source": [
    "Log-transform outputs:"
   ]
  },
  {
   "cell_type": "code",
   "execution_count": 8,
   "metadata": {
    "slideshow": {
     "slide_type": "fragment"
    }
   },
   "outputs": [],
   "source": [
    "from numpy import log\n",
    "y_train_log = log(y_train)\n",
    "y_val_log = log(y_val)"
   ]
  },
  {
   "cell_type": "markdown",
   "metadata": {
    "slideshow": {
     "slide_type": "slide"
    }
   },
   "source": [
    "Normalize outputs? Could be useful if training an MLP...\n",
    "\n",
    "_\"Reducing the scale of the target variable will, in turn, reduce the size of the gradient used to update the weights and result in a more stable model and training process.\"_ ([Source](https://machinelearningmastery.com/how-to-improve-neural-network-stability-and-modeling-performance-with-data-scaling/))"
   ]
  },
  {
   "cell_type": "code",
   "execution_count": 9,
   "metadata": {
    "slideshow": {
     "slide_type": "fragment"
    }
   },
   "outputs": [],
   "source": [
    "scaler_Y_log = StandardScaler()\n",
    "scaler_Y_log.fit(y_train_log)\n",
    "y_train_log_scaled = scaler_Y_log.transform(y_train_log)\n",
    "y_val_log_scaled = scaler_Y_log.transform(y_val_log)"
   ]
  },
  {
   "cell_type": "markdown",
   "metadata": {
    "slideshow": {
     "slide_type": "slide"
    }
   },
   "source": [
    "## Model relationship between `x` and  `y`"
   ]
  },
  {
   "cell_type": "markdown",
   "metadata": {
    "slideshow": {
     "slide_type": "fragment"
    }
   },
   "source": [
    "Make results reproducible -> fix seed of TensorFlow's random number generator"
   ]
  },
  {
   "cell_type": "code",
   "execution_count": 10,
   "metadata": {
    "slideshow": {
     "slide_type": "fragment"
    }
   },
   "outputs": [],
   "source": [
    "from tensorflow import random as tf_random\n",
    "tf_random.set_seed(SEED)"
   ]
  },
  {
   "cell_type": "markdown",
   "metadata": {
    "slideshow": {
     "slide_type": "slide"
    }
   },
   "source": [
    "Define model:"
   ]
  },
  {
   "cell_type": "code",
   "execution_count": 11,
   "metadata": {
    "slideshow": {
     "slide_type": "fragment"
    }
   },
   "outputs": [],
   "source": [
    "from tensorflow.keras.models import Sequential\n",
    "from tensorflow.keras.layers import Input, Dense\n",
    "n_input = X_train.shape[1]\n",
    "model = Sequential([\n",
    "    Input(shape=n_input),\n",
    "    Dense(n_input,kernel_initializer='normal', activation='relu'),\n",
    "    Dense(1)\n",
    "])"
   ]
  },
  {
   "cell_type": "markdown",
   "metadata": {
    "slideshow": {
     "slide_type": "slide"
    }
   },
   "source": [
    "Check model is defined as expected:"
   ]
  },
  {
   "cell_type": "code",
   "execution_count": 12,
   "metadata": {
    "slideshow": {
     "slide_type": "fragment"
    }
   },
   "outputs": [
    {
     "name": "stdout",
     "output_type": "stream",
     "text": [
      "Model: \"sequential\"\n",
      "_________________________________________________________________\n",
      "Layer (type)                 Output Shape              Param #   \n",
      "=================================================================\n",
      "dense (Dense)                (None, 9)                 90        \n",
      "_________________________________________________________________\n",
      "dense_1 (Dense)              (None, 1)                 10        \n",
      "=================================================================\n",
      "Total params: 100\n",
      "Trainable params: 100\n",
      "Non-trainable params: 0\n",
      "_________________________________________________________________\n"
     ]
    }
   ],
   "source": [
    "model.summary()"
   ]
  },
  {
   "cell_type": "markdown",
   "metadata": {
    "slideshow": {
     "slide_type": "slide"
    }
   },
   "source": [
    "## Set up optimizer\n",
    "\n",
    "Using Adam instead of SGD"
   ]
  },
  {
   "cell_type": "code",
   "execution_count": 13,
   "metadata": {
    "slideshow": {
     "slide_type": "fragment"
    }
   },
   "outputs": [],
   "source": [
    "from tensorflow.keras.optimizers import Adam\n",
    "\n",
    "LEARNING_RATE = 0.01\n",
    "model.compile(loss='mse', optimizer=Adam(lr=LEARNING_RATE))"
   ]
  },
  {
   "cell_type": "markdown",
   "metadata": {
    "slideshow": {
     "slide_type": "slide"
    }
   },
   "source": [
    "## Fit model"
   ]
  },
  {
   "cell_type": "code",
   "execution_count": 14,
   "metadata": {
    "slideshow": {
     "slide_type": "fragment"
    }
   },
   "outputs": [
    {
     "name": "stdout",
     "output_type": "stream",
     "text": [
      "Train on 1095 samples, validate on 365 samples\n",
      "Epoch 1/200\n",
      "1095/1095 - 1s - loss: 1.0613 - val_loss: 1.0709\n",
      "Epoch 2/200\n",
      "1095/1095 - 0s - loss: 0.9361 - val_loss: 0.9492\n",
      "Epoch 3/200\n",
      "1095/1095 - 0s - loss: 0.8282 - val_loss: 0.8364\n",
      "Epoch 4/200\n",
      "1095/1095 - 0s - loss: 0.7261 - val_loss: 0.7318\n",
      "Epoch 5/200\n",
      "1095/1095 - 0s - loss: 0.6339 - val_loss: 0.6401\n",
      "Epoch 6/200\n",
      "1095/1095 - 0s - loss: 0.5551 - val_loss: 0.5614\n",
      "Epoch 7/200\n",
      "1095/1095 - 0s - loss: 0.4918 - val_loss: 0.4954\n",
      "Epoch 8/200\n",
      "1095/1095 - 0s - loss: 0.4425 - val_loss: 0.4414\n",
      "Epoch 9/200\n",
      "1095/1095 - 0s - loss: 0.4057 - val_loss: 0.3982\n",
      "Epoch 10/200\n",
      "1095/1095 - 0s - loss: 0.3789 - val_loss: 0.3638\n",
      "Epoch 11/200\n",
      "1095/1095 - 0s - loss: 0.3592 - val_loss: 0.3360\n",
      "Epoch 12/200\n",
      "1095/1095 - 0s - loss: 0.3436 - val_loss: 0.3132\n",
      "Epoch 13/200\n",
      "1095/1095 - 0s - loss: 0.3305 - val_loss: 0.2951\n",
      "Epoch 14/200\n",
      "1095/1095 - 0s - loss: 0.3193 - val_loss: 0.2819\n",
      "Epoch 15/200\n",
      "1095/1095 - 0s - loss: 0.3108 - val_loss: 0.2739\n",
      "Epoch 16/200\n",
      "1095/1095 - 0s - loss: 0.3054 - val_loss: 0.2707\n",
      "Epoch 17/200\n",
      "1095/1095 - 0s - loss: 0.3035 - val_loss: 0.2713\n",
      "Epoch 18/200\n",
      "1095/1095 - 0s - loss: 0.3043 - val_loss: 0.2741\n",
      "Epoch 19/200\n",
      "1095/1095 - 0s - loss: 0.3063 - val_loss: 0.2773\n",
      "Epoch 20/200\n",
      "1095/1095 - 0s - loss: 0.3078 - val_loss: 0.2796\n",
      "Epoch 21/200\n",
      "1095/1095 - 0s - loss: 0.3079 - val_loss: 0.2800\n",
      "Epoch 22/200\n",
      "1095/1095 - 0s - loss: 0.3056 - val_loss: 0.2783\n",
      "Epoch 23/200\n",
      "1095/1095 - 0s - loss: 0.3011 - val_loss: 0.2748\n",
      "Epoch 24/200\n",
      "1095/1095 - 0s - loss: 0.2948 - val_loss: 0.2703\n",
      "Epoch 25/200\n",
      "1095/1095 - 0s - loss: 0.2872 - val_loss: 0.2655\n",
      "Epoch 26/200\n",
      "1095/1095 - 0s - loss: 0.2792 - val_loss: 0.2609\n",
      "Epoch 27/200\n",
      "1095/1095 - 0s - loss: 0.2714 - val_loss: 0.2573\n",
      "Epoch 28/200\n",
      "1095/1095 - 0s - loss: 0.2645 - val_loss: 0.2547\n",
      "Epoch 29/200\n",
      "1095/1095 - 0s - loss: 0.2590 - val_loss: 0.2534\n",
      "Epoch 30/200\n",
      "1095/1095 - 0s - loss: 0.2550 - val_loss: 0.2532\n",
      "Epoch 31/200\n",
      "1095/1095 - 0s - loss: 0.2524 - val_loss: 0.2539\n",
      "Epoch 32/200\n",
      "1095/1095 - 0s - loss: 0.2510 - val_loss: 0.2550\n",
      "Epoch 33/200\n",
      "1095/1095 - 0s - loss: 0.2504 - val_loss: 0.2561\n",
      "Epoch 34/200\n",
      "1095/1095 - 0s - loss: 0.2501 - val_loss: 0.2569\n",
      "Epoch 35/200\n",
      "1095/1095 - 0s - loss: 0.2498 - val_loss: 0.2571\n",
      "Epoch 36/200\n",
      "1095/1095 - 0s - loss: 0.2491 - val_loss: 0.2566\n",
      "Epoch 37/200\n",
      "1095/1095 - 0s - loss: 0.2479 - val_loss: 0.2554\n",
      "Epoch 38/200\n",
      "1095/1095 - 0s - loss: 0.2462 - val_loss: 0.2536\n",
      "Epoch 39/200\n",
      "1095/1095 - 0s - loss: 0.2441 - val_loss: 0.2515\n",
      "Epoch 40/200\n",
      "1095/1095 - 0s - loss: 0.2419 - val_loss: 0.2493\n",
      "Epoch 41/200\n",
      "1095/1095 - 0s - loss: 0.2397 - val_loss: 0.2472\n",
      "Epoch 42/200\n",
      "1095/1095 - 0s - loss: 0.2376 - val_loss: 0.2450\n",
      "Epoch 43/200\n",
      "1095/1095 - 0s - loss: 0.2356 - val_loss: 0.2430\n",
      "Epoch 44/200\n",
      "1095/1095 - 0s - loss: 0.2337 - val_loss: 0.2411\n",
      "Epoch 45/200\n",
      "1095/1095 - 0s - loss: 0.2319 - val_loss: 0.2393\n",
      "Epoch 46/200\n",
      "1095/1095 - 0s - loss: 0.2303 - val_loss: 0.2376\n",
      "Epoch 47/200\n",
      "1095/1095 - 0s - loss: 0.2289 - val_loss: 0.2360\n",
      "Epoch 48/200\n",
      "1095/1095 - 0s - loss: 0.2276 - val_loss: 0.2346\n",
      "Epoch 49/200\n",
      "1095/1095 - 0s - loss: 0.2264 - val_loss: 0.2333\n",
      "Epoch 50/200\n",
      "1095/1095 - 0s - loss: 0.2253 - val_loss: 0.2322\n",
      "Epoch 51/200\n",
      "1095/1095 - 0s - loss: 0.2243 - val_loss: 0.2314\n",
      "Epoch 52/200\n",
      "1095/1095 - 0s - loss: 0.2235 - val_loss: 0.2308\n",
      "Epoch 53/200\n",
      "1095/1095 - 0s - loss: 0.2227 - val_loss: 0.2304\n",
      "Epoch 54/200\n",
      "1095/1095 - 0s - loss: 0.2220 - val_loss: 0.2301\n",
      "Epoch 55/200\n",
      "1095/1095 - 0s - loss: 0.2212 - val_loss: 0.2300\n",
      "Epoch 56/200\n",
      "1095/1095 - 0s - loss: 0.2204 - val_loss: 0.2298\n",
      "Epoch 57/200\n",
      "1095/1095 - 0s - loss: 0.2196 - val_loss: 0.2298\n",
      "Epoch 58/200\n",
      "1095/1095 - 0s - loss: 0.2187 - val_loss: 0.2298\n",
      "Epoch 59/200\n",
      "1095/1095 - 0s - loss: 0.2178 - val_loss: 0.2300\n",
      "Epoch 60/200\n",
      "1095/1095 - 0s - loss: 0.2170 - val_loss: 0.2302\n",
      "Epoch 61/200\n",
      "1095/1095 - 0s - loss: 0.2162 - val_loss: 0.2305\n",
      "Epoch 62/200\n",
      "1095/1095 - 0s - loss: 0.2155 - val_loss: 0.2308\n",
      "Epoch 63/200\n",
      "1095/1095 - 0s - loss: 0.2149 - val_loss: 0.2312\n",
      "Epoch 64/200\n",
      "1095/1095 - 0s - loss: 0.2142 - val_loss: 0.2314\n",
      "Epoch 65/200\n",
      "1095/1095 - 0s - loss: 0.2136 - val_loss: 0.2316\n",
      "Epoch 66/200\n",
      "1095/1095 - 0s - loss: 0.2131 - val_loss: 0.2315\n",
      "Epoch 67/200\n",
      "1095/1095 - 0s - loss: 0.2125 - val_loss: 0.2313\n",
      "Epoch 68/200\n",
      "1095/1095 - 0s - loss: 0.2119 - val_loss: 0.2310\n",
      "Epoch 69/200\n",
      "1095/1095 - 0s - loss: 0.2113 - val_loss: 0.2306\n",
      "Epoch 70/200\n",
      "1095/1095 - 0s - loss: 0.2108 - val_loss: 0.2301\n",
      "Epoch 71/200\n",
      "1095/1095 - 0s - loss: 0.2102 - val_loss: 0.2297\n",
      "Epoch 72/200\n",
      "1095/1095 - 0s - loss: 0.2098 - val_loss: 0.2292\n",
      "Epoch 73/200\n",
      "1095/1095 - 0s - loss: 0.2093 - val_loss: 0.2288\n",
      "Epoch 74/200\n",
      "1095/1095 - 0s - loss: 0.2089 - val_loss: 0.2285\n",
      "Epoch 75/200\n",
      "1095/1095 - 0s - loss: 0.2085 - val_loss: 0.2283\n",
      "Epoch 76/200\n",
      "1095/1095 - 0s - loss: 0.2081 - val_loss: 0.2281\n",
      "Epoch 77/200\n",
      "1095/1095 - 0s - loss: 0.2077 - val_loss: 0.2281\n",
      "Epoch 78/200\n",
      "1095/1095 - 0s - loss: 0.2073 - val_loss: 0.2281\n",
      "Epoch 79/200\n",
      "1095/1095 - 0s - loss: 0.2070 - val_loss: 0.2282\n",
      "Epoch 80/200\n",
      "1095/1095 - 0s - loss: 0.2066 - val_loss: 0.2283\n",
      "Epoch 81/200\n",
      "1095/1095 - 0s - loss: 0.2063 - val_loss: 0.2284\n",
      "Epoch 82/200\n",
      "1095/1095 - 0s - loss: 0.2060 - val_loss: 0.2284\n",
      "Epoch 83/200\n",
      "1095/1095 - 0s - loss: 0.2057 - val_loss: 0.2284\n",
      "Epoch 84/200\n",
      "1095/1095 - 0s - loss: 0.2054 - val_loss: 0.2284\n",
      "Epoch 85/200\n",
      "1095/1095 - 0s - loss: 0.2052 - val_loss: 0.2284\n",
      "Epoch 86/200\n",
      "1095/1095 - 0s - loss: 0.2049 - val_loss: 0.2283\n",
      "Epoch 87/200\n",
      "1095/1095 - 0s - loss: 0.2047 - val_loss: 0.2283\n",
      "Epoch 88/200\n",
      "1095/1095 - 0s - loss: 0.2044 - val_loss: 0.2282\n",
      "Epoch 89/200\n",
      "1095/1095 - 0s - loss: 0.2042 - val_loss: 0.2282\n",
      "Epoch 90/200\n",
      "1095/1095 - 0s - loss: 0.2039 - val_loss: 0.2282\n",
      "Epoch 91/200\n",
      "1095/1095 - 0s - loss: 0.2037 - val_loss: 0.2282\n",
      "Epoch 92/200\n",
      "1095/1095 - 0s - loss: 0.2035 - val_loss: 0.2281\n",
      "Epoch 93/200\n",
      "1095/1095 - 0s - loss: 0.2032 - val_loss: 0.2280\n",
      "Epoch 94/200\n",
      "1095/1095 - 0s - loss: 0.2030 - val_loss: 0.2278\n",
      "Epoch 95/200\n",
      "1095/1095 - 0s - loss: 0.2027 - val_loss: 0.2277\n",
      "Epoch 96/200\n",
      "1095/1095 - 0s - loss: 0.2025 - val_loss: 0.2275\n",
      "Epoch 97/200\n",
      "1095/1095 - 0s - loss: 0.2022 - val_loss: 0.2272\n",
      "Epoch 98/200\n",
      "1095/1095 - 0s - loss: 0.2019 - val_loss: 0.2270\n",
      "Epoch 99/200\n",
      "1095/1095 - 0s - loss: 0.2017 - val_loss: 0.2267\n",
      "Epoch 100/200\n",
      "1095/1095 - 0s - loss: 0.2014 - val_loss: 0.2265\n",
      "Epoch 101/200\n",
      "1095/1095 - 0s - loss: 0.2011 - val_loss: 0.2263\n",
      "Epoch 102/200\n",
      "1095/1095 - 0s - loss: 0.2007 - val_loss: 0.2260\n",
      "Epoch 103/200\n",
      "1095/1095 - 0s - loss: 0.2004 - val_loss: 0.2259\n",
      "Epoch 104/200\n",
      "1095/1095 - 0s - loss: 0.2001 - val_loss: 0.2257\n",
      "Epoch 105/200\n",
      "1095/1095 - 0s - loss: 0.1998 - val_loss: 0.2255\n",
      "Epoch 106/200\n",
      "1095/1095 - 0s - loss: 0.1995 - val_loss: 0.2254\n",
      "Epoch 107/200\n",
      "1095/1095 - 0s - loss: 0.1992 - val_loss: 0.2252\n",
      "Epoch 108/200\n",
      "1095/1095 - 0s - loss: 0.1989 - val_loss: 0.2250\n",
      "Epoch 109/200\n",
      "1095/1095 - 0s - loss: 0.1986 - val_loss: 0.2248\n",
      "Epoch 110/200\n",
      "1095/1095 - 0s - loss: 0.1983 - val_loss: 0.2246\n",
      "Epoch 111/200\n",
      "1095/1095 - 0s - loss: 0.1980 - val_loss: 0.2244\n",
      "Epoch 112/200\n",
      "1095/1095 - 0s - loss: 0.1977 - val_loss: 0.2242\n",
      "Epoch 113/200\n",
      "1095/1095 - 0s - loss: 0.1974 - val_loss: 0.2240\n",
      "Epoch 114/200\n",
      "1095/1095 - 0s - loss: 0.1971 - val_loss: 0.2238\n",
      "Epoch 115/200\n",
      "1095/1095 - 0s - loss: 0.1968 - val_loss: 0.2236\n",
      "Epoch 116/200\n",
      "1095/1095 - 0s - loss: 0.1965 - val_loss: 0.2233\n",
      "Epoch 117/200\n",
      "1095/1095 - 0s - loss: 0.1962 - val_loss: 0.2231\n",
      "Epoch 118/200\n",
      "1095/1095 - 0s - loss: 0.1959 - val_loss: 0.2229\n",
      "Epoch 119/200\n",
      "1095/1095 - 0s - loss: 0.1957 - val_loss: 0.2226\n",
      "Epoch 120/200\n",
      "1095/1095 - 0s - loss: 0.1954 - val_loss: 0.2224\n",
      "Epoch 121/200\n",
      "1095/1095 - 0s - loss: 0.1952 - val_loss: 0.2221\n",
      "Epoch 122/200\n",
      "1095/1095 - 0s - loss: 0.1949 - val_loss: 0.2219\n",
      "Epoch 123/200\n",
      "1095/1095 - 0s - loss: 0.1946 - val_loss: 0.2217\n",
      "Epoch 124/200\n",
      "1095/1095 - 0s - loss: 0.1943 - val_loss: 0.2214\n",
      "Epoch 125/200\n",
      "1095/1095 - 0s - loss: 0.1941 - val_loss: 0.2212\n",
      "Epoch 126/200\n",
      "1095/1095 - 0s - loss: 0.1938 - val_loss: 0.2211\n",
      "Epoch 127/200\n",
      "1095/1095 - 0s - loss: 0.1935 - val_loss: 0.2209\n",
      "Epoch 128/200\n",
      "1095/1095 - 0s - loss: 0.1932 - val_loss: 0.2208\n",
      "Epoch 129/200\n",
      "1095/1095 - 0s - loss: 0.1929 - val_loss: 0.2207\n",
      "Epoch 130/200\n",
      "1095/1095 - 0s - loss: 0.1925 - val_loss: 0.2205\n",
      "Epoch 131/200\n",
      "1095/1095 - 0s - loss: 0.1922 - val_loss: 0.2203\n",
      "Epoch 132/200\n",
      "1095/1095 - 0s - loss: 0.1919 - val_loss: 0.2201\n"
     ]
    },
    {
     "name": "stdout",
     "output_type": "stream",
     "text": [
      "Epoch 133/200\n",
      "1095/1095 - 0s - loss: 0.1916 - val_loss: 0.2200\n",
      "Epoch 134/200\n",
      "1095/1095 - 0s - loss: 0.1912 - val_loss: 0.2198\n",
      "Epoch 135/200\n",
      "1095/1095 - 0s - loss: 0.1909 - val_loss: 0.2198\n",
      "Epoch 136/200\n",
      "1095/1095 - 0s - loss: 0.1905 - val_loss: 0.2197\n",
      "Epoch 137/200\n",
      "1095/1095 - 0s - loss: 0.1903 - val_loss: 0.2196\n",
      "Epoch 138/200\n",
      "1095/1095 - 0s - loss: 0.1901 - val_loss: 0.2194\n",
      "Epoch 139/200\n",
      "1095/1095 - 0s - loss: 0.1900 - val_loss: 0.2192\n",
      "Epoch 140/200\n",
      "1095/1095 - 0s - loss: 0.1898 - val_loss: 0.2190\n",
      "Epoch 141/200\n",
      "1095/1095 - 0s - loss: 0.1897 - val_loss: 0.2187\n",
      "Epoch 142/200\n",
      "1095/1095 - 0s - loss: 0.1895 - val_loss: 0.2185\n",
      "Epoch 143/200\n",
      "1095/1095 - 0s - loss: 0.1894 - val_loss: 0.2183\n",
      "Epoch 144/200\n",
      "1095/1095 - 0s - loss: 0.1892 - val_loss: 0.2181\n",
      "Epoch 145/200\n",
      "1095/1095 - 0s - loss: 0.1891 - val_loss: 0.2179\n",
      "Epoch 146/200\n",
      "1095/1095 - 0s - loss: 0.1889 - val_loss: 0.2177\n",
      "Epoch 147/200\n",
      "1095/1095 - 0s - loss: 0.1888 - val_loss: 0.2174\n",
      "Epoch 148/200\n",
      "1095/1095 - 0s - loss: 0.1887 - val_loss: 0.2172\n",
      "Epoch 149/200\n",
      "1095/1095 - 0s - loss: 0.1886 - val_loss: 0.2169\n",
      "Epoch 150/200\n",
      "1095/1095 - 0s - loss: 0.1884 - val_loss: 0.2166\n",
      "Epoch 151/200\n",
      "1095/1095 - 0s - loss: 0.1883 - val_loss: 0.2164\n",
      "Epoch 152/200\n",
      "1095/1095 - 0s - loss: 0.1882 - val_loss: 0.2163\n",
      "Epoch 153/200\n",
      "1095/1095 - 0s - loss: 0.1881 - val_loss: 0.2162\n",
      "Epoch 154/200\n",
      "1095/1095 - 0s - loss: 0.1879 - val_loss: 0.2161\n",
      "Epoch 155/200\n",
      "1095/1095 - 0s - loss: 0.1878 - val_loss: 0.2160\n",
      "Epoch 156/200\n",
      "1095/1095 - 0s - loss: 0.1877 - val_loss: 0.2158\n",
      "Epoch 157/200\n",
      "1095/1095 - 0s - loss: 0.1876 - val_loss: 0.2157\n",
      "Epoch 158/200\n",
      "1095/1095 - 0s - loss: 0.1875 - val_loss: 0.2156\n",
      "Epoch 159/200\n",
      "1095/1095 - 0s - loss: 0.1873 - val_loss: 0.2154\n",
      "Epoch 160/200\n",
      "1095/1095 - 0s - loss: 0.1872 - val_loss: 0.2153\n",
      "Epoch 161/200\n",
      "1095/1095 - 0s - loss: 0.1871 - val_loss: 0.2152\n",
      "Epoch 162/200\n",
      "1095/1095 - 0s - loss: 0.1869 - val_loss: 0.2150\n",
      "Epoch 163/200\n",
      "1095/1095 - 0s - loss: 0.1868 - val_loss: 0.2148\n",
      "Epoch 164/200\n",
      "1095/1095 - 0s - loss: 0.1867 - val_loss: 0.2147\n",
      "Epoch 165/200\n",
      "1095/1095 - 0s - loss: 0.1865 - val_loss: 0.2145\n",
      "Epoch 166/200\n",
      "1095/1095 - 0s - loss: 0.1864 - val_loss: 0.2144\n",
      "Epoch 167/200\n",
      "1095/1095 - 0s - loss: 0.1863 - val_loss: 0.2144\n",
      "Epoch 168/200\n",
      "1095/1095 - 0s - loss: 0.1861 - val_loss: 0.2144\n",
      "Epoch 169/200\n",
      "1095/1095 - 0s - loss: 0.1860 - val_loss: 0.2143\n",
      "Epoch 170/200\n",
      "1095/1095 - 0s - loss: 0.1859 - val_loss: 0.2143\n",
      "Epoch 171/200\n",
      "1095/1095 - 0s - loss: 0.1857 - val_loss: 0.2143\n",
      "Epoch 172/200\n",
      "1095/1095 - 0s - loss: 0.1856 - val_loss: 0.2143\n",
      "Epoch 173/200\n",
      "1095/1095 - 0s - loss: 0.1855 - val_loss: 0.2142\n",
      "Epoch 174/200\n",
      "1095/1095 - 0s - loss: 0.1853 - val_loss: 0.2141\n",
      "Epoch 175/200\n",
      "1095/1095 - 0s - loss: 0.1852 - val_loss: 0.2139\n",
      "Epoch 176/200\n",
      "1095/1095 - 0s - loss: 0.1851 - val_loss: 0.2138\n",
      "Epoch 177/200\n",
      "1095/1095 - 0s - loss: 0.1850 - val_loss: 0.2137\n",
      "Epoch 178/200\n",
      "1095/1095 - 0s - loss: 0.1849 - val_loss: 0.2137\n",
      "Epoch 179/200\n",
      "1095/1095 - 0s - loss: 0.1848 - val_loss: 0.2136\n",
      "Epoch 180/200\n",
      "1095/1095 - 0s - loss: 0.1847 - val_loss: 0.2136\n",
      "Epoch 181/200\n",
      "1095/1095 - 0s - loss: 0.1845 - val_loss: 0.2135\n",
      "Epoch 182/200\n",
      "1095/1095 - 0s - loss: 0.1844 - val_loss: 0.2134\n",
      "Epoch 183/200\n",
      "1095/1095 - 0s - loss: 0.1843 - val_loss: 0.2132\n",
      "Epoch 184/200\n",
      "1095/1095 - 0s - loss: 0.1842 - val_loss: 0.2130\n",
      "Epoch 185/200\n",
      "1095/1095 - 0s - loss: 0.1841 - val_loss: 0.2129\n",
      "Epoch 186/200\n",
      "1095/1095 - 0s - loss: 0.1840 - val_loss: 0.2127\n",
      "Epoch 187/200\n",
      "1095/1095 - 0s - loss: 0.1839 - val_loss: 0.2127\n",
      "Epoch 188/200\n",
      "1095/1095 - 0s - loss: 0.1838 - val_loss: 0.2127\n",
      "Epoch 189/200\n",
      "1095/1095 - 0s - loss: 0.1837 - val_loss: 0.2128\n",
      "Epoch 190/200\n",
      "1095/1095 - 0s - loss: 0.1836 - val_loss: 0.2130\n",
      "Epoch 191/200\n",
      "1095/1095 - 0s - loss: 0.1835 - val_loss: 0.2130\n",
      "Epoch 192/200\n",
      "1095/1095 - 0s - loss: 0.1833 - val_loss: 0.2130\n",
      "Epoch 193/200\n",
      "1095/1095 - 0s - loss: 0.1832 - val_loss: 0.2130\n",
      "Epoch 194/200\n",
      "1095/1095 - 0s - loss: 0.1831 - val_loss: 0.2130\n",
      "Epoch 195/200\n",
      "1095/1095 - 0s - loss: 0.1829 - val_loss: 0.2130\n",
      "Epoch 196/200\n",
      "1095/1095 - 0s - loss: 0.1828 - val_loss: 0.2131\n",
      "Epoch 197/200\n",
      "1095/1095 - 0s - loss: 0.1827 - val_loss: 0.2132\n",
      "Epoch 198/200\n",
      "1095/1095 - 0s - loss: 0.1826 - val_loss: 0.2133\n",
      "Epoch 199/200\n",
      "1095/1095 - 0s - loss: 0.1824 - val_loss: 0.2133\n",
      "Epoch 200/200\n",
      "1095/1095 - 0s - loss: 0.1823 - val_loss: 0.2133\n"
     ]
    }
   ],
   "source": [
    "BATCH_SIZE = X_train.shape[0]\n",
    "EPOCHS = 200\n",
    "history = model.fit(X_train_scaled, \\\n",
    "                    y_train_log_scaled, \\\n",
    "                    validation_data=(X_val_scaled, y_val_log_scaled), \\\n",
    "                    epochs=EPOCHS, \\\n",
    "                    batch_size=BATCH_SIZE, \\\n",
    "                    verbose=2)"
   ]
  },
  {
   "cell_type": "markdown",
   "metadata": {
    "slideshow": {
     "slide_type": "slide"
    }
   },
   "source": [
    "## Review learning curve"
   ]
  },
  {
   "cell_type": "code",
   "execution_count": 15,
   "metadata": {
    "slideshow": {
     "slide_type": "fragment"
    }
   },
   "outputs": [],
   "source": [
    "import matplotlib.pyplot as plt\n",
    "%matplotlib notebook\n",
    "plt.style.use('dark_background')"
   ]
  },
  {
   "cell_type": "code",
   "execution_count": 16,
   "metadata": {
    "slideshow": {
     "slide_type": "fragment"
    }
   },
   "outputs": [
    {
     "data": {
      "application/javascript": [
       "/* Put everything inside the global mpl namespace */\n",
       "window.mpl = {};\n",
       "\n",
       "\n",
       "mpl.get_websocket_type = function() {\n",
       "    if (typeof(WebSocket) !== 'undefined') {\n",
       "        return WebSocket;\n",
       "    } else if (typeof(MozWebSocket) !== 'undefined') {\n",
       "        return MozWebSocket;\n",
       "    } else {\n",
       "        alert('Your browser does not have WebSocket support. ' +\n",
       "              'Please try Chrome, Safari or Firefox ≥ 6. ' +\n",
       "              'Firefox 4 and 5 are also supported but you ' +\n",
       "              'have to enable WebSockets in about:config.');\n",
       "    };\n",
       "}\n",
       "\n",
       "mpl.figure = function(figure_id, websocket, ondownload, parent_element) {\n",
       "    this.id = figure_id;\n",
       "\n",
       "    this.ws = websocket;\n",
       "\n",
       "    this.supports_binary = (this.ws.binaryType != undefined);\n",
       "\n",
       "    if (!this.supports_binary) {\n",
       "        var warnings = document.getElementById(\"mpl-warnings\");\n",
       "        if (warnings) {\n",
       "            warnings.style.display = 'block';\n",
       "            warnings.textContent = (\n",
       "                \"This browser does not support binary websocket messages. \" +\n",
       "                    \"Performance may be slow.\");\n",
       "        }\n",
       "    }\n",
       "\n",
       "    this.imageObj = new Image();\n",
       "\n",
       "    this.context = undefined;\n",
       "    this.message = undefined;\n",
       "    this.canvas = undefined;\n",
       "    this.rubberband_canvas = undefined;\n",
       "    this.rubberband_context = undefined;\n",
       "    this.format_dropdown = undefined;\n",
       "\n",
       "    this.image_mode = 'full';\n",
       "\n",
       "    this.root = $('<div/>');\n",
       "    this._root_extra_style(this.root)\n",
       "    this.root.attr('style', 'display: inline-block');\n",
       "\n",
       "    $(parent_element).append(this.root);\n",
       "\n",
       "    this._init_header(this);\n",
       "    this._init_canvas(this);\n",
       "    this._init_toolbar(this);\n",
       "\n",
       "    var fig = this;\n",
       "\n",
       "    this.waiting = false;\n",
       "\n",
       "    this.ws.onopen =  function () {\n",
       "            fig.send_message(\"supports_binary\", {value: fig.supports_binary});\n",
       "            fig.send_message(\"send_image_mode\", {});\n",
       "            if (mpl.ratio != 1) {\n",
       "                fig.send_message(\"set_dpi_ratio\", {'dpi_ratio': mpl.ratio});\n",
       "            }\n",
       "            fig.send_message(\"refresh\", {});\n",
       "        }\n",
       "\n",
       "    this.imageObj.onload = function() {\n",
       "            if (fig.image_mode == 'full') {\n",
       "                // Full images could contain transparency (where diff images\n",
       "                // almost always do), so we need to clear the canvas so that\n",
       "                // there is no ghosting.\n",
       "                fig.context.clearRect(0, 0, fig.canvas.width, fig.canvas.height);\n",
       "            }\n",
       "            fig.context.drawImage(fig.imageObj, 0, 0);\n",
       "        };\n",
       "\n",
       "    this.imageObj.onunload = function() {\n",
       "        fig.ws.close();\n",
       "    }\n",
       "\n",
       "    this.ws.onmessage = this._make_on_message_function(this);\n",
       "\n",
       "    this.ondownload = ondownload;\n",
       "}\n",
       "\n",
       "mpl.figure.prototype._init_header = function() {\n",
       "    var titlebar = $(\n",
       "        '<div class=\"ui-dialog-titlebar ui-widget-header ui-corner-all ' +\n",
       "        'ui-helper-clearfix\"/>');\n",
       "    var titletext = $(\n",
       "        '<div class=\"ui-dialog-title\" style=\"width: 100%; ' +\n",
       "        'text-align: center; padding: 3px;\"/>');\n",
       "    titlebar.append(titletext)\n",
       "    this.root.append(titlebar);\n",
       "    this.header = titletext[0];\n",
       "}\n",
       "\n",
       "\n",
       "\n",
       "mpl.figure.prototype._canvas_extra_style = function(canvas_div) {\n",
       "\n",
       "}\n",
       "\n",
       "\n",
       "mpl.figure.prototype._root_extra_style = function(canvas_div) {\n",
       "\n",
       "}\n",
       "\n",
       "mpl.figure.prototype._init_canvas = function() {\n",
       "    var fig = this;\n",
       "\n",
       "    var canvas_div = $('<div/>');\n",
       "\n",
       "    canvas_div.attr('style', 'position: relative; clear: both; outline: 0');\n",
       "\n",
       "    function canvas_keyboard_event(event) {\n",
       "        return fig.key_event(event, event['data']);\n",
       "    }\n",
       "\n",
       "    canvas_div.keydown('key_press', canvas_keyboard_event);\n",
       "    canvas_div.keyup('key_release', canvas_keyboard_event);\n",
       "    this.canvas_div = canvas_div\n",
       "    this._canvas_extra_style(canvas_div)\n",
       "    this.root.append(canvas_div);\n",
       "\n",
       "    var canvas = $('<canvas/>');\n",
       "    canvas.addClass('mpl-canvas');\n",
       "    canvas.attr('style', \"left: 0; top: 0; z-index: 0; outline: 0\")\n",
       "\n",
       "    this.canvas = canvas[0];\n",
       "    this.context = canvas[0].getContext(\"2d\");\n",
       "\n",
       "    var backingStore = this.context.backingStorePixelRatio ||\n",
       "\tthis.context.webkitBackingStorePixelRatio ||\n",
       "\tthis.context.mozBackingStorePixelRatio ||\n",
       "\tthis.context.msBackingStorePixelRatio ||\n",
       "\tthis.context.oBackingStorePixelRatio ||\n",
       "\tthis.context.backingStorePixelRatio || 1;\n",
       "\n",
       "    mpl.ratio = (window.devicePixelRatio || 1) / backingStore;\n",
       "\n",
       "    var rubberband = $('<canvas/>');\n",
       "    rubberband.attr('style', \"position: absolute; left: 0; top: 0; z-index: 1;\")\n",
       "\n",
       "    var pass_mouse_events = true;\n",
       "\n",
       "    canvas_div.resizable({\n",
       "        start: function(event, ui) {\n",
       "            pass_mouse_events = false;\n",
       "        },\n",
       "        resize: function(event, ui) {\n",
       "            fig.request_resize(ui.size.width, ui.size.height);\n",
       "        },\n",
       "        stop: function(event, ui) {\n",
       "            pass_mouse_events = true;\n",
       "            fig.request_resize(ui.size.width, ui.size.height);\n",
       "        },\n",
       "    });\n",
       "\n",
       "    function mouse_event_fn(event) {\n",
       "        if (pass_mouse_events)\n",
       "            return fig.mouse_event(event, event['data']);\n",
       "    }\n",
       "\n",
       "    rubberband.mousedown('button_press', mouse_event_fn);\n",
       "    rubberband.mouseup('button_release', mouse_event_fn);\n",
       "    // Throttle sequential mouse events to 1 every 20ms.\n",
       "    rubberband.mousemove('motion_notify', mouse_event_fn);\n",
       "\n",
       "    rubberband.mouseenter('figure_enter', mouse_event_fn);\n",
       "    rubberband.mouseleave('figure_leave', mouse_event_fn);\n",
       "\n",
       "    canvas_div.on(\"wheel\", function (event) {\n",
       "        event = event.originalEvent;\n",
       "        event['data'] = 'scroll'\n",
       "        if (event.deltaY < 0) {\n",
       "            event.step = 1;\n",
       "        } else {\n",
       "            event.step = -1;\n",
       "        }\n",
       "        mouse_event_fn(event);\n",
       "    });\n",
       "\n",
       "    canvas_div.append(canvas);\n",
       "    canvas_div.append(rubberband);\n",
       "\n",
       "    this.rubberband = rubberband;\n",
       "    this.rubberband_canvas = rubberband[0];\n",
       "    this.rubberband_context = rubberband[0].getContext(\"2d\");\n",
       "    this.rubberband_context.strokeStyle = \"#000000\";\n",
       "\n",
       "    this._resize_canvas = function(width, height) {\n",
       "        // Keep the size of the canvas, canvas container, and rubber band\n",
       "        // canvas in synch.\n",
       "        canvas_div.css('width', width)\n",
       "        canvas_div.css('height', height)\n",
       "\n",
       "        canvas.attr('width', width * mpl.ratio);\n",
       "        canvas.attr('height', height * mpl.ratio);\n",
       "        canvas.attr('style', 'width: ' + width + 'px; height: ' + height + 'px;');\n",
       "\n",
       "        rubberband.attr('width', width);\n",
       "        rubberband.attr('height', height);\n",
       "    }\n",
       "\n",
       "    // Set the figure to an initial 600x600px, this will subsequently be updated\n",
       "    // upon first draw.\n",
       "    this._resize_canvas(600, 600);\n",
       "\n",
       "    // Disable right mouse context menu.\n",
       "    $(this.rubberband_canvas).bind(\"contextmenu\",function(e){\n",
       "        return false;\n",
       "    });\n",
       "\n",
       "    function set_focus () {\n",
       "        canvas.focus();\n",
       "        canvas_div.focus();\n",
       "    }\n",
       "\n",
       "    window.setTimeout(set_focus, 100);\n",
       "}\n",
       "\n",
       "mpl.figure.prototype._init_toolbar = function() {\n",
       "    var fig = this;\n",
       "\n",
       "    var nav_element = $('<div/>');\n",
       "    nav_element.attr('style', 'width: 100%');\n",
       "    this.root.append(nav_element);\n",
       "\n",
       "    // Define a callback function for later on.\n",
       "    function toolbar_event(event) {\n",
       "        return fig.toolbar_button_onclick(event['data']);\n",
       "    }\n",
       "    function toolbar_mouse_event(event) {\n",
       "        return fig.toolbar_button_onmouseover(event['data']);\n",
       "    }\n",
       "\n",
       "    for(var toolbar_ind in mpl.toolbar_items) {\n",
       "        var name = mpl.toolbar_items[toolbar_ind][0];\n",
       "        var tooltip = mpl.toolbar_items[toolbar_ind][1];\n",
       "        var image = mpl.toolbar_items[toolbar_ind][2];\n",
       "        var method_name = mpl.toolbar_items[toolbar_ind][3];\n",
       "\n",
       "        if (!name) {\n",
       "            // put a spacer in here.\n",
       "            continue;\n",
       "        }\n",
       "        var button = $('<button/>');\n",
       "        button.addClass('ui-button ui-widget ui-state-default ui-corner-all ' +\n",
       "                        'ui-button-icon-only');\n",
       "        button.attr('role', 'button');\n",
       "        button.attr('aria-disabled', 'false');\n",
       "        button.click(method_name, toolbar_event);\n",
       "        button.mouseover(tooltip, toolbar_mouse_event);\n",
       "\n",
       "        var icon_img = $('<span/>');\n",
       "        icon_img.addClass('ui-button-icon-primary ui-icon');\n",
       "        icon_img.addClass(image);\n",
       "        icon_img.addClass('ui-corner-all');\n",
       "\n",
       "        var tooltip_span = $('<span/>');\n",
       "        tooltip_span.addClass('ui-button-text');\n",
       "        tooltip_span.html(tooltip);\n",
       "\n",
       "        button.append(icon_img);\n",
       "        button.append(tooltip_span);\n",
       "\n",
       "        nav_element.append(button);\n",
       "    }\n",
       "\n",
       "    var fmt_picker_span = $('<span/>');\n",
       "\n",
       "    var fmt_picker = $('<select/>');\n",
       "    fmt_picker.addClass('mpl-toolbar-option ui-widget ui-widget-content');\n",
       "    fmt_picker_span.append(fmt_picker);\n",
       "    nav_element.append(fmt_picker_span);\n",
       "    this.format_dropdown = fmt_picker[0];\n",
       "\n",
       "    for (var ind in mpl.extensions) {\n",
       "        var fmt = mpl.extensions[ind];\n",
       "        var option = $(\n",
       "            '<option/>', {selected: fmt === mpl.default_extension}).html(fmt);\n",
       "        fmt_picker.append(option);\n",
       "    }\n",
       "\n",
       "    // Add hover states to the ui-buttons\n",
       "    $( \".ui-button\" ).hover(\n",
       "        function() { $(this).addClass(\"ui-state-hover\");},\n",
       "        function() { $(this).removeClass(\"ui-state-hover\");}\n",
       "    );\n",
       "\n",
       "    var status_bar = $('<span class=\"mpl-message\"/>');\n",
       "    nav_element.append(status_bar);\n",
       "    this.message = status_bar[0];\n",
       "}\n",
       "\n",
       "mpl.figure.prototype.request_resize = function(x_pixels, y_pixels) {\n",
       "    // Request matplotlib to resize the figure. Matplotlib will then trigger a resize in the client,\n",
       "    // which will in turn request a refresh of the image.\n",
       "    this.send_message('resize', {'width': x_pixels, 'height': y_pixels});\n",
       "}\n",
       "\n",
       "mpl.figure.prototype.send_message = function(type, properties) {\n",
       "    properties['type'] = type;\n",
       "    properties['figure_id'] = this.id;\n",
       "    this.ws.send(JSON.stringify(properties));\n",
       "}\n",
       "\n",
       "mpl.figure.prototype.send_draw_message = function() {\n",
       "    if (!this.waiting) {\n",
       "        this.waiting = true;\n",
       "        this.ws.send(JSON.stringify({type: \"draw\", figure_id: this.id}));\n",
       "    }\n",
       "}\n",
       "\n",
       "\n",
       "mpl.figure.prototype.handle_save = function(fig, msg) {\n",
       "    var format_dropdown = fig.format_dropdown;\n",
       "    var format = format_dropdown.options[format_dropdown.selectedIndex].value;\n",
       "    fig.ondownload(fig, format);\n",
       "}\n",
       "\n",
       "\n",
       "mpl.figure.prototype.handle_resize = function(fig, msg) {\n",
       "    var size = msg['size'];\n",
       "    if (size[0] != fig.canvas.width || size[1] != fig.canvas.height) {\n",
       "        fig._resize_canvas(size[0], size[1]);\n",
       "        fig.send_message(\"refresh\", {});\n",
       "    };\n",
       "}\n",
       "\n",
       "mpl.figure.prototype.handle_rubberband = function(fig, msg) {\n",
       "    var x0 = msg['x0'] / mpl.ratio;\n",
       "    var y0 = (fig.canvas.height - msg['y0']) / mpl.ratio;\n",
       "    var x1 = msg['x1'] / mpl.ratio;\n",
       "    var y1 = (fig.canvas.height - msg['y1']) / mpl.ratio;\n",
       "    x0 = Math.floor(x0) + 0.5;\n",
       "    y0 = Math.floor(y0) + 0.5;\n",
       "    x1 = Math.floor(x1) + 0.5;\n",
       "    y1 = Math.floor(y1) + 0.5;\n",
       "    var min_x = Math.min(x0, x1);\n",
       "    var min_y = Math.min(y0, y1);\n",
       "    var width = Math.abs(x1 - x0);\n",
       "    var height = Math.abs(y1 - y0);\n",
       "\n",
       "    fig.rubberband_context.clearRect(\n",
       "        0, 0, fig.canvas.width / mpl.ratio, fig.canvas.height / mpl.ratio);\n",
       "\n",
       "    fig.rubberband_context.strokeRect(min_x, min_y, width, height);\n",
       "}\n",
       "\n",
       "mpl.figure.prototype.handle_figure_label = function(fig, msg) {\n",
       "    // Updates the figure title.\n",
       "    fig.header.textContent = msg['label'];\n",
       "}\n",
       "\n",
       "mpl.figure.prototype.handle_cursor = function(fig, msg) {\n",
       "    var cursor = msg['cursor'];\n",
       "    switch(cursor)\n",
       "    {\n",
       "    case 0:\n",
       "        cursor = 'pointer';\n",
       "        break;\n",
       "    case 1:\n",
       "        cursor = 'default';\n",
       "        break;\n",
       "    case 2:\n",
       "        cursor = 'crosshair';\n",
       "        break;\n",
       "    case 3:\n",
       "        cursor = 'move';\n",
       "        break;\n",
       "    }\n",
       "    fig.rubberband_canvas.style.cursor = cursor;\n",
       "}\n",
       "\n",
       "mpl.figure.prototype.handle_message = function(fig, msg) {\n",
       "    fig.message.textContent = msg['message'];\n",
       "}\n",
       "\n",
       "mpl.figure.prototype.handle_draw = function(fig, msg) {\n",
       "    // Request the server to send over a new figure.\n",
       "    fig.send_draw_message();\n",
       "}\n",
       "\n",
       "mpl.figure.prototype.handle_image_mode = function(fig, msg) {\n",
       "    fig.image_mode = msg['mode'];\n",
       "}\n",
       "\n",
       "mpl.figure.prototype.updated_canvas_event = function() {\n",
       "    // Called whenever the canvas gets updated.\n",
       "    this.send_message(\"ack\", {});\n",
       "}\n",
       "\n",
       "// A function to construct a web socket function for onmessage handling.\n",
       "// Called in the figure constructor.\n",
       "mpl.figure.prototype._make_on_message_function = function(fig) {\n",
       "    return function socket_on_message(evt) {\n",
       "        if (evt.data instanceof Blob) {\n",
       "            /* FIXME: We get \"Resource interpreted as Image but\n",
       "             * transferred with MIME type text/plain:\" errors on\n",
       "             * Chrome.  But how to set the MIME type?  It doesn't seem\n",
       "             * to be part of the websocket stream */\n",
       "            evt.data.type = \"image/png\";\n",
       "\n",
       "            /* Free the memory for the previous frames */\n",
       "            if (fig.imageObj.src) {\n",
       "                (window.URL || window.webkitURL).revokeObjectURL(\n",
       "                    fig.imageObj.src);\n",
       "            }\n",
       "\n",
       "            fig.imageObj.src = (window.URL || window.webkitURL).createObjectURL(\n",
       "                evt.data);\n",
       "            fig.updated_canvas_event();\n",
       "            fig.waiting = false;\n",
       "            return;\n",
       "        }\n",
       "        else if (typeof evt.data === 'string' && evt.data.slice(0, 21) == \"data:image/png;base64\") {\n",
       "            fig.imageObj.src = evt.data;\n",
       "            fig.updated_canvas_event();\n",
       "            fig.waiting = false;\n",
       "            return;\n",
       "        }\n",
       "\n",
       "        var msg = JSON.parse(evt.data);\n",
       "        var msg_type = msg['type'];\n",
       "\n",
       "        // Call the  \"handle_{type}\" callback, which takes\n",
       "        // the figure and JSON message as its only arguments.\n",
       "        try {\n",
       "            var callback = fig[\"handle_\" + msg_type];\n",
       "        } catch (e) {\n",
       "            console.log(\"No handler for the '\" + msg_type + \"' message type: \", msg);\n",
       "            return;\n",
       "        }\n",
       "\n",
       "        if (callback) {\n",
       "            try {\n",
       "                // console.log(\"Handling '\" + msg_type + \"' message: \", msg);\n",
       "                callback(fig, msg);\n",
       "            } catch (e) {\n",
       "                console.log(\"Exception inside the 'handler_\" + msg_type + \"' callback:\", e, e.stack, msg);\n",
       "            }\n",
       "        }\n",
       "    };\n",
       "}\n",
       "\n",
       "// from http://stackoverflow.com/questions/1114465/getting-mouse-location-in-canvas\n",
       "mpl.findpos = function(e) {\n",
       "    //this section is from http://www.quirksmode.org/js/events_properties.html\n",
       "    var targ;\n",
       "    if (!e)\n",
       "        e = window.event;\n",
       "    if (e.target)\n",
       "        targ = e.target;\n",
       "    else if (e.srcElement)\n",
       "        targ = e.srcElement;\n",
       "    if (targ.nodeType == 3) // defeat Safari bug\n",
       "        targ = targ.parentNode;\n",
       "\n",
       "    // jQuery normalizes the pageX and pageY\n",
       "    // pageX,Y are the mouse positions relative to the document\n",
       "    // offset() returns the position of the element relative to the document\n",
       "    var x = e.pageX - $(targ).offset().left;\n",
       "    var y = e.pageY - $(targ).offset().top;\n",
       "\n",
       "    return {\"x\": x, \"y\": y};\n",
       "};\n",
       "\n",
       "/*\n",
       " * return a copy of an object with only non-object keys\n",
       " * we need this to avoid circular references\n",
       " * http://stackoverflow.com/a/24161582/3208463\n",
       " */\n",
       "function simpleKeys (original) {\n",
       "  return Object.keys(original).reduce(function (obj, key) {\n",
       "    if (typeof original[key] !== 'object')\n",
       "        obj[key] = original[key]\n",
       "    return obj;\n",
       "  }, {});\n",
       "}\n",
       "\n",
       "mpl.figure.prototype.mouse_event = function(event, name) {\n",
       "    var canvas_pos = mpl.findpos(event)\n",
       "\n",
       "    if (name === 'button_press')\n",
       "    {\n",
       "        this.canvas.focus();\n",
       "        this.canvas_div.focus();\n",
       "    }\n",
       "\n",
       "    var x = canvas_pos.x * mpl.ratio;\n",
       "    var y = canvas_pos.y * mpl.ratio;\n",
       "\n",
       "    this.send_message(name, {x: x, y: y, button: event.button,\n",
       "                             step: event.step,\n",
       "                             guiEvent: simpleKeys(event)});\n",
       "\n",
       "    /* This prevents the web browser from automatically changing to\n",
       "     * the text insertion cursor when the button is pressed.  We want\n",
       "     * to control all of the cursor setting manually through the\n",
       "     * 'cursor' event from matplotlib */\n",
       "    event.preventDefault();\n",
       "    return false;\n",
       "}\n",
       "\n",
       "mpl.figure.prototype._key_event_extra = function(event, name) {\n",
       "    // Handle any extra behaviour associated with a key event\n",
       "}\n",
       "\n",
       "mpl.figure.prototype.key_event = function(event, name) {\n",
       "\n",
       "    // Prevent repeat events\n",
       "    if (name == 'key_press')\n",
       "    {\n",
       "        if (event.which === this._key)\n",
       "            return;\n",
       "        else\n",
       "            this._key = event.which;\n",
       "    }\n",
       "    if (name == 'key_release')\n",
       "        this._key = null;\n",
       "\n",
       "    var value = '';\n",
       "    if (event.ctrlKey && event.which != 17)\n",
       "        value += \"ctrl+\";\n",
       "    if (event.altKey && event.which != 18)\n",
       "        value += \"alt+\";\n",
       "    if (event.shiftKey && event.which != 16)\n",
       "        value += \"shift+\";\n",
       "\n",
       "    value += 'k';\n",
       "    value += event.which.toString();\n",
       "\n",
       "    this._key_event_extra(event, name);\n",
       "\n",
       "    this.send_message(name, {key: value,\n",
       "                             guiEvent: simpleKeys(event)});\n",
       "    return false;\n",
       "}\n",
       "\n",
       "mpl.figure.prototype.toolbar_button_onclick = function(name) {\n",
       "    if (name == 'download') {\n",
       "        this.handle_save(this, null);\n",
       "    } else {\n",
       "        this.send_message(\"toolbar_button\", {name: name});\n",
       "    }\n",
       "};\n",
       "\n",
       "mpl.figure.prototype.toolbar_button_onmouseover = function(tooltip) {\n",
       "    this.message.textContent = tooltip;\n",
       "};\n",
       "mpl.toolbar_items = [[\"Home\", \"Reset original view\", \"fa fa-home icon-home\", \"home\"], [\"Back\", \"Back to previous view\", \"fa fa-arrow-left icon-arrow-left\", \"back\"], [\"Forward\", \"Forward to next view\", \"fa fa-arrow-right icon-arrow-right\", \"forward\"], [\"\", \"\", \"\", \"\"], [\"Pan\", \"Pan axes with left mouse, zoom with right\", \"fa fa-arrows icon-move\", \"pan\"], [\"Zoom\", \"Zoom to rectangle\", \"fa fa-square-o icon-check-empty\", \"zoom\"], [\"\", \"\", \"\", \"\"], [\"Download\", \"Download plot\", \"fa fa-floppy-o icon-save\", \"download\"]];\n",
       "\n",
       "mpl.extensions = [\"eps\", \"pdf\", \"png\", \"ps\", \"raw\", \"svg\"];\n",
       "\n",
       "mpl.default_extension = \"png\";var comm_websocket_adapter = function(comm) {\n",
       "    // Create a \"websocket\"-like object which calls the given IPython comm\n",
       "    // object with the appropriate methods. Currently this is a non binary\n",
       "    // socket, so there is still some room for performance tuning.\n",
       "    var ws = {};\n",
       "\n",
       "    ws.close = function() {\n",
       "        comm.close()\n",
       "    };\n",
       "    ws.send = function(m) {\n",
       "        //console.log('sending', m);\n",
       "        comm.send(m);\n",
       "    };\n",
       "    // Register the callback with on_msg.\n",
       "    comm.on_msg(function(msg) {\n",
       "        //console.log('receiving', msg['content']['data'], msg);\n",
       "        // Pass the mpl event to the overridden (by mpl) onmessage function.\n",
       "        ws.onmessage(msg['content']['data'])\n",
       "    });\n",
       "    return ws;\n",
       "}\n",
       "\n",
       "mpl.mpl_figure_comm = function(comm, msg) {\n",
       "    // This is the function which gets called when the mpl process\n",
       "    // starts-up an IPython Comm through the \"matplotlib\" channel.\n",
       "\n",
       "    var id = msg.content.data.id;\n",
       "    // Get hold of the div created by the display call when the Comm\n",
       "    // socket was opened in Python.\n",
       "    var element = $(\"#\" + id);\n",
       "    var ws_proxy = comm_websocket_adapter(comm)\n",
       "\n",
       "    function ondownload(figure, format) {\n",
       "        window.open(figure.imageObj.src);\n",
       "    }\n",
       "\n",
       "    var fig = new mpl.figure(id, ws_proxy,\n",
       "                           ondownload,\n",
       "                           element.get(0));\n",
       "\n",
       "    // Call onopen now - mpl needs it, as it is assuming we've passed it a real\n",
       "    // web socket which is closed, not our websocket->open comm proxy.\n",
       "    ws_proxy.onopen();\n",
       "\n",
       "    fig.parent_element = element.get(0);\n",
       "    fig.cell_info = mpl.find_output_cell(\"<div id='\" + id + \"'></div>\");\n",
       "    if (!fig.cell_info) {\n",
       "        console.error(\"Failed to find cell for figure\", id, fig);\n",
       "        return;\n",
       "    }\n",
       "\n",
       "    var output_index = fig.cell_info[2]\n",
       "    var cell = fig.cell_info[0];\n",
       "\n",
       "};\n",
       "\n",
       "mpl.figure.prototype.handle_close = function(fig, msg) {\n",
       "    var width = fig.canvas.width/mpl.ratio\n",
       "    fig.root.unbind('remove')\n",
       "\n",
       "    // Update the output cell to use the data from the current canvas.\n",
       "    fig.push_to_output();\n",
       "    var dataURL = fig.canvas.toDataURL();\n",
       "    // Re-enable the keyboard manager in IPython - without this line, in FF,\n",
       "    // the notebook keyboard shortcuts fail.\n",
       "    IPython.keyboard_manager.enable()\n",
       "    $(fig.parent_element).html('<img src=\"' + dataURL + '\" width=\"' + width + '\">');\n",
       "    fig.close_ws(fig, msg);\n",
       "}\n",
       "\n",
       "mpl.figure.prototype.close_ws = function(fig, msg){\n",
       "    fig.send_message('closing', msg);\n",
       "    // fig.ws.close()\n",
       "}\n",
       "\n",
       "mpl.figure.prototype.push_to_output = function(remove_interactive) {\n",
       "    // Turn the data on the canvas into data in the output cell.\n",
       "    var width = this.canvas.width/mpl.ratio\n",
       "    var dataURL = this.canvas.toDataURL();\n",
       "    this.cell_info[1]['text/html'] = '<img src=\"' + dataURL + '\" width=\"' + width + '\">';\n",
       "}\n",
       "\n",
       "mpl.figure.prototype.updated_canvas_event = function() {\n",
       "    // Tell IPython that the notebook contents must change.\n",
       "    IPython.notebook.set_dirty(true);\n",
       "    this.send_message(\"ack\", {});\n",
       "    var fig = this;\n",
       "    // Wait a second, then push the new image to the DOM so\n",
       "    // that it is saved nicely (might be nice to debounce this).\n",
       "    setTimeout(function () { fig.push_to_output() }, 1000);\n",
       "}\n",
       "\n",
       "mpl.figure.prototype._init_toolbar = function() {\n",
       "    var fig = this;\n",
       "\n",
       "    var nav_element = $('<div/>');\n",
       "    nav_element.attr('style', 'width: 100%');\n",
       "    this.root.append(nav_element);\n",
       "\n",
       "    // Define a callback function for later on.\n",
       "    function toolbar_event(event) {\n",
       "        return fig.toolbar_button_onclick(event['data']);\n",
       "    }\n",
       "    function toolbar_mouse_event(event) {\n",
       "        return fig.toolbar_button_onmouseover(event['data']);\n",
       "    }\n",
       "\n",
       "    for(var toolbar_ind in mpl.toolbar_items){\n",
       "        var name = mpl.toolbar_items[toolbar_ind][0];\n",
       "        var tooltip = mpl.toolbar_items[toolbar_ind][1];\n",
       "        var image = mpl.toolbar_items[toolbar_ind][2];\n",
       "        var method_name = mpl.toolbar_items[toolbar_ind][3];\n",
       "\n",
       "        if (!name) { continue; };\n",
       "\n",
       "        var button = $('<button class=\"btn btn-default\" href=\"#\" title=\"' + name + '\"><i class=\"fa ' + image + ' fa-lg\"></i></button>');\n",
       "        button.click(method_name, toolbar_event);\n",
       "        button.mouseover(tooltip, toolbar_mouse_event);\n",
       "        nav_element.append(button);\n",
       "    }\n",
       "\n",
       "    // Add the status bar.\n",
       "    var status_bar = $('<span class=\"mpl-message\" style=\"text-align:right; float: right;\"/>');\n",
       "    nav_element.append(status_bar);\n",
       "    this.message = status_bar[0];\n",
       "\n",
       "    // Add the close button to the window.\n",
       "    var buttongrp = $('<div class=\"btn-group inline pull-right\"></div>');\n",
       "    var button = $('<button class=\"btn btn-mini btn-primary\" href=\"#\" title=\"Stop Interaction\"><i class=\"fa fa-power-off icon-remove icon-large\"></i></button>');\n",
       "    button.click(function (evt) { fig.handle_close(fig, {}); } );\n",
       "    button.mouseover('Stop Interaction', toolbar_mouse_event);\n",
       "    buttongrp.append(button);\n",
       "    var titlebar = this.root.find($('.ui-dialog-titlebar'));\n",
       "    titlebar.prepend(buttongrp);\n",
       "}\n",
       "\n",
       "mpl.figure.prototype._root_extra_style = function(el){\n",
       "    var fig = this\n",
       "    el.on(\"remove\", function(){\n",
       "\tfig.close_ws(fig, {});\n",
       "    });\n",
       "}\n",
       "\n",
       "mpl.figure.prototype._canvas_extra_style = function(el){\n",
       "    // this is important to make the div 'focusable\n",
       "    el.attr('tabindex', 0)\n",
       "    // reach out to IPython and tell the keyboard manager to turn it's self\n",
       "    // off when our div gets focus\n",
       "\n",
       "    // location in version 3\n",
       "    if (IPython.notebook.keyboard_manager) {\n",
       "        IPython.notebook.keyboard_manager.register_events(el);\n",
       "    }\n",
       "    else {\n",
       "        // location in version 2\n",
       "        IPython.keyboard_manager.register_events(el);\n",
       "    }\n",
       "\n",
       "}\n",
       "\n",
       "mpl.figure.prototype._key_event_extra = function(event, name) {\n",
       "    var manager = IPython.notebook.keyboard_manager;\n",
       "    if (!manager)\n",
       "        manager = IPython.keyboard_manager;\n",
       "\n",
       "    // Check for shift+enter\n",
       "    if (event.shiftKey && event.which == 13) {\n",
       "        this.canvas_div.blur();\n",
       "        // select the cell after this one\n",
       "        var index = IPython.notebook.find_cell_index(this.cell_info[0]);\n",
       "        IPython.notebook.select(index + 1);\n",
       "    }\n",
       "}\n",
       "\n",
       "mpl.figure.prototype.handle_save = function(fig, msg) {\n",
       "    fig.ondownload(fig, null);\n",
       "}\n",
       "\n",
       "\n",
       "mpl.find_output_cell = function(html_output) {\n",
       "    // Return the cell and output element which can be found *uniquely* in the notebook.\n",
       "    // Note - this is a bit hacky, but it is done because the \"notebook_saving.Notebook\"\n",
       "    // IPython event is triggered only after the cells have been serialised, which for\n",
       "    // our purposes (turning an active figure into a static one), is too late.\n",
       "    var cells = IPython.notebook.get_cells();\n",
       "    var ncells = cells.length;\n",
       "    for (var i=0; i<ncells; i++) {\n",
       "        var cell = cells[i];\n",
       "        if (cell.cell_type === 'code'){\n",
       "            for (var j=0; j<cell.output_area.outputs.length; j++) {\n",
       "                var data = cell.output_area.outputs[j];\n",
       "                if (data.data) {\n",
       "                    // IPython >= 3 moved mimebundle to data attribute of output\n",
       "                    data = data.data;\n",
       "                }\n",
       "                if (data['text/html'] == html_output) {\n",
       "                    return [cell, data, j];\n",
       "                }\n",
       "            }\n",
       "        }\n",
       "    }\n",
       "}\n",
       "\n",
       "// Register the function which deals with the matplotlib target/channel.\n",
       "// The kernel may be null if the page has been refreshed.\n",
       "if (IPython.notebook.kernel != null) {\n",
       "    IPython.notebook.kernel.comm_manager.register_target('matplotlib', mpl.mpl_figure_comm);\n",
       "}\n"
      ],
      "text/plain": [
       "<IPython.core.display.Javascript object>"
      ]
     },
     "metadata": {},
     "output_type": "display_data"
    },
    {
     "data": {
      "text/html": [
       "<img src=\"data:image/png;base64,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\" width=\"640\">"
      ],
      "text/plain": [
       "<IPython.core.display.HTML object>"
      ]
     },
     "metadata": {},
     "output_type": "display_data"
    }
   ],
   "source": [
    "import pandas as pd\n",
    "\n",
    "pd.DataFrame(history.history).plot()\n",
    "plt.grid(True)\n",
    "plt.title('Model performance throughout training')\n",
    "plt.ylabel('Loss')\n",
    "plt.xlabel('epoch')\n",
    "plt.legend(['train', 'val'], loc='upper right')\n",
    "plt.show()"
   ]
  },
  {
   "cell_type": "markdown",
   "metadata": {
    "slideshow": {
     "slide_type": "slide"
    }
   },
   "source": [
    "## Evaluate model\n",
    "\n",
    "Predict on val set:"
   ]
  },
  {
   "cell_type": "code",
   "execution_count": 17,
   "metadata": {
    "slideshow": {
     "slide_type": "fragment"
    }
   },
   "outputs": [],
   "source": [
    "pred = model.predict(X_val_scaled)"
   ]
  },
  {
   "cell_type": "markdown",
   "metadata": {
    "slideshow": {
     "slide_type": "fragment"
    }
   },
   "source": [
    "Wait... what are we predicting again?"
   ]
  },
  {
   "cell_type": "code",
   "execution_count": 18,
   "metadata": {
    "slideshow": {
     "slide_type": "fragment"
    }
   },
   "outputs": [],
   "source": [
    "y_pred_log_scaled = pred"
   ]
  },
  {
   "cell_type": "markdown",
   "metadata": {
    "slideshow": {
     "slide_type": "slide"
    }
   },
   "source": [
    "De-normalize predictions:"
   ]
  },
  {
   "cell_type": "code",
   "execution_count": 19,
   "metadata": {
    "slideshow": {
     "slide_type": "fragment"
    }
   },
   "outputs": [],
   "source": [
    "y_pred_log = scaler_Y_log.inverse_transform(y_pred_log_scaled)"
   ]
  },
  {
   "cell_type": "markdown",
   "metadata": {
    "slideshow": {
     "slide_type": "fragment"
    }
   },
   "source": [
    "Go back from log-dollars to dollars:"
   ]
  },
  {
   "cell_type": "code",
   "execution_count": 20,
   "metadata": {
    "slideshow": {
     "slide_type": "fragment"
    }
   },
   "outputs": [],
   "source": [
    "from numpy import exp\n",
    "y_pred = exp(y_pred_log)"
   ]
  },
  {
   "cell_type": "markdown",
   "metadata": {
    "slideshow": {
     "slide_type": "slide"
    }
   },
   "source": [
    "Compute performance metrics:"
   ]
  },
  {
   "cell_type": "code",
   "execution_count": 21,
   "metadata": {
    "slideshow": {
     "slide_type": "fragment"
    }
   },
   "outputs": [
    {
     "name": "stdout",
     "output_type": "stream",
     "text": [
      "0.8206844312717905\n"
     ]
    }
   ],
   "source": [
    "from sklearn import metrics\n",
    "print(metrics.r2_score(y_val, y_pred))"
   ]
  },
  {
   "cell_type": "code",
   "execution_count": 22,
   "metadata": {
    "slideshow": {
     "slide_type": "fragment"
    }
   },
   "outputs": [
    {
     "name": "stdout",
     "output_type": "stream",
     "text": [
      "0.8094962825487928\n"
     ]
    }
   ],
   "source": [
    "from sklearn import metrics\n",
    "print(metrics.r2_score(y_val_log, y_pred_log))"
   ]
  },
  {
   "cell_type": "code",
   "execution_count": 23,
   "metadata": {
    "slideshow": {
     "slide_type": "fragment"
    }
   },
   "outputs": [
    {
     "data": {
      "text/plain": [
       "0.181624643134601"
      ]
     },
     "execution_count": 23,
     "metadata": {},
     "output_type": "execute_result"
    }
   ],
   "source": [
    "from math import sqrt\n",
    "sqrt(metrics.mean_squared_error(y_val_log, y_pred_log))"
   ]
  },
  {
   "cell_type": "code",
   "execution_count": null,
   "metadata": {},
   "outputs": [],
   "source": []
  }
 ],
 "metadata": {
  "kernelspec": {
   "display_name": "Python 3",
   "language": "python",
   "name": "python3"
  },
  "language_info": {
   "codemirror_mode": {
    "name": "ipython",
    "version": 3
   },
   "file_extension": ".py",
   "mimetype": "text/x-python",
   "name": "python",
   "nbconvert_exporter": "python",
   "pygments_lexer": "ipython3",
   "version": "3.7.3"
  },
  "livereveal": {
   "scroll": true
  },
  "toc": {
   "base_numbering": 1,
   "nav_menu": {},
   "number_sections": false,
   "sideBar": true,
   "skip_h1_title": true,
   "title_cell": "Table of Contents",
   "title_sidebar": "Contents",
   "toc_cell": false,
   "toc_position": {},
   "toc_section_display": true,
   "toc_window_display": false
  }
 },
 "nbformat": 4,
 "nbformat_minor": 2
}
